{
 "metadata": {
  "name": "",
  "signature": "sha256:0cb0dbe4be10cebeb6a98b1ceae72826f15f13cfdd93681d528cf5db78548cd1"
 },
 "nbformat": 3,
 "nbformat_minor": 0,
 "worksheets": [
  {
   "cells": [
    {
     "cell_type": "code",
     "collapsed": false,
     "input": [
      "from bs4 import BeautifulSoup\n",
      "import urllib\n",
      "import numpy as np\n",
      "import pandas as pd\n",
      "import string\n",
      "#import nltk\n",
      "from string import maketrans\n",
      "import random\n",
      "import csv\n",
      "import sys\n",
      "\n",
      "csv.field_size_limit(sys.maxsize)"
     ],
     "language": "python",
     "metadata": {},
     "outputs": [
      {
       "metadata": {},
       "output_type": "pyout",
       "prompt_number": 3,
       "text": [
        "131072"
       ]
      }
     ],
     "prompt_number": 3
    },
    {
     "cell_type": "code",
     "collapsed": false,
     "input": [
      "def get_soup(article):\n",
      "    page = urllib.urlopen(article)\n",
      "    return BeautifulSoup(page)"
     ],
     "language": "python",
     "metadata": {},
     "outputs": [],
     "prompt_number": 4
    },
    {
     "cell_type": "code",
     "collapsed": false,
     "input": [
      "base_url = 'https://en.wikipedia.org/wiki/'"
     ],
     "language": "python",
     "metadata": {},
     "outputs": [],
     "prompt_number": 5
    },
    {
     "cell_type": "code",
     "collapsed": false,
     "input": [
      "names = open('graded_files/start-class_articles.txt', 'r').readlines()"
     ],
     "language": "python",
     "metadata": {},
     "outputs": [],
     "prompt_number": 6
    },
    {
     "cell_type": "code",
     "collapsed": false,
     "input": [
      "def load_csv(filename):\n",
      "    soups = []\n",
      "    fil = open(filename, 'rb')\n",
      "    reader = csv.reader(fil)\n",
      "    for row in reader:\n",
      "        soups.append(row[0])\n",
      "    return soups\n",
      "    "
     ],
     "language": "python",
     "metadata": {},
     "outputs": [],
     "prompt_number": 7
    },
    {
     "cell_type": "code",
     "collapsed": false,
     "input": [
      "def load_text(filename):\n",
      "    fil = open(filename, 'r')\n",
      "    names = fil.readlines()\n",
      "    return names"
     ],
     "language": "python",
     "metadata": {},
     "outputs": [],
     "prompt_number": 8
    },
    {
     "cell_type": "code",
     "collapsed": false,
     "input": [
      "names = load_text"
     ],
     "language": "python",
     "metadata": {},
     "outputs": []
    },
    {
     "cell_type": "code",
     "collapsed": false,
     "input": [
      "def get_pages(url, visited_pages):\n",
      "    page_list = []\n",
      "    base_url = \"https://en.wikipedia.org\"\n",
      "    cur_page = urllib.urlopen(url)\n",
      "    cur_page_soup = BeautifulSoup(cur_page)\n",
      "    if str(cur_page_soup.title) in visited_pages:\n",
      "        return []\n",
      "    visited_pages.append(str(cur_page_soup.title))\n",
      "    #print \"At page: \"+str(cur_page_soup.title)\n",
      "    if not cur_page_soup.find(\"div\", id=\"mw-subcategories\"):\n",
      "        #print \"Terminal page found\"\n",
      "        if cur_page_soup.find(\"div\", id=\"mw-pages\"):\n",
      "            link_elements = cur_page_soup.find(\"div\", id=\"mw-pages\").find_all(\"li\")\n",
      "            for element in link_elements:\n",
      "                page_list.append(element.a['href'])\n",
      "                \n",
      "    else:\n",
      "        subcat_elements = cur_page_soup.find(\"div\", id=\"mw-subcategories\").find_all(\"li\")\n",
      "        for element in subcat_elements:\n",
      "            temp_page_list = get_pages(base_url+element.a['href'], visited_pages)\n",
      "            page_list.extend(temp_page_list)\n",
      "        #print \"At page: \"+str(cur_page_soup.title)\n",
      "        if cur_page_soup.find(\"div\", id=\"mw-pages\"):\n",
      "            link_elements = cur_page_soup.find(\"div\", id=\"mw-pages\").find_all(\"li\")\n",
      "            for element in link_elements:\n",
      "                page_list.append(element.a['href'])\n",
      "    return page_list"
     ],
     "language": "python",
     "metadata": {},
     "outputs": [],
     "prompt_number": 9
    },
    {
     "cell_type": "code",
     "collapsed": false,
     "input": [
      "files = ['graded_files_updated/featured_articles.txt', 'graded_files_updated/a-class_articles.txt', 'graded_files_updated/good_articles.txt', 'graded_files_updated/b-class_articles.txt', 'graded_files_updated/c-class_articles.txt', 'graded_files_updated/start-class_articles.txt', 'graded_files_updated/stub-class_articles.txt']"
     ],
     "language": "python",
     "metadata": {},
     "outputs": [],
     "prompt_number": 10
    },
    {
     "cell_type": "code",
     "collapsed": false,
     "input": [
      "name_files = ['names_fea.txt', 'names_a-c.txt', 'names_goo.txt', 'names_b-c.txt', 'names_c-c.txt', 'names_sta.txt', 'names_stu.txt']"
     ],
     "language": "python",
     "metadata": {},
     "outputs": [],
     "prompt_number": 24
    },
    {
     "cell_type": "code",
     "collapsed": false,
     "input": [
      "soup_files = ['soups_fea.csv', 'soups_a-c.csv', 'soups_goo.csv', 'soups_b-c.csv', 'soups_c-c.csv', 'soups_sta.csv', 'soups_stu.csv']"
     ],
     "language": "python",
     "metadata": {},
     "outputs": [],
     "prompt_number": 25
    },
    {
     "cell_type": "code",
     "collapsed": false,
     "input": [
      "def load():\n",
      "    names = []\n",
      "    soups = []\n",
      "    quality = []\n",
      "    article_length = []\n",
      "    num_wikilinks = []\n",
      "    num_external_links = []\n",
      "    num_images = []\n",
      "    info_noise = []\n",
      "    num_refs = []\n",
      "    num_headings = []\n",
      "    i = 0\n",
      "    while i < len(name_files):\n",
      "        fil = name_files[i]\n",
      "        print fil\n",
      "        lines = load_csv(soup_files[i])\n",
      "        names.extend(lines)\n",
      "        soups.extend(load_csv(soup_files[i]))\n",
      "        for line in lines:\n",
      "            if fil[6] == 'f':\n",
      "                quality.append(7.0)\n",
      "            elif fil[6] == 'a':\n",
      "                quality.append(6.0)\n",
      "            elif fil[6] == 'g':\n",
      "                quality.append(5.0)\n",
      "            elif fil[6] == 'b':\n",
      "                quality.append(4.0)\n",
      "            elif fil[6] == 'c':\n",
      "                quality.append(3.0)\n",
      "            elif fil[6:9] == 'sta':\n",
      "                quality.append(2.0)\n",
      "            elif fil[6:9] == 'stu':\n",
      "                quality.append(1.0)\n",
      "            soup = BeautifulSoup(line)\n",
      "            if soup.title.string == '400 Bad Request':\n",
      "                article_length.append(0)\n",
      "                num_wikilinks.append(0)\n",
      "                num_external_links.append(0)\n",
      "                num_images.append(0)\n",
      "                #info_noise.append(0)\n",
      "                num_headings.append(0)\n",
      "                num_refs.append(0)\n",
      "            else:\n",
      "                (words, length, wikilinks, ext_links, images) = completeness(soup)\n",
      "                article_length.append(length)\n",
      "                num_wikilinks.append(wikilinks)\n",
      "                num_external_links.append(ext_links)\n",
      "                num_images.append(images)\n",
      "                #info_noise.append(informativeness(soup, words))\n",
      "                (headings, refs) = page_stuff(soup)\n",
      "                num_headings.append(headings)\n",
      "                num_refs.append(refs)\n",
      "        i = i + 1\n",
      "        \n",
      "    return (names, soups, quality, article_length, num_wikilinks, num_external_links, num_images, info_noise, num_refs, num_headings)\n",
      "                \n",
      "        "
     ],
     "language": "python",
     "metadata": {},
     "outputs": [],
     "prompt_number": 22
    },
    {
     "cell_type": "code",
     "collapsed": false,
     "input": [
      "(n, s, q, al, nw, ne, ni, i, nr, nh) = load()"
     ],
     "language": "python",
     "metadata": {},
     "outputs": [
      {
       "output_type": "stream",
       "stream": "stdout",
       "text": [
        "names_fea.txt\n",
        "names_a-c.txt"
       ]
      },
      {
       "output_type": "stream",
       "stream": "stdout",
       "text": [
        "\n",
        "names_goo.txt"
       ]
      },
      {
       "output_type": "stream",
       "stream": "stdout",
       "text": [
        "\n",
        "names_b-c.txt"
       ]
      },
      {
       "output_type": "stream",
       "stream": "stdout",
       "text": [
        "\n",
        "names_c-c.txt"
       ]
      },
      {
       "output_type": "stream",
       "stream": "stdout",
       "text": [
        "\n",
        "names_sta.txt"
       ]
      },
      {
       "output_type": "stream",
       "stream": "stdout",
       "text": [
        "\n",
        "names_stu.txt"
       ]
      },
      {
       "output_type": "stream",
       "stream": "stdout",
       "text": [
        "\n"
       ]
      }
     ],
     "prompt_number": 26
    },
    {
     "cell_type": "code",
     "collapsed": false,
     "input": [
      "def write_data(n, s, q, al, nw, ne, ni, i, nr, nh):\n",
      "    fil = open(\"classifier_stats.txt\", 'wb')\n",
      "    wb = csv.writer(fil)\n",
      "    i = 0\n",
      "    while i < len(n):\n",
      "        print i\n",
      "        wb.writerow([n[i], s[i]])#, q[i], al[i], nw[i], ne[i], ni[i], i[i], nr[i], nh[i]])\n",
      "        i = i + 1\n",
      "    fil.close()\n",
      "    "
     ],
     "language": "python",
     "metadata": {},
     "outputs": [],
     "prompt_number": 34
    },
    {
     "cell_type": "code",
     "collapsed": false,
     "input": [
      "write_data(n, s, q, al, nw, ne, ni, i, nr, nh)"
     ],
     "language": "python",
     "metadata": {},
     "outputs": [
      {
       "output_type": "stream",
       "stream": "stdout",
       "text": [
        "0\n",
        "1\n",
        "2\n",
        "3"
       ]
      },
      {
       "output_type": "stream",
       "stream": "stdout",
       "text": [
        "\n",
        "4\n",
        "5\n",
        "6"
       ]
      },
      {
       "output_type": "stream",
       "stream": "stdout",
       "text": [
        "\n",
        "7\n",
        "8\n",
        "9\n",
        "10"
       ]
      },
      {
       "output_type": "stream",
       "stream": "stdout",
       "text": [
        "\n",
        "11\n",
        "12\n",
        "13"
       ]
      },
      {
       "output_type": "stream",
       "stream": "stdout",
       "text": [
        "\n",
        "14\n",
        "15\n",
        "16\n",
        "17"
       ]
      },
      {
       "output_type": "stream",
       "stream": "stdout",
       "text": [
        "\n",
        "18"
       ]
      },
      {
       "output_type": "stream",
       "stream": "stdout",
       "text": [
        "\n",
        "19\n",
        "20\n",
        "21\n",
        "22"
       ]
      },
      {
       "output_type": "stream",
       "stream": "stdout",
       "text": [
        "\n",
        "23\n",
        "24\n",
        "25\n",
        "26"
       ]
      },
      {
       "output_type": "stream",
       "stream": "stdout",
       "text": [
        "\n",
        "27\n",
        "28"
       ]
      },
      {
       "output_type": "stream",
       "stream": "stdout",
       "text": [
        "\n",
        "29\n",
        "30\n",
        "31\n",
        "32\n",
        "33"
       ]
      },
      {
       "output_type": "stream",
       "stream": "stdout",
       "text": [
        "\n",
        "34\n",
        "35"
       ]
      },
      {
       "output_type": "stream",
       "stream": "stdout",
       "text": [
        "\n",
        "36\n",
        "37\n",
        "38"
       ]
      },
      {
       "output_type": "stream",
       "stream": "stdout",
       "text": [
        "\n",
        "39\n",
        "40\n",
        "41\n",
        "42\n",
        "43"
       ]
      },
      {
       "output_type": "stream",
       "stream": "stdout",
       "text": [
        "\n",
        "44\n",
        "45\n",
        "46\n",
        "47\n",
        "48"
       ]
      },
      {
       "output_type": "stream",
       "stream": "stdout",
       "text": [
        "\n",
        "49\n",
        "50\n",
        "51\n",
        "52\n",
        "53\n",
        "54"
       ]
      },
      {
       "output_type": "stream",
       "stream": "stdout",
       "text": [
        "\n",
        "55\n",
        "56\n",
        "57\n",
        "58"
       ]
      },
      {
       "output_type": "stream",
       "stream": "stdout",
       "text": [
        "\n",
        "59\n",
        "60\n",
        "61"
       ]
      },
      {
       "output_type": "stream",
       "stream": "stdout",
       "text": [
        "\n",
        "62\n",
        "63\n",
        "64"
       ]
      },
      {
       "output_type": "stream",
       "stream": "stdout",
       "text": [
        "\n",
        "65\n",
        "66\n",
        "67"
       ]
      },
      {
       "output_type": "stream",
       "stream": "stdout",
       "text": [
        "\n",
        "68\n",
        "69\n",
        "70"
       ]
      },
      {
       "output_type": "stream",
       "stream": "stdout",
       "text": [
        "\n",
        "71\n",
        "72\n",
        "73"
       ]
      },
      {
       "output_type": "stream",
       "stream": "stdout",
       "text": [
        "\n",
        "74\n",
        "75\n",
        "76\n",
        "77"
       ]
      },
      {
       "output_type": "stream",
       "stream": "stdout",
       "text": [
        "\n",
        "78\n",
        "79\n",
        "80"
       ]
      },
      {
       "output_type": "stream",
       "stream": "stdout",
       "text": [
        "\n",
        "81\n",
        "82\n",
        "83"
       ]
      },
      {
       "output_type": "stream",
       "stream": "stdout",
       "text": [
        "\n",
        "84\n",
        "85\n",
        "86"
       ]
      },
      {
       "output_type": "stream",
       "stream": "stdout",
       "text": [
        "\n",
        "87\n",
        "88\n",
        "89"
       ]
      },
      {
       "output_type": "stream",
       "stream": "stdout",
       "text": [
        "\n",
        "90\n",
        "91\n",
        "92"
       ]
      },
      {
       "output_type": "stream",
       "stream": "stdout",
       "text": [
        "\n",
        "93\n",
        "94\n",
        "95"
       ]
      },
      {
       "output_type": "stream",
       "stream": "stdout",
       "text": [
        "\n",
        "96\n",
        "97\n",
        "98"
       ]
      },
      {
       "output_type": "stream",
       "stream": "stdout",
       "text": [
        "\n",
        "99\n",
        "100"
       ]
      },
      {
       "output_type": "stream",
       "stream": "stdout",
       "text": [
        "\n",
        "101\n",
        "102\n",
        "103\n",
        "104"
       ]
      },
      {
       "output_type": "stream",
       "stream": "stdout",
       "text": [
        "\n",
        "105\n",
        "106\n",
        "107"
       ]
      },
      {
       "output_type": "stream",
       "stream": "stdout",
       "text": [
        "\n",
        "108\n",
        "109"
       ]
      },
      {
       "output_type": "stream",
       "stream": "stdout",
       "text": [
        "\n",
        "110\n",
        "111\n",
        "112"
       ]
      },
      {
       "output_type": "stream",
       "stream": "stdout",
       "text": [
        "\n",
        "113\n",
        "114\n",
        "115\n",
        "116"
       ]
      },
      {
       "output_type": "stream",
       "stream": "stdout",
       "text": [
        "\n",
        "117\n",
        "118"
       ]
      },
      {
       "output_type": "stream",
       "stream": "stdout",
       "text": [
        "\n",
        "119\n",
        "120\n",
        "121"
       ]
      },
      {
       "output_type": "stream",
       "stream": "stdout",
       "text": [
        "\n",
        "122\n",
        "123"
       ]
      },
      {
       "output_type": "stream",
       "stream": "stdout",
       "text": [
        "\n",
        "124\n",
        "125\n",
        "126"
       ]
      },
      {
       "output_type": "stream",
       "stream": "stdout",
       "text": [
        "\n",
        "127\n",
        "128\n",
        "129"
       ]
      },
      {
       "output_type": "stream",
       "stream": "stdout",
       "text": [
        "\n",
        "130\n",
        "131\n",
        "132\n",
        "133"
       ]
      },
      {
       "output_type": "stream",
       "stream": "stdout",
       "text": [
        "\n",
        "134\n",
        "135\n",
        "136"
       ]
      },
      {
       "output_type": "stream",
       "stream": "stdout",
       "text": [
        "\n",
        "137\n",
        "138\n",
        "139"
       ]
      },
      {
       "output_type": "stream",
       "stream": "stdout",
       "text": [
        "\n",
        "140\n",
        "141\n",
        "142"
       ]
      },
      {
       "output_type": "stream",
       "stream": "stdout",
       "text": [
        "\n",
        "143\n",
        "144\n",
        "145"
       ]
      },
      {
       "output_type": "stream",
       "stream": "stdout",
       "text": [
        "\n",
        "146\n",
        "147\n",
        "148\n",
        "149"
       ]
      },
      {
       "output_type": "stream",
       "stream": "stdout",
       "text": [
        "\n",
        "150\n",
        "151\n",
        "152\n",
        "153\n",
        "154"
       ]
      },
      {
       "output_type": "stream",
       "stream": "stdout",
       "text": [
        "\n",
        "155\n",
        "156"
       ]
      },
      {
       "output_type": "stream",
       "stream": "stdout",
       "text": [
        "\n",
        "157\n",
        "158"
       ]
      },
      {
       "output_type": "stream",
       "stream": "stdout",
       "text": [
        "\n",
        "159\n",
        "160\n",
        "161"
       ]
      },
      {
       "output_type": "stream",
       "stream": "stdout",
       "text": [
        "\n",
        "162\n",
        "163\n",
        "164\n",
        "165"
       ]
      },
      {
       "output_type": "stream",
       "stream": "stdout",
       "text": [
        "\n",
        "166\n",
        "167"
       ]
      },
      {
       "output_type": "stream",
       "stream": "stdout",
       "text": [
        "\n",
        "168\n",
        "169\n",
        "170\n",
        "171"
       ]
      },
      {
       "output_type": "stream",
       "stream": "stdout",
       "text": [
        "\n",
        "172\n",
        "173\n",
        "174"
       ]
      },
      {
       "output_type": "stream",
       "stream": "stdout",
       "text": [
        "\n",
        "175\n",
        "176\n",
        "177\n",
        "178\n",
        "179"
       ]
      },
      {
       "output_type": "stream",
       "stream": "stdout",
       "text": [
        "\n",
        "180\n",
        "181\n",
        "182"
       ]
      },
      {
       "output_type": "stream",
       "stream": "stdout",
       "text": [
        "\n",
        "183\n",
        "184\n",
        "185\n",
        "186\n",
        "187"
       ]
      },
      {
       "output_type": "stream",
       "stream": "stdout",
       "text": [
        "\n",
        "188\n",
        "189\n",
        "190"
       ]
      },
      {
       "output_type": "stream",
       "stream": "stdout",
       "text": [
        "\n",
        "191\n",
        "192\n",
        "193\n",
        "194"
       ]
      },
      {
       "output_type": "stream",
       "stream": "stdout",
       "text": [
        "\n",
        "195\n",
        "196\n",
        "197"
       ]
      },
      {
       "output_type": "stream",
       "stream": "stdout",
       "text": [
        "\n",
        "198\n",
        "199\n",
        "200\n",
        "201"
       ]
      },
      {
       "output_type": "stream",
       "stream": "stdout",
       "text": [
        "\n",
        "202\n",
        "203\n",
        "204"
       ]
      },
      {
       "output_type": "stream",
       "stream": "stdout",
       "text": [
        "\n",
        "205\n",
        "206\n",
        "207"
       ]
      },
      {
       "output_type": "stream",
       "stream": "stdout",
       "text": [
        "\n",
        "208\n",
        "209\n",
        "210"
       ]
      },
      {
       "output_type": "stream",
       "stream": "stdout",
       "text": [
        "\n",
        "211\n",
        "212\n",
        "213"
       ]
      },
      {
       "output_type": "stream",
       "stream": "stdout",
       "text": [
        "\n",
        "214\n",
        "215"
       ]
      },
      {
       "output_type": "stream",
       "stream": "stdout",
       "text": [
        "\n",
        "216\n",
        "217\n",
        "218\n",
        "219"
       ]
      },
      {
       "output_type": "stream",
       "stream": "stdout",
       "text": [
        "\n",
        "220\n",
        "221\n",
        "222\n",
        "223"
       ]
      },
      {
       "output_type": "stream",
       "stream": "stdout",
       "text": [
        "\n",
        "224\n",
        "225"
       ]
      },
      {
       "output_type": "stream",
       "stream": "stdout",
       "text": [
        "\n",
        "226\n",
        "227\n",
        "228"
       ]
      },
      {
       "output_type": "stream",
       "stream": "stdout",
       "text": [
        "\n",
        "229\n",
        "230\n",
        "231"
       ]
      },
      {
       "output_type": "stream",
       "stream": "stdout",
       "text": [
        "\n",
        "232\n",
        "233\n",
        "234"
       ]
      },
      {
       "output_type": "stream",
       "stream": "stdout",
       "text": [
        "\n",
        "235\n",
        "236\n",
        "237"
       ]
      },
      {
       "output_type": "stream",
       "stream": "stdout",
       "text": [
        "\n",
        "238\n",
        "239"
       ]
      },
      {
       "output_type": "stream",
       "stream": "stdout",
       "text": [
        "\n",
        "240\n",
        "241\n",
        "242\n",
        "243\n",
        "244\n",
        "245"
       ]
      },
      {
       "output_type": "stream",
       "stream": "stdout",
       "text": [
        "\n",
        "246\n",
        "247\n",
        "248\n",
        "249"
       ]
      },
      {
       "output_type": "stream",
       "stream": "stdout",
       "text": [
        "\n",
        "250\n",
        "251\n",
        "252"
       ]
      },
      {
       "output_type": "stream",
       "stream": "stdout",
       "text": [
        "\n",
        "253\n",
        "254\n",
        "255\n",
        "256"
       ]
      },
      {
       "output_type": "stream",
       "stream": "stdout",
       "text": [
        "\n",
        "257\n",
        "258\n",
        "259"
       ]
      },
      {
       "output_type": "stream",
       "stream": "stdout",
       "text": [
        "\n",
        "260\n",
        "261\n",
        "262\n",
        "263\n",
        "264"
       ]
      },
      {
       "output_type": "stream",
       "stream": "stdout",
       "text": [
        "\n",
        "265\n",
        "266"
       ]
      },
      {
       "output_type": "stream",
       "stream": "stdout",
       "text": [
        "\n",
        "267\n",
        "268\n",
        "269\n",
        "270"
       ]
      },
      {
       "output_type": "stream",
       "stream": "stdout",
       "text": [
        "\n",
        "271\n",
        "272\n",
        "273"
       ]
      },
      {
       "output_type": "stream",
       "stream": "stdout",
       "text": [
        "\n",
        "274\n",
        "275\n",
        "276"
       ]
      },
      {
       "output_type": "stream",
       "stream": "stdout",
       "text": [
        "\n",
        "277\n",
        "278\n",
        "279\n",
        "280\n",
        "281"
       ]
      },
      {
       "output_type": "stream",
       "stream": "stdout",
       "text": [
        "\n",
        "282\n",
        "283\n",
        "284"
       ]
      },
      {
       "output_type": "stream",
       "stream": "stdout",
       "text": [
        "\n",
        "285\n",
        "286\n",
        "287\n",
        "288"
       ]
      },
      {
       "output_type": "stream",
       "stream": "stdout",
       "text": [
        "\n",
        "289\n",
        "290\n",
        "291\n",
        "292"
       ]
      },
      {
       "output_type": "stream",
       "stream": "stdout",
       "text": [
        "\n",
        "293\n",
        "294\n",
        "295"
       ]
      },
      {
       "output_type": "stream",
       "stream": "stdout",
       "text": [
        "\n",
        "296\n",
        "297\n",
        "298\n",
        "299"
       ]
      },
      {
       "output_type": "stream",
       "stream": "stdout",
       "text": [
        "\n",
        "300\n",
        "301\n",
        "302\n",
        "303"
       ]
      },
      {
       "output_type": "stream",
       "stream": "stdout",
       "text": [
        "\n",
        "304\n",
        "305\n",
        "306"
       ]
      },
      {
       "output_type": "stream",
       "stream": "stdout",
       "text": [
        "\n",
        "307\n",
        "308\n",
        "309\n",
        "310\n",
        "311"
       ]
      },
      {
       "output_type": "stream",
       "stream": "stdout",
       "text": [
        "\n",
        "312\n",
        "313\n",
        "314\n",
        "315"
       ]
      },
      {
       "output_type": "stream",
       "stream": "stdout",
       "text": [
        "\n",
        "316\n",
        "317"
       ]
      },
      {
       "output_type": "stream",
       "stream": "stdout",
       "text": [
        "\n",
        "318\n",
        "319\n",
        "320"
       ]
      },
      {
       "output_type": "stream",
       "stream": "stdout",
       "text": [
        "\n",
        "321"
       ]
      },
      {
       "output_type": "stream",
       "stream": "stdout",
       "text": [
        "\n",
        "322\n",
        "323\n",
        "324"
       ]
      },
      {
       "output_type": "stream",
       "stream": "stdout",
       "text": [
        "\n",
        "325\n",
        "326\n",
        "327"
       ]
      },
      {
       "output_type": "stream",
       "stream": "stdout",
       "text": [
        "\n",
        "328\n",
        "329\n",
        "330\n",
        "331"
       ]
      },
      {
       "output_type": "stream",
       "stream": "stdout",
       "text": [
        "\n",
        "332"
       ]
      },
      {
       "output_type": "stream",
       "stream": "stdout",
       "text": [
        "\n",
        "333\n",
        "334\n",
        "335"
       ]
      },
      {
       "output_type": "stream",
       "stream": "stdout",
       "text": [
        "\n",
        "336\n",
        "337"
       ]
      },
      {
       "output_type": "stream",
       "stream": "stdout",
       "text": [
        "\n",
        "338\n",
        "339\n",
        "340\n",
        "341"
       ]
      },
      {
       "output_type": "stream",
       "stream": "stdout",
       "text": [
        "\n",
        "342\n",
        "343\n",
        "344"
       ]
      },
      {
       "output_type": "stream",
       "stream": "stdout",
       "text": [
        "\n",
        "345\n",
        "346\n",
        "347\n",
        "348\n",
        "349"
       ]
      },
      {
       "output_type": "stream",
       "stream": "stdout",
       "text": [
        "\n",
        "350\n",
        "351\n",
        "352\n",
        "353"
       ]
      },
      {
       "output_type": "stream",
       "stream": "stdout",
       "text": [
        "\n",
        "354\n",
        "355\n",
        "356\n",
        "357\n",
        "358"
       ]
      },
      {
       "output_type": "stream",
       "stream": "stdout",
       "text": [
        "\n",
        "359\n",
        "360"
       ]
      },
      {
       "output_type": "stream",
       "stream": "stdout",
       "text": [
        "\n",
        "361\n",
        "362\n",
        "363"
       ]
      },
      {
       "output_type": "stream",
       "stream": "stdout",
       "text": [
        "\n",
        "364\n",
        "365"
       ]
      },
      {
       "output_type": "stream",
       "stream": "stdout",
       "text": [
        "\n",
        "366\n",
        "367\n",
        "368"
       ]
      },
      {
       "output_type": "stream",
       "stream": "stdout",
       "text": [
        "\n",
        "369\n",
        "370\n",
        "371"
       ]
      },
      {
       "output_type": "stream",
       "stream": "stdout",
       "text": [
        "\n",
        "372\n",
        "373\n",
        "374\n",
        "375"
       ]
      },
      {
       "output_type": "stream",
       "stream": "stdout",
       "text": [
        "\n",
        "376\n",
        "377\n",
        "378"
       ]
      },
      {
       "output_type": "stream",
       "stream": "stdout",
       "text": [
        "\n",
        "379\n",
        "380\n",
        "381\n",
        "382"
       ]
      },
      {
       "output_type": "stream",
       "stream": "stdout",
       "text": [
        "\n",
        "383\n",
        "384"
       ]
      },
      {
       "output_type": "stream",
       "stream": "stdout",
       "text": [
        "\n",
        "385\n",
        "386\n",
        "387\n",
        "388"
       ]
      },
      {
       "output_type": "stream",
       "stream": "stdout",
       "text": [
        "\n",
        "389\n",
        "390\n",
        "391"
       ]
      },
      {
       "output_type": "stream",
       "stream": "stdout",
       "text": [
        "\n",
        "392\n",
        "393\n",
        "394"
       ]
      },
      {
       "output_type": "stream",
       "stream": "stdout",
       "text": [
        "\n",
        "395\n",
        "396\n",
        "397\n",
        "398"
       ]
      },
      {
       "output_type": "stream",
       "stream": "stdout",
       "text": [
        "\n",
        "399\n",
        "400\n",
        "401\n",
        "402"
       ]
      },
      {
       "output_type": "stream",
       "stream": "stdout",
       "text": [
        "\n",
        "403\n",
        "404\n",
        "405"
       ]
      },
      {
       "output_type": "stream",
       "stream": "stdout",
       "text": [
        "\n",
        "406\n",
        "407\n",
        "408\n",
        "409\n",
        "410"
       ]
      },
      {
       "output_type": "stream",
       "stream": "stdout",
       "text": [
        "\n",
        "411\n",
        "412\n",
        "413\n",
        "414"
       ]
      },
      {
       "output_type": "stream",
       "stream": "stdout",
       "text": [
        "\n",
        "415\n",
        "416"
       ]
      },
      {
       "output_type": "stream",
       "stream": "stdout",
       "text": [
        "\n",
        "417\n",
        "418\n",
        "419\n",
        "420\n",
        "421"
       ]
      },
      {
       "output_type": "stream",
       "stream": "stdout",
       "text": [
        "\n",
        "422\n",
        "423\n",
        "424\n",
        "425"
       ]
      },
      {
       "output_type": "stream",
       "stream": "stdout",
       "text": [
        "\n",
        "426\n",
        "427\n",
        "428\n",
        "429"
       ]
      },
      {
       "output_type": "stream",
       "stream": "stdout",
       "text": [
        "\n",
        "430"
       ]
      },
      {
       "output_type": "stream",
       "stream": "stdout",
       "text": [
        "\n",
        "431\n",
        "432\n",
        "433"
       ]
      },
      {
       "output_type": "stream",
       "stream": "stdout",
       "text": [
        "\n",
        "434\n",
        "435\n",
        "436\n",
        "437"
       ]
      },
      {
       "output_type": "stream",
       "stream": "stdout",
       "text": [
        "\n",
        "438\n",
        "439\n",
        "440\n",
        "441"
       ]
      },
      {
       "output_type": "stream",
       "stream": "stdout",
       "text": [
        "\n",
        "442\n",
        "443\n",
        "444"
       ]
      },
      {
       "output_type": "stream",
       "stream": "stdout",
       "text": [
        "\n",
        "445\n",
        "446\n",
        "447"
       ]
      },
      {
       "output_type": "stream",
       "stream": "stdout",
       "text": [
        "\n",
        "448\n",
        "449\n",
        "450"
       ]
      },
      {
       "output_type": "stream",
       "stream": "stdout",
       "text": [
        "\n",
        "451\n",
        "452\n",
        "453\n",
        "454\n",
        "455"
       ]
      },
      {
       "output_type": "stream",
       "stream": "stdout",
       "text": [
        "\n",
        "456\n",
        "457\n",
        "458"
       ]
      },
      {
       "output_type": "stream",
       "stream": "stdout",
       "text": [
        "\n",
        "459\n",
        "460\n",
        "461"
       ]
      },
      {
       "output_type": "stream",
       "stream": "stdout",
       "text": [
        "\n",
        "462\n",
        "463"
       ]
      },
      {
       "output_type": "stream",
       "stream": "stdout",
       "text": [
        "\n",
        "464\n",
        "465\n",
        "466\n",
        "467"
       ]
      },
      {
       "output_type": "stream",
       "stream": "stdout",
       "text": [
        "\n",
        "468\n",
        "469"
       ]
      },
      {
       "output_type": "stream",
       "stream": "stdout",
       "text": [
        "\n",
        "470\n",
        "471\n",
        "472"
       ]
      },
      {
       "output_type": "stream",
       "stream": "stdout",
       "text": [
        "\n",
        "473\n",
        "474\n",
        "475\n",
        "476\n",
        "477"
       ]
      },
      {
       "output_type": "stream",
       "stream": "stdout",
       "text": [
        "\n",
        "478\n",
        "479"
       ]
      },
      {
       "output_type": "stream",
       "stream": "stdout",
       "text": [
        "\n",
        "480\n",
        "481\n",
        "482"
       ]
      },
      {
       "output_type": "stream",
       "stream": "stdout",
       "text": [
        "\n",
        "483\n",
        "484\n",
        "485"
       ]
      },
      {
       "output_type": "stream",
       "stream": "stdout",
       "text": [
        "\n",
        "486\n",
        "487\n",
        "488"
       ]
      },
      {
       "output_type": "stream",
       "stream": "stdout",
       "text": [
        "\n",
        "489\n",
        "490\n",
        "491"
       ]
      },
      {
       "output_type": "stream",
       "stream": "stdout",
       "text": [
        "\n",
        "492\n",
        "493\n",
        "494\n",
        "495\n",
        "496\n",
        "497"
       ]
      },
      {
       "output_type": "stream",
       "stream": "stdout",
       "text": [
        "\n",
        "498\n",
        "499"
       ]
      },
      {
       "output_type": "stream",
       "stream": "stdout",
       "text": [
        "\n",
        "500\n",
        "501\n",
        "502\n",
        "503"
       ]
      },
      {
       "output_type": "stream",
       "stream": "stdout",
       "text": [
        "\n",
        "504\n",
        "505\n",
        "506\n",
        "507"
       ]
      },
      {
       "output_type": "stream",
       "stream": "stdout",
       "text": [
        "\n",
        "508\n",
        "509\n",
        "510"
       ]
      },
      {
       "output_type": "stream",
       "stream": "stdout",
       "text": [
        "\n",
        "511\n",
        "512\n",
        "513"
       ]
      },
      {
       "output_type": "stream",
       "stream": "stdout",
       "text": [
        "\n",
        "514\n",
        "515"
       ]
      },
      {
       "output_type": "stream",
       "stream": "stdout",
       "text": [
        "\n",
        "516\n",
        "517\n",
        "518\n",
        "519"
       ]
      },
      {
       "output_type": "stream",
       "stream": "stdout",
       "text": [
        "\n",
        "520\n",
        "521"
       ]
      },
      {
       "output_type": "stream",
       "stream": "stdout",
       "text": [
        "\n",
        "522\n",
        "523\n",
        "524\n",
        "525"
       ]
      },
      {
       "output_type": "stream",
       "stream": "stdout",
       "text": [
        "\n",
        "526\n",
        "527"
       ]
      },
      {
       "output_type": "stream",
       "stream": "stdout",
       "text": [
        "\n",
        "528\n",
        "529\n",
        "530\n",
        "531"
       ]
      },
      {
       "output_type": "stream",
       "stream": "stdout",
       "text": [
        "\n",
        "532\n",
        "533\n",
        "534"
       ]
      },
      {
       "output_type": "stream",
       "stream": "stdout",
       "text": [
        "\n",
        "535\n",
        "536\n",
        "537\n",
        "538"
       ]
      },
      {
       "output_type": "stream",
       "stream": "stdout",
       "text": [
        "\n",
        "539\n",
        "540\n",
        "541\n",
        "542"
       ]
      },
      {
       "output_type": "stream",
       "stream": "stdout",
       "text": [
        "\n",
        "543\n",
        "544\n",
        "545"
       ]
      },
      {
       "output_type": "stream",
       "stream": "stdout",
       "text": [
        "\n",
        "546\n",
        "547\n",
        "548\n",
        "549"
       ]
      },
      {
       "output_type": "stream",
       "stream": "stdout",
       "text": [
        "\n",
        "550\n",
        "551\n",
        "552\n",
        "553\n",
        "554"
       ]
      },
      {
       "output_type": "stream",
       "stream": "stdout",
       "text": [
        "\n",
        "555\n",
        "556\n",
        "557"
       ]
      },
      {
       "output_type": "stream",
       "stream": "stdout",
       "text": [
        "\n",
        "558\n",
        "559\n",
        "560"
       ]
      },
      {
       "output_type": "stream",
       "stream": "stdout",
       "text": [
        "\n",
        "561\n",
        "562"
       ]
      },
      {
       "output_type": "stream",
       "stream": "stdout",
       "text": [
        "\n",
        "563\n",
        "564"
       ]
      },
      {
       "output_type": "stream",
       "stream": "stdout",
       "text": [
        "\n",
        "565\n",
        "566\n",
        "567"
       ]
      },
      {
       "output_type": "stream",
       "stream": "stdout",
       "text": [
        "\n",
        "568\n",
        "569\n",
        "570"
       ]
      },
      {
       "output_type": "stream",
       "stream": "stdout",
       "text": [
        "\n",
        "571\n",
        "572\n",
        "573"
       ]
      },
      {
       "output_type": "stream",
       "stream": "stdout",
       "text": [
        "\n",
        "574\n",
        "575"
       ]
      },
      {
       "output_type": "stream",
       "stream": "stdout",
       "text": [
        "\n",
        "576\n",
        "577\n",
        "578\n",
        "579"
       ]
      },
      {
       "output_type": "stream",
       "stream": "stdout",
       "text": [
        "\n",
        "580\n",
        "581\n",
        "582\n",
        "583"
       ]
      },
      {
       "output_type": "stream",
       "stream": "stdout",
       "text": [
        "\n",
        "584\n",
        "585\n",
        "586\n",
        "587"
       ]
      },
      {
       "output_type": "stream",
       "stream": "stdout",
       "text": [
        "\n",
        "588\n",
        "589\n",
        "590\n",
        "591"
       ]
      },
      {
       "output_type": "stream",
       "stream": "stdout",
       "text": [
        "\n",
        "592\n",
        "593\n",
        "594\n",
        "595"
       ]
      },
      {
       "output_type": "stream",
       "stream": "stdout",
       "text": [
        "\n",
        "596\n",
        "597\n",
        "598\n",
        "599\n",
        "600"
       ]
      },
      {
       "output_type": "stream",
       "stream": "stdout",
       "text": [
        "\n",
        "601\n",
        "602\n",
        "603\n",
        "604"
       ]
      },
      {
       "output_type": "stream",
       "stream": "stdout",
       "text": [
        "\n",
        "605\n",
        "606"
       ]
      },
      {
       "output_type": "stream",
       "stream": "stdout",
       "text": [
        "\n",
        "607\n",
        "608"
       ]
      },
      {
       "output_type": "stream",
       "stream": "stdout",
       "text": [
        "\n",
        "609\n",
        "610\n",
        "611"
       ]
      },
      {
       "output_type": "stream",
       "stream": "stdout",
       "text": [
        "\n",
        "612\n",
        "613\n",
        "614\n",
        "615\n",
        "616"
       ]
      },
      {
       "output_type": "stream",
       "stream": "stdout",
       "text": [
        "\n",
        "617\n",
        "618\n",
        "619"
       ]
      },
      {
       "output_type": "stream",
       "stream": "stdout",
       "text": [
        "\n",
        "620\n",
        "621\n",
        "622\n",
        "623"
       ]
      },
      {
       "output_type": "stream",
       "stream": "stdout",
       "text": [
        "\n",
        "624\n",
        "625"
       ]
      },
      {
       "output_type": "stream",
       "stream": "stdout",
       "text": [
        "\n",
        "626\n",
        "627"
       ]
      },
      {
       "output_type": "stream",
       "stream": "stdout",
       "text": [
        "\n",
        "628\n",
        "629\n",
        "630\n",
        "631\n",
        "632"
       ]
      },
      {
       "output_type": "stream",
       "stream": "stdout",
       "text": [
        "\n",
        "633\n",
        "634\n",
        "635\n",
        "636"
       ]
      },
      {
       "output_type": "stream",
       "stream": "stdout",
       "text": [
        "\n",
        "637\n",
        "638\n",
        "639"
       ]
      },
      {
       "output_type": "stream",
       "stream": "stdout",
       "text": [
        "\n",
        "640\n",
        "641\n",
        "642\n",
        "643"
       ]
      },
      {
       "output_type": "stream",
       "stream": "stdout",
       "text": [
        "\n",
        "644\n",
        "645\n",
        "646"
       ]
      },
      {
       "output_type": "stream",
       "stream": "stdout",
       "text": [
        "\n",
        "647\n",
        "648\n",
        "649\n",
        "650\n",
        "651"
       ]
      },
      {
       "output_type": "stream",
       "stream": "stdout",
       "text": [
        "\n",
        "652\n",
        "653\n",
        "654\n",
        "655\n",
        "656"
       ]
      },
      {
       "output_type": "stream",
       "stream": "stdout",
       "text": [
        "\n",
        "657\n",
        "658\n",
        "659"
       ]
      },
      {
       "output_type": "stream",
       "stream": "stdout",
       "text": [
        "\n",
        "660\n",
        "661"
       ]
      },
      {
       "output_type": "stream",
       "stream": "stdout",
       "text": [
        "\n",
        "662\n",
        "663\n",
        "664\n",
        "665"
       ]
      },
      {
       "output_type": "stream",
       "stream": "stdout",
       "text": [
        "\n",
        "666\n",
        "667\n",
        "668\n",
        "669"
       ]
      },
      {
       "output_type": "stream",
       "stream": "stdout",
       "text": [
        "\n",
        "670\n",
        "671"
       ]
      },
      {
       "output_type": "stream",
       "stream": "stdout",
       "text": [
        "\n",
        "672\n",
        "673\n",
        "674\n",
        "675"
       ]
      },
      {
       "output_type": "stream",
       "stream": "stdout",
       "text": [
        "\n",
        "676\n",
        "677\n",
        "678"
       ]
      },
      {
       "output_type": "stream",
       "stream": "stdout",
       "text": [
        "\n",
        "679\n",
        "680\n",
        "681"
       ]
      },
      {
       "output_type": "stream",
       "stream": "stdout",
       "text": [
        "\n",
        "682\n",
        "683"
       ]
      },
      {
       "output_type": "stream",
       "stream": "stdout",
       "text": [
        "\n",
        "684\n",
        "685\n",
        "686\n",
        "687\n",
        "688"
       ]
      },
      {
       "output_type": "stream",
       "stream": "stdout",
       "text": [
        "\n",
        "689\n",
        "690\n",
        "691"
       ]
      },
      {
       "output_type": "stream",
       "stream": "stdout",
       "text": [
        "\n",
        "692\n",
        "693\n",
        "694\n",
        "695\n",
        "696"
       ]
      },
      {
       "output_type": "stream",
       "stream": "stdout",
       "text": [
        "\n",
        "697\n",
        "698\n",
        "699"
       ]
      },
      {
       "output_type": "stream",
       "stream": "stdout",
       "text": [
        "\n",
        "700\n",
        "701\n",
        "702\n",
        "703"
       ]
      },
      {
       "output_type": "stream",
       "stream": "stdout",
       "text": [
        "\n",
        "704\n",
        "705\n",
        "706\n",
        "707"
       ]
      },
      {
       "output_type": "stream",
       "stream": "stdout",
       "text": [
        "\n",
        "708\n",
        "709\n",
        "710\n",
        "711\n",
        "712"
       ]
      },
      {
       "output_type": "stream",
       "stream": "stdout",
       "text": [
        "\n",
        "713"
       ]
      },
      {
       "output_type": "stream",
       "stream": "stdout",
       "text": [
        "\n",
        "714\n",
        "715\n",
        "716\n",
        "717"
       ]
      },
      {
       "output_type": "stream",
       "stream": "stdout",
       "text": [
        "\n",
        "718\n",
        "719\n",
        "720\n",
        "721\n",
        "722"
       ]
      },
      {
       "output_type": "stream",
       "stream": "stdout",
       "text": [
        "\n",
        "723\n",
        "724\n",
        "725\n",
        "726"
       ]
      },
      {
       "output_type": "stream",
       "stream": "stdout",
       "text": [
        "\n",
        "727"
       ]
      },
      {
       "output_type": "stream",
       "stream": "stdout",
       "text": [
        "\n",
        "728\n",
        "729\n",
        "730"
       ]
      },
      {
       "output_type": "stream",
       "stream": "stdout",
       "text": [
        "\n",
        "731\n",
        "732\n",
        "733"
       ]
      },
      {
       "output_type": "stream",
       "stream": "stdout",
       "text": [
        "\n",
        "734\n",
        "735\n",
        "736\n",
        "737\n",
        "738"
       ]
      },
      {
       "output_type": "stream",
       "stream": "stdout",
       "text": [
        "\n",
        "739\n",
        "740\n",
        "741\n",
        "742\n",
        "743"
       ]
      },
      {
       "output_type": "stream",
       "stream": "stdout",
       "text": [
        "\n",
        "744\n",
        "745\n",
        "746"
       ]
      },
      {
       "output_type": "stream",
       "stream": "stdout",
       "text": [
        "\n",
        "747\n",
        "748\n",
        "749\n",
        "750\n",
        "751"
       ]
      },
      {
       "output_type": "stream",
       "stream": "stdout",
       "text": [
        "\n",
        "752\n",
        "753\n",
        "754\n",
        "755\n",
        "756\n",
        "757"
       ]
      },
      {
       "output_type": "stream",
       "stream": "stdout",
       "text": [
        "\n",
        "758\n",
        "759\n",
        "760\n",
        "761"
       ]
      },
      {
       "output_type": "stream",
       "stream": "stdout",
       "text": [
        "\n",
        "762\n",
        "763\n",
        "764\n",
        "765"
       ]
      },
      {
       "output_type": "stream",
       "stream": "stdout",
       "text": [
        "\n",
        "766\n",
        "767\n",
        "768\n",
        "769"
       ]
      },
      {
       "output_type": "stream",
       "stream": "stdout",
       "text": [
        "\n",
        "770\n",
        "771\n",
        "772\n",
        "773\n",
        "774"
       ]
      },
      {
       "output_type": "stream",
       "stream": "stdout",
       "text": [
        "\n",
        "775\n",
        "776\n",
        "777\n",
        "778"
       ]
      },
      {
       "output_type": "stream",
       "stream": "stdout",
       "text": [
        "\n",
        "779\n",
        "780\n",
        "781\n",
        "782\n",
        "783"
       ]
      },
      {
       "output_type": "stream",
       "stream": "stdout",
       "text": [
        "\n",
        "784\n",
        "785\n",
        "786\n",
        "787"
       ]
      },
      {
       "output_type": "stream",
       "stream": "stdout",
       "text": [
        "\n",
        "788"
       ]
      },
      {
       "output_type": "stream",
       "stream": "stdout",
       "text": [
        "\n",
        "789\n",
        "790\n",
        "791\n",
        "792\n",
        "793"
       ]
      },
      {
       "output_type": "stream",
       "stream": "stdout",
       "text": [
        "\n",
        "794\n",
        "795\n",
        "796\n",
        "797\n",
        "798"
       ]
      },
      {
       "output_type": "stream",
       "stream": "stdout",
       "text": [
        "\n",
        "799\n",
        "800\n",
        "801"
       ]
      },
      {
       "output_type": "stream",
       "stream": "stdout",
       "text": [
        "\n",
        "802\n",
        "803"
       ]
      },
      {
       "output_type": "stream",
       "stream": "stdout",
       "text": [
        "\n",
        "804\n",
        "805\n",
        "806\n",
        "807\n",
        "808"
       ]
      },
      {
       "output_type": "stream",
       "stream": "stdout",
       "text": [
        "\n",
        "809\n",
        "810"
       ]
      },
      {
       "output_type": "stream",
       "stream": "stdout",
       "text": [
        "\n",
        "811"
       ]
      },
      {
       "output_type": "stream",
       "stream": "stdout",
       "text": [
        "\n",
        "812\n",
        "813\n",
        "814\n",
        "815"
       ]
      },
      {
       "output_type": "stream",
       "stream": "stdout",
       "text": [
        "\n",
        "816"
       ]
      },
      {
       "output_type": "stream",
       "stream": "stdout",
       "text": [
        "\n",
        "817\n",
        "818\n",
        "819\n",
        "820\n",
        "821"
       ]
      },
      {
       "output_type": "stream",
       "stream": "stdout",
       "text": [
        "\n",
        "822\n",
        "823\n",
        "824\n",
        "825"
       ]
      },
      {
       "output_type": "stream",
       "stream": "stdout",
       "text": [
        "\n",
        "826\n",
        "827\n",
        "828\n",
        "829"
       ]
      },
      {
       "output_type": "stream",
       "stream": "stdout",
       "text": [
        "\n",
        "830\n",
        "831\n",
        "832\n",
        "833\n",
        "834"
       ]
      },
      {
       "output_type": "stream",
       "stream": "stdout",
       "text": [
        "\n",
        "835\n",
        "836\n",
        "837\n",
        "838"
       ]
      },
      {
       "output_type": "stream",
       "stream": "stdout",
       "text": [
        "\n",
        "839\n",
        "840\n",
        "841\n",
        "842"
       ]
      },
      {
       "output_type": "stream",
       "stream": "stdout",
       "text": [
        "\n",
        "843\n",
        "844\n",
        "845\n",
        "846\n",
        "847"
       ]
      },
      {
       "output_type": "stream",
       "stream": "stdout",
       "text": [
        "\n",
        "848\n",
        "849\n",
        "850\n",
        "851\n",
        "852"
       ]
      },
      {
       "output_type": "stream",
       "stream": "stdout",
       "text": [
        "\n",
        "853\n",
        "854\n",
        "855"
       ]
      },
      {
       "output_type": "stream",
       "stream": "stdout",
       "text": [
        "\n",
        "856\n",
        "857\n",
        "858\n",
        "859\n",
        "860"
       ]
      },
      {
       "output_type": "stream",
       "stream": "stdout",
       "text": [
        "\n",
        "861\n",
        "862\n",
        "863\n",
        "864\n",
        "865\n",
        "866"
       ]
      },
      {
       "output_type": "stream",
       "stream": "stdout",
       "text": [
        "\n",
        "867\n",
        "868\n",
        "869"
       ]
      },
      {
       "output_type": "stream",
       "stream": "stdout",
       "text": [
        "\n",
        "870\n",
        "871\n",
        "872\n",
        "873"
       ]
      },
      {
       "output_type": "stream",
       "stream": "stdout",
       "text": [
        "\n",
        "874\n",
        "875\n",
        "876\n",
        "877"
       ]
      },
      {
       "output_type": "stream",
       "stream": "stdout",
       "text": [
        "\n",
        "878\n",
        "879\n",
        "880\n",
        "881\n",
        "882"
       ]
      },
      {
       "output_type": "stream",
       "stream": "stdout",
       "text": [
        "\n",
        "883\n",
        "884\n",
        "885"
       ]
      },
      {
       "output_type": "stream",
       "stream": "stdout",
       "text": [
        "\n",
        "886\n",
        "887"
       ]
      },
      {
       "output_type": "stream",
       "stream": "stdout",
       "text": [
        "\n",
        "888\n",
        "889\n",
        "890\n",
        "891\n",
        "892"
       ]
      },
      {
       "output_type": "stream",
       "stream": "stdout",
       "text": [
        "\n",
        "893\n",
        "894\n",
        "895"
       ]
      },
      {
       "output_type": "stream",
       "stream": "stdout",
       "text": [
        "\n",
        "896\n",
        "897\n",
        "898\n",
        "899"
       ]
      },
      {
       "output_type": "stream",
       "stream": "stdout",
       "text": [
        "\n",
        "900\n",
        "901\n",
        "902\n",
        "903"
       ]
      },
      {
       "output_type": "stream",
       "stream": "stdout",
       "text": [
        "\n",
        "904\n",
        "905\n",
        "906\n",
        "907\n",
        "908\n",
        "909"
       ]
      },
      {
       "output_type": "stream",
       "stream": "stdout",
       "text": [
        "\n",
        "910"
       ]
      },
      {
       "output_type": "stream",
       "stream": "stdout",
       "text": [
        "\n",
        "911\n",
        "912\n",
        "913\n",
        "914"
       ]
      },
      {
       "output_type": "stream",
       "stream": "stdout",
       "text": [
        "\n",
        "915\n",
        "916\n",
        "917"
       ]
      },
      {
       "output_type": "stream",
       "stream": "stdout",
       "text": [
        "\n",
        "918\n",
        "919\n",
        "920"
       ]
      },
      {
       "output_type": "stream",
       "stream": "stdout",
       "text": [
        "\n",
        "921\n",
        "922\n",
        "923\n",
        "924\n",
        "925"
       ]
      },
      {
       "output_type": "stream",
       "stream": "stdout",
       "text": [
        "\n",
        "926\n",
        "927\n",
        "928\n",
        "929\n",
        "930"
       ]
      },
      {
       "output_type": "stream",
       "stream": "stdout",
       "text": [
        "\n",
        "931\n",
        "932\n",
        "933\n",
        "934"
       ]
      },
      {
       "output_type": "stream",
       "stream": "stdout",
       "text": [
        "\n",
        "935\n",
        "936\n",
        "937\n",
        "938"
       ]
      },
      {
       "output_type": "stream",
       "stream": "stdout",
       "text": [
        "\n",
        "939\n",
        "940\n",
        "941\n",
        "942"
       ]
      },
      {
       "output_type": "stream",
       "stream": "stdout",
       "text": [
        "\n",
        "943\n",
        "944\n",
        "945\n",
        "946\n",
        "947\n",
        "948"
       ]
      },
      {
       "output_type": "stream",
       "stream": "stdout",
       "text": [
        "\n",
        "949\n",
        "950\n",
        "951\n",
        "952"
       ]
      },
      {
       "output_type": "stream",
       "stream": "stdout",
       "text": [
        "\n",
        "953\n",
        "954\n",
        "955\n",
        "956\n",
        "957\n",
        "958"
       ]
      },
      {
       "output_type": "stream",
       "stream": "stdout",
       "text": [
        "\n",
        "959\n",
        "960\n",
        "961"
       ]
      },
      {
       "output_type": "stream",
       "stream": "stdout",
       "text": [
        "\n",
        "962\n",
        "963\n",
        "964"
       ]
      },
      {
       "output_type": "stream",
       "stream": "stdout",
       "text": [
        "\n",
        "965\n",
        "966\n",
        "967\n",
        "968\n",
        "969"
       ]
      },
      {
       "output_type": "stream",
       "stream": "stdout",
       "text": [
        "\n",
        "970\n",
        "971\n",
        "972"
       ]
      },
      {
       "output_type": "stream",
       "stream": "stdout",
       "text": [
        "\n",
        "973\n",
        "974\n",
        "975\n",
        "976"
       ]
      },
      {
       "output_type": "stream",
       "stream": "stdout",
       "text": [
        "\n",
        "977\n",
        "978"
       ]
      },
      {
       "output_type": "stream",
       "stream": "stdout",
       "text": [
        "\n",
        "979\n",
        "980"
       ]
      },
      {
       "output_type": "stream",
       "stream": "stdout",
       "text": [
        "\n",
        "981\n",
        "982\n",
        "983\n",
        "984"
       ]
      },
      {
       "output_type": "stream",
       "stream": "stdout",
       "text": [
        "\n",
        "985\n",
        "986"
       ]
      },
      {
       "output_type": "stream",
       "stream": "stdout",
       "text": [
        "\n",
        "987\n",
        "988\n",
        "989\n",
        "990\n",
        "991"
       ]
      },
      {
       "output_type": "stream",
       "stream": "stdout",
       "text": [
        "\n",
        "992\n",
        "993\n",
        "994"
       ]
      },
      {
       "output_type": "stream",
       "stream": "stdout",
       "text": [
        "\n",
        "995\n",
        "996\n",
        "997\n",
        "998"
       ]
      },
      {
       "output_type": "stream",
       "stream": "stdout",
       "text": [
        "\n",
        "999\n",
        "1000\n",
        "1001\n",
        "1002\n",
        "1003"
       ]
      },
      {
       "output_type": "stream",
       "stream": "stdout",
       "text": [
        "\n",
        "1004\n",
        "1005\n",
        "1006\n",
        "1007\n",
        "1008"
       ]
      },
      {
       "output_type": "stream",
       "stream": "stdout",
       "text": [
        "\n",
        "1009\n",
        "1010\n",
        "1011\n",
        "1012"
       ]
      },
      {
       "output_type": "stream",
       "stream": "stdout",
       "text": [
        "\n",
        "1013\n",
        "1014\n",
        "1015\n",
        "1016"
       ]
      },
      {
       "output_type": "stream",
       "stream": "stdout",
       "text": [
        "\n",
        "1017\n",
        "1018\n",
        "1019\n",
        "1020"
       ]
      },
      {
       "output_type": "stream",
       "stream": "stdout",
       "text": [
        "\n",
        "1021\n",
        "1022\n",
        "1023"
       ]
      },
      {
       "output_type": "stream",
       "stream": "stdout",
       "text": [
        "\n",
        "1024\n",
        "1025\n",
        "1026\n",
        "1027\n",
        "1028"
       ]
      },
      {
       "output_type": "stream",
       "stream": "stdout",
       "text": [
        "\n",
        "1029\n",
        "1030\n",
        "1031\n",
        "1032"
       ]
      },
      {
       "output_type": "stream",
       "stream": "stdout",
       "text": [
        "\n",
        "1033\n",
        "1034\n",
        "1035"
       ]
      },
      {
       "output_type": "stream",
       "stream": "stdout",
       "text": [
        "\n",
        "1036\n",
        "1037\n",
        "1038\n",
        "1039\n",
        "1040"
       ]
      },
      {
       "output_type": "stream",
       "stream": "stdout",
       "text": [
        "\n",
        "1041\n",
        "1042\n",
        "1043\n",
        "1044"
       ]
      },
      {
       "output_type": "stream",
       "stream": "stdout",
       "text": [
        "\n",
        "1045\n",
        "1046\n",
        "1047\n",
        "1048\n",
        "1049\n",
        "1050"
       ]
      },
      {
       "output_type": "stream",
       "stream": "stdout",
       "text": [
        "\n",
        "1051\n",
        "1052\n",
        "1053"
       ]
      },
      {
       "output_type": "stream",
       "stream": "stdout",
       "text": [
        "\n",
        "1054\n",
        "1055\n",
        "1056\n",
        "1057\n",
        "1058"
       ]
      },
      {
       "output_type": "stream",
       "stream": "stdout",
       "text": [
        "\n",
        "1059\n",
        "1060\n",
        "1061\n",
        "1062\n",
        "1063"
       ]
      },
      {
       "output_type": "stream",
       "stream": "stdout",
       "text": [
        "\n",
        "1064\n",
        "1065\n",
        "1066\n",
        "1067\n",
        "1068"
       ]
      },
      {
       "output_type": "stream",
       "stream": "stdout",
       "text": [
        "\n",
        "1069\n",
        "1070\n",
        "1071\n",
        "1072\n",
        "1073\n",
        "1074"
       ]
      },
      {
       "output_type": "stream",
       "stream": "stdout",
       "text": [
        "\n",
        "1075\n",
        "1076\n",
        "1077"
       ]
      },
      {
       "output_type": "stream",
       "stream": "stdout",
       "text": [
        "\n",
        "1078\n",
        "1079\n",
        "1080\n",
        "1081\n",
        "1082"
       ]
      },
      {
       "output_type": "stream",
       "stream": "stdout",
       "text": [
        "\n",
        "1083\n",
        "1084\n",
        "1085"
       ]
      },
      {
       "output_type": "stream",
       "stream": "stdout",
       "text": [
        "\n",
        "1086\n",
        "1087\n",
        "1088\n",
        "1089"
       ]
      },
      {
       "output_type": "stream",
       "stream": "stdout",
       "text": [
        "\n",
        "1090\n",
        "1091\n",
        "1092\n",
        "1093\n",
        "1094"
       ]
      },
      {
       "output_type": "stream",
       "stream": "stdout",
       "text": [
        "\n",
        "1095\n",
        "1096\n",
        "1097"
       ]
      },
      {
       "output_type": "stream",
       "stream": "stdout",
       "text": [
        "\n",
        "1098\n",
        "1099\n",
        "1100\n",
        "1101\n",
        "1102"
       ]
      },
      {
       "output_type": "stream",
       "stream": "stdout",
       "text": [
        "\n",
        "1103"
       ]
      },
      {
       "output_type": "stream",
       "stream": "stdout",
       "text": [
        "\n",
        "1104\n",
        "1105\n",
        "1106"
       ]
      },
      {
       "output_type": "stream",
       "stream": "stdout",
       "text": [
        "\n",
        "1107\n",
        "1108\n",
        "1109\n",
        "1110\n",
        "1111"
       ]
      },
      {
       "output_type": "stream",
       "stream": "stdout",
       "text": [
        "\n",
        "1112\n",
        "1113\n",
        "1114\n",
        "1115\n",
        "1116"
       ]
      },
      {
       "output_type": "stream",
       "stream": "stdout",
       "text": [
        "\n",
        "1117\n",
        "1118\n",
        "1119\n",
        "1120\n",
        "1121"
       ]
      },
      {
       "output_type": "stream",
       "stream": "stdout",
       "text": [
        "\n",
        "1122\n",
        "1123\n",
        "1124\n",
        "1125"
       ]
      },
      {
       "output_type": "stream",
       "stream": "stdout",
       "text": [
        "\n",
        "1126\n",
        "1127\n",
        "1128\n",
        "1129\n",
        "1130"
       ]
      },
      {
       "output_type": "stream",
       "stream": "stdout",
       "text": [
        "\n",
        "1131\n",
        "1132\n",
        "1133\n",
        "1134\n",
        "1135"
       ]
      },
      {
       "output_type": "stream",
       "stream": "stdout",
       "text": [
        "\n",
        "1136\n",
        "1137\n",
        "1138\n",
        "1139"
       ]
      },
      {
       "output_type": "stream",
       "stream": "stdout",
       "text": [
        "\n",
        "1140\n",
        "1141\n",
        "1142\n",
        "1143"
       ]
      },
      {
       "output_type": "stream",
       "stream": "stdout",
       "text": [
        "\n",
        "1144\n",
        "1145\n",
        "1146"
       ]
      },
      {
       "output_type": "stream",
       "stream": "stdout",
       "text": [
        "\n",
        "1147\n",
        "1148\n",
        "1149"
       ]
      },
      {
       "output_type": "stream",
       "stream": "stdout",
       "text": [
        "\n",
        "1150"
       ]
      },
      {
       "output_type": "stream",
       "stream": "stdout",
       "text": [
        "\n",
        "1151\n",
        "1152\n",
        "1153\n",
        "1154"
       ]
      },
      {
       "output_type": "stream",
       "stream": "stdout",
       "text": [
        "\n",
        "1155\n",
        "1156\n",
        "1157\n",
        "1158"
       ]
      },
      {
       "output_type": "stream",
       "stream": "stdout",
       "text": [
        "\n",
        "1159\n",
        "1160\n",
        "1161\n",
        "1162\n",
        "1163"
       ]
      },
      {
       "output_type": "stream",
       "stream": "stdout",
       "text": [
        "\n",
        "1164\n",
        "1165\n",
        "1166"
       ]
      },
      {
       "output_type": "stream",
       "stream": "stdout",
       "text": [
        "\n",
        "1167\n",
        "1168\n",
        "1169\n",
        "1170\n",
        "1171"
       ]
      },
      {
       "output_type": "stream",
       "stream": "stdout",
       "text": [
        "\n",
        "1172\n",
        "1173"
       ]
      },
      {
       "output_type": "stream",
       "stream": "stdout",
       "text": [
        "\n",
        "1174\n",
        "1175\n",
        "1176"
       ]
      },
      {
       "output_type": "stream",
       "stream": "stdout",
       "text": [
        "\n",
        "1177\n",
        "1178\n",
        "1179"
       ]
      },
      {
       "output_type": "stream",
       "stream": "stdout",
       "text": [
        "\n",
        "1180\n",
        "1181\n",
        "1182\n",
        "1183"
       ]
      },
      {
       "output_type": "stream",
       "stream": "stdout",
       "text": [
        "\n",
        "1184\n",
        "1185\n",
        "1186"
       ]
      },
      {
       "output_type": "stream",
       "stream": "stdout",
       "text": [
        "\n",
        "1187\n",
        "1188\n",
        "1189\n",
        "1190"
       ]
      },
      {
       "output_type": "stream",
       "stream": "stdout",
       "text": [
        "\n",
        "1191\n",
        "1192\n",
        "1193\n",
        "1194\n",
        "1195\n",
        "1196"
       ]
      },
      {
       "output_type": "stream",
       "stream": "stdout",
       "text": [
        "\n",
        "1197\n",
        "1198\n",
        "1199\n",
        "1200"
       ]
      },
      {
       "output_type": "stream",
       "stream": "stdout",
       "text": [
        "\n",
        "1201\n",
        "1202\n",
        "1203"
       ]
      },
      {
       "output_type": "stream",
       "stream": "stdout",
       "text": [
        "\n",
        "1204\n",
        "1205\n",
        "1206\n",
        "1207\n",
        "1208"
       ]
      },
      {
       "output_type": "stream",
       "stream": "stdout",
       "text": [
        "\n",
        "1209\n",
        "1210\n",
        "1211\n",
        "1212\n",
        "1213"
       ]
      },
      {
       "output_type": "stream",
       "stream": "stdout",
       "text": [
        "\n",
        "1214\n",
        "1215\n",
        "1216\n",
        "1217"
       ]
      },
      {
       "output_type": "stream",
       "stream": "stdout",
       "text": [
        "\n",
        "1218\n",
        "1219\n",
        "1220\n",
        "1221\n",
        "1222"
       ]
      },
      {
       "output_type": "stream",
       "stream": "stdout",
       "text": [
        "\n",
        "1223\n",
        "1224\n",
        "1225\n",
        "1226"
       ]
      },
      {
       "output_type": "stream",
       "stream": "stdout",
       "text": [
        "\n",
        "1227\n",
        "1228\n",
        "1229\n",
        "1230\n",
        "1231"
       ]
      },
      {
       "output_type": "stream",
       "stream": "stdout",
       "text": [
        "\n",
        "1232\n",
        "1233\n",
        "1234"
       ]
      },
      {
       "output_type": "stream",
       "stream": "stdout",
       "text": [
        "\n",
        "1235\n",
        "1236\n",
        "1237"
       ]
      },
      {
       "output_type": "stream",
       "stream": "stdout",
       "text": [
        "\n",
        "1238\n",
        "1239\n",
        "1240"
       ]
      },
      {
       "output_type": "stream",
       "stream": "stdout",
       "text": [
        "\n",
        "1241\n",
        "1242\n",
        "1243\n",
        "1244\n",
        "1245"
       ]
      },
      {
       "output_type": "stream",
       "stream": "stdout",
       "text": [
        "\n",
        "1246\n",
        "1247\n",
        "1248\n",
        "1249"
       ]
      },
      {
       "output_type": "stream",
       "stream": "stdout",
       "text": [
        "\n",
        "1250\n",
        "1251\n",
        "1252\n",
        "1253\n",
        "1254"
       ]
      },
      {
       "output_type": "stream",
       "stream": "stdout",
       "text": [
        "\n",
        "1255"
       ]
      },
      {
       "output_type": "stream",
       "stream": "stdout",
       "text": [
        "\n",
        "1256\n",
        "1257"
       ]
      },
      {
       "output_type": "stream",
       "stream": "stdout",
       "text": [
        "\n",
        "1258\n",
        "1259"
       ]
      },
      {
       "output_type": "stream",
       "stream": "stdout",
       "text": [
        "\n",
        "1260\n",
        "1261\n",
        "1262\n",
        "1263"
       ]
      },
      {
       "output_type": "stream",
       "stream": "stdout",
       "text": [
        "\n",
        "1264\n",
        "1265"
       ]
      },
      {
       "output_type": "stream",
       "stream": "stdout",
       "text": [
        "\n",
        "1266\n",
        "1267\n",
        "1268"
       ]
      },
      {
       "output_type": "stream",
       "stream": "stdout",
       "text": [
        "\n",
        "1269\n",
        "1270\n",
        "1271\n",
        "1272"
       ]
      },
      {
       "output_type": "stream",
       "stream": "stdout",
       "text": [
        "\n",
        "1273\n",
        "1274\n",
        "1275"
       ]
      },
      {
       "output_type": "stream",
       "stream": "stdout",
       "text": [
        "\n",
        "1276\n",
        "1277\n",
        "1278\n",
        "1279"
       ]
      },
      {
       "output_type": "stream",
       "stream": "stdout",
       "text": [
        "\n",
        "1280\n",
        "1281\n",
        "1282\n",
        "1283"
       ]
      },
      {
       "output_type": "stream",
       "stream": "stdout",
       "text": [
        "\n",
        "1284\n",
        "1285\n",
        "1286"
       ]
      },
      {
       "output_type": "stream",
       "stream": "stdout",
       "text": [
        "\n",
        "1287\n",
        "1288\n",
        "1289\n",
        "1290"
       ]
      },
      {
       "output_type": "stream",
       "stream": "stdout",
       "text": [
        "\n",
        "1291\n",
        "1292\n",
        "1293\n",
        "1294"
       ]
      },
      {
       "output_type": "stream",
       "stream": "stdout",
       "text": [
        "\n",
        "1295\n",
        "1296\n",
        "1297\n",
        "1298"
       ]
      },
      {
       "output_type": "stream",
       "stream": "stdout",
       "text": [
        "\n",
        "1299\n",
        "1300\n",
        "1301\n",
        "1302"
       ]
      },
      {
       "output_type": "stream",
       "stream": "stdout",
       "text": [
        "\n",
        "1303\n",
        "1304\n",
        "1305\n",
        "1306\n",
        "1307"
       ]
      },
      {
       "output_type": "stream",
       "stream": "stdout",
       "text": [
        "\n",
        "1308\n",
        "1309\n",
        "1310\n",
        "1311"
       ]
      },
      {
       "output_type": "stream",
       "stream": "stdout",
       "text": [
        "\n",
        "1312\n",
        "1313\n",
        "1314\n",
        "1315"
       ]
      },
      {
       "output_type": "stream",
       "stream": "stdout",
       "text": [
        "\n",
        "1316\n",
        "1317\n",
        "1318\n",
        "1319"
       ]
      },
      {
       "output_type": "stream",
       "stream": "stdout",
       "text": [
        "\n",
        "1320\n",
        "1321\n",
        "1322\n",
        "1323\n",
        "1324"
       ]
      },
      {
       "output_type": "stream",
       "stream": "stdout",
       "text": [
        "\n",
        "1325\n",
        "1326\n",
        "1327\n",
        "1328\n",
        "1329"
       ]
      },
      {
       "output_type": "stream",
       "stream": "stdout",
       "text": [
        "\n",
        "1330\n",
        "1331\n",
        "1332\n",
        "1333"
       ]
      },
      {
       "output_type": "stream",
       "stream": "stdout",
       "text": [
        "\n",
        "1334\n",
        "1335\n",
        "1336\n",
        "1337"
       ]
      },
      {
       "output_type": "stream",
       "stream": "stdout",
       "text": [
        "\n",
        "1338\n",
        "1339\n",
        "1340\n",
        "1341"
       ]
      },
      {
       "output_type": "stream",
       "stream": "stdout",
       "text": [
        "\n",
        "1342\n",
        "1343\n",
        "1344\n",
        "1345\n",
        "1346"
       ]
      },
      {
       "output_type": "stream",
       "stream": "stdout",
       "text": [
        "\n",
        "1347\n",
        "1348"
       ]
      },
      {
       "output_type": "stream",
       "stream": "stdout",
       "text": [
        "\n",
        "1349\n",
        "1350\n",
        "1351\n",
        "1352\n",
        "1353\n",
        "1354"
       ]
      },
      {
       "output_type": "stream",
       "stream": "stdout",
       "text": [
        "\n",
        "1355\n",
        "1356\n",
        "1357\n",
        "1358"
       ]
      },
      {
       "output_type": "stream",
       "stream": "stdout",
       "text": [
        "\n",
        "1359\n",
        "1360\n",
        "1361\n",
        "1362"
       ]
      },
      {
       "output_type": "stream",
       "stream": "stdout",
       "text": [
        "\n",
        "1363\n",
        "1364\n",
        "1365\n",
        "1366\n",
        "1367"
       ]
      },
      {
       "output_type": "stream",
       "stream": "stdout",
       "text": [
        "\n",
        "1368\n",
        "1369\n",
        "1370\n",
        "1371"
       ]
      },
      {
       "output_type": "stream",
       "stream": "stdout",
       "text": [
        "\n",
        "1372\n",
        "1373\n",
        "1374\n",
        "1375\n",
        "1376\n",
        "1377"
       ]
      },
      {
       "output_type": "stream",
       "stream": "stdout",
       "text": [
        "\n",
        "1378\n",
        "1379\n",
        "1380"
       ]
      },
      {
       "output_type": "stream",
       "stream": "stdout",
       "text": [
        "\n",
        "1381\n",
        "1382\n",
        "1383\n",
        "1384\n",
        "1385\n",
        "1386"
       ]
      },
      {
       "output_type": "stream",
       "stream": "stdout",
       "text": [
        "\n",
        "1387\n",
        "1388\n",
        "1389"
       ]
      },
      {
       "output_type": "stream",
       "stream": "stdout",
       "text": [
        "\n",
        "1390\n",
        "1391\n",
        "1392\n",
        "1393\n",
        "1394"
       ]
      },
      {
       "output_type": "stream",
       "stream": "stdout",
       "text": [
        "\n",
        "1395\n",
        "1396\n",
        "1397\n",
        "1398"
       ]
      },
      {
       "output_type": "stream",
       "stream": "stdout",
       "text": [
        "\n",
        "1399\n",
        "1400\n",
        "1401\n",
        "1402"
       ]
      },
      {
       "output_type": "stream",
       "stream": "stdout",
       "text": [
        "\n",
        "1403\n",
        "1404\n",
        "1405\n",
        "1406"
       ]
      },
      {
       "output_type": "stream",
       "stream": "stdout",
       "text": [
        "\n",
        "1407\n",
        "1408\n",
        "1409\n",
        "1410\n",
        "1411\n",
        "1412\n",
        "1413"
       ]
      },
      {
       "output_type": "stream",
       "stream": "stdout",
       "text": [
        "\n",
        "1414\n",
        "1415\n",
        "1416\n",
        "1417"
       ]
      },
      {
       "output_type": "stream",
       "stream": "stdout",
       "text": [
        "\n",
        "1418\n",
        "1419\n",
        "1420\n",
        "1421\n",
        "1422"
       ]
      },
      {
       "output_type": "stream",
       "stream": "stdout",
       "text": [
        "\n",
        "1423\n",
        "1424\n",
        "1425\n",
        "1426"
       ]
      },
      {
       "output_type": "stream",
       "stream": "stdout",
       "text": [
        "\n",
        "1427\n",
        "1428\n",
        "1429\n",
        "1430\n",
        "1431"
       ]
      },
      {
       "output_type": "stream",
       "stream": "stdout",
       "text": [
        "\n",
        "1432\n",
        "1433\n",
        "1434\n",
        "1435\n",
        "1436"
       ]
      },
      {
       "output_type": "stream",
       "stream": "stdout",
       "text": [
        "\n",
        "1437\n",
        "1438\n",
        "1439\n",
        "1440"
       ]
      },
      {
       "output_type": "stream",
       "stream": "stdout",
       "text": [
        "\n",
        "1441\n",
        "1442\n",
        "1443\n",
        "1444"
       ]
      },
      {
       "output_type": "stream",
       "stream": "stdout",
       "text": [
        "\n",
        "1445\n",
        "1446\n",
        "1447\n",
        "1448"
       ]
      },
      {
       "output_type": "stream",
       "stream": "stdout",
       "text": [
        "\n",
        "1449\n",
        "1450\n",
        "1451\n",
        "1452\n",
        "1453"
       ]
      },
      {
       "output_type": "stream",
       "stream": "stdout",
       "text": [
        "\n",
        "1454\n",
        "1455\n",
        "1456\n",
        "1457\n",
        "1458"
       ]
      },
      {
       "output_type": "stream",
       "stream": "stdout",
       "text": [
        "\n",
        "1459\n",
        "1460\n",
        "1461\n",
        "1462\n",
        "1463"
       ]
      },
      {
       "output_type": "stream",
       "stream": "stdout",
       "text": [
        "\n",
        "1464\n",
        "1465\n",
        "1466\n",
        "1467\n",
        "1468\n",
        "1469"
       ]
      },
      {
       "output_type": "stream",
       "stream": "stdout",
       "text": [
        "\n",
        "1470\n",
        "1471"
       ]
      },
      {
       "output_type": "stream",
       "stream": "stdout",
       "text": [
        "\n",
        "1472\n",
        "1473\n",
        "1474"
       ]
      },
      {
       "output_type": "stream",
       "stream": "stdout",
       "text": [
        "\n",
        "1475\n",
        "1476\n",
        "1477\n",
        "1478"
       ]
      },
      {
       "output_type": "stream",
       "stream": "stdout",
       "text": [
        "\n",
        "1479\n",
        "1480\n",
        "1481\n",
        "1482\n",
        "1483"
       ]
      },
      {
       "output_type": "stream",
       "stream": "stdout",
       "text": [
        "\n",
        "1484\n",
        "1485\n",
        "1486"
       ]
      },
      {
       "output_type": "stream",
       "stream": "stdout",
       "text": [
        "\n",
        "1487\n",
        "1488\n",
        "1489"
       ]
      },
      {
       "output_type": "stream",
       "stream": "stdout",
       "text": [
        "\n",
        "1490\n",
        "1491\n",
        "1492\n",
        "1493\n",
        "1494\n",
        "1495\n",
        "1496"
       ]
      },
      {
       "output_type": "stream",
       "stream": "stdout",
       "text": [
        "\n",
        "1497\n",
        "1498\n",
        "1499\n",
        "1500"
       ]
      },
      {
       "output_type": "stream",
       "stream": "stdout",
       "text": [
        "\n",
        "1501\n",
        "1502\n",
        "1503\n",
        "1504"
       ]
      },
      {
       "output_type": "stream",
       "stream": "stdout",
       "text": [
        "\n",
        "1505\n",
        "1506\n",
        "1507"
       ]
      },
      {
       "output_type": "stream",
       "stream": "stdout",
       "text": [
        "\n",
        "1508\n",
        "1509\n",
        "1510\n",
        "1511\n",
        "1512\n",
        "1513"
       ]
      },
      {
       "output_type": "stream",
       "stream": "stdout",
       "text": [
        "\n",
        "1514\n",
        "1515\n",
        "1516\n",
        "1517\n",
        "1518"
       ]
      },
      {
       "output_type": "stream",
       "stream": "stdout",
       "text": [
        "\n",
        "1519\n",
        "1520\n",
        "1521\n",
        "1522\n",
        "1523"
       ]
      },
      {
       "output_type": "stream",
       "stream": "stdout",
       "text": [
        "\n",
        "1524\n",
        "1525\n",
        "1526\n",
        "1527"
       ]
      },
      {
       "output_type": "stream",
       "stream": "stdout",
       "text": [
        "\n",
        "1528\n",
        "1529\n",
        "1530\n",
        "1531"
       ]
      },
      {
       "output_type": "stream",
       "stream": "stdout",
       "text": [
        "\n",
        "1532\n",
        "1533\n",
        "1534\n",
        "1535\n",
        "1536\n",
        "1537"
       ]
      },
      {
       "output_type": "stream",
       "stream": "stdout",
       "text": [
        "\n",
        "1538\n",
        "1539\n",
        "1540\n",
        "1541\n",
        "1542\n",
        "1543"
       ]
      },
      {
       "output_type": "stream",
       "stream": "stdout",
       "text": [
        "\n",
        "1544\n",
        "1545\n",
        "1546\n",
        "1547"
       ]
      },
      {
       "output_type": "stream",
       "stream": "stdout",
       "text": [
        "\n",
        "1548\n",
        "1549\n",
        "1550"
       ]
      },
      {
       "output_type": "stream",
       "stream": "stdout",
       "text": [
        "\n",
        "1551\n",
        "1552\n",
        "1553\n",
        "1554"
       ]
      },
      {
       "output_type": "stream",
       "stream": "stdout",
       "text": [
        "\n",
        "1555\n",
        "1556\n",
        "1557\n",
        "1558\n",
        "1559\n",
        "1560"
       ]
      },
      {
       "output_type": "stream",
       "stream": "stdout",
       "text": [
        "\n",
        "1561\n",
        "1562\n",
        "1563\n",
        "1564"
       ]
      },
      {
       "output_type": "stream",
       "stream": "stdout",
       "text": [
        "\n",
        "1565\n",
        "1566\n",
        "1567\n",
        "1568\n",
        "1569"
       ]
      },
      {
       "output_type": "stream",
       "stream": "stdout",
       "text": [
        "\n",
        "1570\n",
        "1571\n",
        "1572\n",
        "1573\n",
        "1574\n",
        "1575"
       ]
      },
      {
       "output_type": "stream",
       "stream": "stdout",
       "text": [
        "\n",
        "1576\n",
        "1577\n",
        "1578"
       ]
      },
      {
       "output_type": "stream",
       "stream": "stdout",
       "text": [
        "\n",
        "1579\n",
        "1580\n",
        "1581\n",
        "1582\n",
        "1583"
       ]
      },
      {
       "output_type": "stream",
       "stream": "stdout",
       "text": [
        "\n",
        "1584\n",
        "1585\n",
        "1586"
       ]
      },
      {
       "output_type": "stream",
       "stream": "stdout",
       "text": [
        "\n",
        "1587\n",
        "1588\n",
        "1589\n",
        "1590\n",
        "1591"
       ]
      },
      {
       "output_type": "stream",
       "stream": "stdout",
       "text": [
        "\n",
        "1592\n",
        "1593\n",
        "1594\n",
        "1595\n",
        "1596\n",
        "1597"
       ]
      },
      {
       "output_type": "stream",
       "stream": "stdout",
       "text": [
        "\n",
        "1598\n",
        "1599\n",
        "1600\n",
        "1601"
       ]
      },
      {
       "output_type": "stream",
       "stream": "stdout",
       "text": [
        "\n",
        "1602\n",
        "1603\n",
        "1604\n",
        "1605\n",
        "1606\n",
        "1607"
       ]
      },
      {
       "output_type": "stream",
       "stream": "stdout",
       "text": [
        "\n",
        "1608\n",
        "1609\n",
        "1610\n",
        "1611\n",
        "1612\n",
        "1613"
       ]
      },
      {
       "output_type": "stream",
       "stream": "stdout",
       "text": [
        "\n",
        "1614\n",
        "1615\n",
        "1616\n",
        "1617\n",
        "1618"
       ]
      },
      {
       "output_type": "stream",
       "stream": "stdout",
       "text": [
        "\n",
        "1619\n",
        "1620\n",
        "1621\n",
        "1622\n",
        "1623\n",
        "1624\n",
        "1625"
       ]
      },
      {
       "output_type": "stream",
       "stream": "stdout",
       "text": [
        "\n",
        "1626\n",
        "1627"
       ]
      },
      {
       "output_type": "stream",
       "stream": "stdout",
       "text": [
        "\n",
        "1628\n",
        "1629\n",
        "1630\n",
        "1631\n",
        "1632\n",
        "1633"
       ]
      },
      {
       "output_type": "stream",
       "stream": "stdout",
       "text": [
        "\n",
        "1634\n",
        "1635\n",
        "1636\n",
        "1637\n",
        "1638"
       ]
      },
      {
       "output_type": "stream",
       "stream": "stdout",
       "text": [
        "\n",
        "1639\n",
        "1640\n",
        "1641\n",
        "1642"
       ]
      },
      {
       "output_type": "stream",
       "stream": "stdout",
       "text": [
        "\n",
        "1643\n",
        "1644\n",
        "1645\n",
        "1646\n",
        "1647"
       ]
      },
      {
       "output_type": "stream",
       "stream": "stdout",
       "text": [
        "\n",
        "1648\n",
        "1649\n",
        "1650\n",
        "1651"
       ]
      },
      {
       "output_type": "stream",
       "stream": "stdout",
       "text": [
        "\n",
        "1652\n",
        "1653\n",
        "1654\n",
        "1655\n",
        "1656\n",
        "1657"
       ]
      },
      {
       "output_type": "stream",
       "stream": "stdout",
       "text": [
        "\n",
        "1658\n",
        "1659\n",
        "1660\n",
        "1661\n",
        "1662"
       ]
      },
      {
       "output_type": "stream",
       "stream": "stdout",
       "text": [
        "\n",
        "1663\n",
        "1664\n",
        "1665\n",
        "1666\n",
        "1667"
       ]
      },
      {
       "output_type": "stream",
       "stream": "stdout",
       "text": [
        "\n",
        "1668\n",
        "1669\n",
        "1670\n",
        "1671"
       ]
      },
      {
       "output_type": "stream",
       "stream": "stdout",
       "text": [
        "\n",
        "1672\n",
        "1673\n",
        "1674\n",
        "1675"
       ]
      },
      {
       "output_type": "stream",
       "stream": "stdout",
       "text": [
        "\n",
        "1676\n",
        "1677\n",
        "1678\n",
        "1679\n",
        "1680"
       ]
      },
      {
       "output_type": "stream",
       "stream": "stdout",
       "text": [
        "\n",
        "1681\n",
        "1682\n",
        "1683\n",
        "1684"
       ]
      },
      {
       "output_type": "stream",
       "stream": "stdout",
       "text": [
        "\n",
        "1685\n",
        "1686\n",
        "1687\n",
        "1688\n",
        "1689\n",
        "1690"
       ]
      },
      {
       "output_type": "stream",
       "stream": "stdout",
       "text": [
        "\n",
        "1691\n",
        "1692\n",
        "1693\n",
        "1694"
       ]
      },
      {
       "output_type": "stream",
       "stream": "stdout",
       "text": [
        "\n",
        "1695\n",
        "1696\n",
        "1697"
       ]
      },
      {
       "output_type": "stream",
       "stream": "stdout",
       "text": [
        "\n",
        "1698\n",
        "1699\n",
        "1700\n",
        "1701"
       ]
      },
      {
       "output_type": "stream",
       "stream": "stdout",
       "text": [
        "\n",
        "1702\n",
        "1703\n",
        "1704\n",
        "1705\n",
        "1706\n",
        "1707\n",
        "1708"
       ]
      },
      {
       "output_type": "stream",
       "stream": "stdout",
       "text": [
        "\n",
        "1709\n",
        "1710\n",
        "1711\n",
        "1712"
       ]
      },
      {
       "output_type": "stream",
       "stream": "stdout",
       "text": [
        "\n",
        "1713\n",
        "1714\n",
        "1715\n",
        "1716\n",
        "1717\n",
        "1718"
       ]
      },
      {
       "output_type": "stream",
       "stream": "stdout",
       "text": [
        "\n",
        "1719\n",
        "1720\n",
        "1721\n",
        "1722"
       ]
      },
      {
       "output_type": "stream",
       "stream": "stdout",
       "text": [
        "\n",
        "1723\n",
        "1724\n",
        "1725\n",
        "1726\n",
        "1727"
       ]
      },
      {
       "output_type": "stream",
       "stream": "stdout",
       "text": [
        "\n",
        "1728\n",
        "1729\n",
        "1730\n",
        "1731"
       ]
      },
      {
       "output_type": "stream",
       "stream": "stdout",
       "text": [
        "\n",
        "1732\n",
        "1733\n",
        "1734\n",
        "1735\n",
        "1736\n",
        "1737"
       ]
      },
      {
       "output_type": "stream",
       "stream": "stdout",
       "text": [
        "\n",
        "1738\n",
        "1739\n",
        "1740\n",
        "1741\n",
        "1742\n",
        "1743"
       ]
      },
      {
       "output_type": "stream",
       "stream": "stdout",
       "text": [
        "\n",
        "1744\n",
        "1745\n",
        "1746\n",
        "1747"
       ]
      },
      {
       "output_type": "stream",
       "stream": "stdout",
       "text": [
        "\n",
        "1748\n",
        "1749\n",
        "1750\n",
        "1751\n",
        "1752"
       ]
      },
      {
       "output_type": "stream",
       "stream": "stdout",
       "text": [
        "\n",
        "1753"
       ]
      },
      {
       "output_type": "stream",
       "stream": "stdout",
       "text": [
        "\n",
        "1754\n",
        "1755\n",
        "1756\n",
        "1757"
       ]
      },
      {
       "output_type": "stream",
       "stream": "stdout",
       "text": [
        "\n",
        "1758\n",
        "1759\n",
        "1760\n",
        "1761\n",
        "1762\n",
        "1763"
       ]
      },
      {
       "output_type": "stream",
       "stream": "stdout",
       "text": [
        "\n",
        "1764\n",
        "1765\n",
        "1766"
       ]
      },
      {
       "output_type": "stream",
       "stream": "stdout",
       "text": [
        "\n",
        "1767\n",
        "1768\n",
        "1769\n",
        "1770"
       ]
      },
      {
       "output_type": "stream",
       "stream": "stdout",
       "text": [
        "\n",
        "1771\n",
        "1772\n",
        "1773\n",
        "1774"
       ]
      },
      {
       "output_type": "stream",
       "stream": "stdout",
       "text": [
        "\n",
        "1775\n",
        "1776\n",
        "1777\n",
        "1778\n",
        "1779"
       ]
      },
      {
       "output_type": "stream",
       "stream": "stdout",
       "text": [
        "\n",
        "1780\n",
        "1781"
       ]
      },
      {
       "output_type": "stream",
       "stream": "stdout",
       "text": [
        "\n",
        "1782\n",
        "1783\n",
        "1784\n",
        "1785\n",
        "1786\n",
        "1787"
       ]
      },
      {
       "output_type": "stream",
       "stream": "stdout",
       "text": [
        "\n",
        "1788\n",
        "1789\n",
        "1790"
       ]
      },
      {
       "output_type": "stream",
       "stream": "stdout",
       "text": [
        "\n",
        "1791\n",
        "1792\n",
        "1793\n",
        "1794"
       ]
      },
      {
       "output_type": "stream",
       "stream": "stdout",
       "text": [
        "\n",
        "1795\n",
        "1796\n",
        "1797"
       ]
      },
      {
       "output_type": "stream",
       "stream": "stdout",
       "text": [
        "\n",
        "1798\n",
        "1799\n",
        "1800\n",
        "1801"
       ]
      },
      {
       "output_type": "stream",
       "stream": "stdout",
       "text": [
        "\n",
        "1802\n",
        "1803\n",
        "1804\n",
        "1805"
       ]
      },
      {
       "output_type": "stream",
       "stream": "stdout",
       "text": [
        "\n",
        "1806\n",
        "1807\n",
        "1808\n",
        "1809\n",
        "1810\n",
        "1811"
       ]
      },
      {
       "output_type": "stream",
       "stream": "stdout",
       "text": [
        "\n",
        "1812\n",
        "1813\n",
        "1814\n",
        "1815"
       ]
      },
      {
       "output_type": "stream",
       "stream": "stdout",
       "text": [
        "\n",
        "1816\n",
        "1817\n",
        "1818\n",
        "1819\n",
        "1820"
       ]
      },
      {
       "output_type": "stream",
       "stream": "stdout",
       "text": [
        "\n",
        "1821\n",
        "1822\n",
        "1823\n",
        "1824\n",
        "1825"
       ]
      },
      {
       "output_type": "stream",
       "stream": "stdout",
       "text": [
        "\n",
        "1826\n",
        "1827\n",
        "1828\n",
        "1829"
       ]
      },
      {
       "output_type": "stream",
       "stream": "stdout",
       "text": [
        "\n",
        "1830\n",
        "1831\n",
        "1832\n",
        "1833\n",
        "1834"
       ]
      },
      {
       "output_type": "stream",
       "stream": "stdout",
       "text": [
        "\n",
        "1835"
       ]
      },
      {
       "output_type": "stream",
       "stream": "stdout",
       "text": [
        "\n",
        "1836\n",
        "1837\n",
        "1838"
       ]
      },
      {
       "output_type": "stream",
       "stream": "stdout",
       "text": [
        "\n",
        "1839\n",
        "1840\n",
        "1841\n",
        "1842"
       ]
      },
      {
       "output_type": "stream",
       "stream": "stdout",
       "text": [
        "\n",
        "1843\n",
        "1844\n",
        "1845\n",
        "1846\n",
        "1847\n",
        "1848"
       ]
      },
      {
       "output_type": "stream",
       "stream": "stdout",
       "text": [
        "\n",
        "1849\n",
        "1850\n",
        "1851"
       ]
      },
      {
       "output_type": "stream",
       "stream": "stdout",
       "text": [
        "\n",
        "1852\n",
        "1853\n",
        "1854\n",
        "1855\n",
        "1856"
       ]
      },
      {
       "output_type": "stream",
       "stream": "stdout",
       "text": [
        "\n",
        "1857\n",
        "1858\n",
        "1859\n",
        "1860"
       ]
      },
      {
       "output_type": "stream",
       "stream": "stdout",
       "text": [
        "\n",
        "1861\n",
        "1862\n",
        "1863\n",
        "1864"
       ]
      },
      {
       "output_type": "stream",
       "stream": "stdout",
       "text": [
        "\n",
        "1865\n",
        "1866\n",
        "1867\n",
        "1868\n",
        "1869"
       ]
      },
      {
       "output_type": "stream",
       "stream": "stdout",
       "text": [
        "\n",
        "1870\n",
        "1871\n",
        "1872\n",
        "1873"
       ]
      },
      {
       "output_type": "stream",
       "stream": "stdout",
       "text": [
        "\n",
        "1874\n",
        "1875\n",
        "1876\n",
        "1877\n",
        "1878\n",
        "1879"
       ]
      },
      {
       "output_type": "stream",
       "stream": "stdout",
       "text": [
        "\n",
        "1880\n",
        "1881\n",
        "1882\n",
        "1883"
       ]
      },
      {
       "output_type": "stream",
       "stream": "stdout",
       "text": [
        "\n",
        "1884\n",
        "1885\n",
        "1886\n",
        "1887"
       ]
      },
      {
       "output_type": "stream",
       "stream": "stdout",
       "text": [
        "\n",
        "1888\n",
        "1889"
       ]
      },
      {
       "output_type": "stream",
       "stream": "stdout",
       "text": [
        "\n",
        "1890\n",
        "1891\n",
        "1892"
       ]
      },
      {
       "output_type": "stream",
       "stream": "stdout",
       "text": [
        "\n",
        "1893\n",
        "1894\n",
        "1895"
       ]
      },
      {
       "output_type": "stream",
       "stream": "stdout",
       "text": [
        "\n",
        "1896\n",
        "1897\n",
        "1898\n",
        "1899\n",
        "1900"
       ]
      },
      {
       "output_type": "stream",
       "stream": "stdout",
       "text": [
        "\n",
        "1901\n",
        "1902\n",
        "1903"
       ]
      },
      {
       "output_type": "stream",
       "stream": "stdout",
       "text": [
        "\n",
        "1904\n",
        "1905\n",
        "1906\n",
        "1907\n",
        "1908\n",
        "1909"
       ]
      },
      {
       "output_type": "stream",
       "stream": "stdout",
       "text": [
        "\n",
        "1910\n",
        "1911\n",
        "1912\n",
        "1913\n",
        "1914\n",
        "1915"
       ]
      },
      {
       "output_type": "stream",
       "stream": "stdout",
       "text": [
        "\n",
        "1916\n",
        "1917\n",
        "1918\n",
        "1919"
       ]
      },
      {
       "output_type": "stream",
       "stream": "stdout",
       "text": [
        "\n",
        "1920\n",
        "1921\n",
        "1922\n",
        "1923"
       ]
      },
      {
       "output_type": "stream",
       "stream": "stdout",
       "text": [
        "\n",
        "1924\n",
        "1925\n",
        "1926\n",
        "1927"
       ]
      },
      {
       "output_type": "stream",
       "stream": "stdout",
       "text": [
        "\n",
        "1928\n",
        "1929\n",
        "1930\n",
        "1931\n",
        "1932\n",
        "1933"
       ]
      },
      {
       "output_type": "stream",
       "stream": "stdout",
       "text": [
        "\n",
        "1934\n",
        "1935\n",
        "1936\n",
        "1937\n",
        "1938\n",
        "1939"
       ]
      },
      {
       "output_type": "stream",
       "stream": "stdout",
       "text": [
        "\n",
        "1940\n",
        "1941\n",
        "1942\n",
        "1943\n",
        "1944"
       ]
      },
      {
       "output_type": "stream",
       "stream": "stdout",
       "text": [
        "\n",
        "1945\n",
        "1946"
       ]
      },
      {
       "output_type": "stream",
       "stream": "stdout",
       "text": [
        "\n",
        "1947\n",
        "1948\n",
        "1949\n",
        "1950\n",
        "1951\n",
        "1952"
       ]
      },
      {
       "output_type": "stream",
       "stream": "stdout",
       "text": [
        "\n",
        "1953\n",
        "1954\n",
        "1955\n",
        "1956"
       ]
      },
      {
       "output_type": "stream",
       "stream": "stdout",
       "text": [
        "\n",
        "1957\n",
        "1958\n",
        "1959\n",
        "1960\n",
        "1961"
       ]
      },
      {
       "output_type": "stream",
       "stream": "stdout",
       "text": [
        "\n",
        "1962\n",
        "1963\n",
        "1964\n",
        "1965"
       ]
      },
      {
       "output_type": "stream",
       "stream": "stdout",
       "text": [
        "\n",
        "1966\n",
        "1967\n",
        "1968\n",
        "1969\n",
        "1970"
       ]
      },
      {
       "output_type": "stream",
       "stream": "stdout",
       "text": [
        "\n",
        "1971\n",
        "1972\n",
        "1973\n",
        "1974\n",
        "1975"
       ]
      },
      {
       "output_type": "stream",
       "stream": "stdout",
       "text": [
        "\n",
        "1976\n",
        "1977\n",
        "1978\n",
        "1979"
       ]
      },
      {
       "output_type": "stream",
       "stream": "stdout",
       "text": [
        "\n",
        "1980\n",
        "1981"
       ]
      },
      {
       "output_type": "stream",
       "stream": "stdout",
       "text": [
        "\n",
        "1982\n",
        "1983\n",
        "1984\n",
        "1985\n",
        "1986\n",
        "1987\n",
        "1988"
       ]
      },
      {
       "output_type": "stream",
       "stream": "stdout",
       "text": [
        "\n",
        "1989\n",
        "1990\n",
        "1991\n",
        "1992\n",
        "1993"
       ]
      },
      {
       "output_type": "stream",
       "stream": "stdout",
       "text": [
        "\n",
        "1994\n",
        "1995\n",
        "1996\n",
        "1997\n",
        "1998\n",
        "1999"
       ]
      },
      {
       "output_type": "stream",
       "stream": "stdout",
       "text": [
        "\n",
        "2000\n",
        "2001\n",
        "2002\n",
        "2003\n",
        "2004\n",
        "2005\n",
        "2006"
       ]
      },
      {
       "output_type": "stream",
       "stream": "stdout",
       "text": [
        "\n",
        "2007\n",
        "2008\n",
        "2009"
       ]
      },
      {
       "output_type": "stream",
       "stream": "stdout",
       "text": [
        "\n",
        "2010\n",
        "2011\n",
        "2012\n",
        "2013"
       ]
      },
      {
       "output_type": "stream",
       "stream": "stdout",
       "text": [
        "\n",
        "2014\n",
        "2015\n",
        "2016\n",
        "2017"
       ]
      },
      {
       "output_type": "stream",
       "stream": "stdout",
       "text": [
        "\n",
        "2018"
       ]
      },
      {
       "output_type": "stream",
       "stream": "stdout",
       "text": [
        "\n",
        "2019\n",
        "2020\n",
        "2021\n",
        "2022\n",
        "2023"
       ]
      },
      {
       "output_type": "stream",
       "stream": "stdout",
       "text": [
        "\n",
        "2024\n",
        "2025\n",
        "2026"
       ]
      },
      {
       "output_type": "stream",
       "stream": "stdout",
       "text": [
        "\n",
        "2027\n",
        "2028\n",
        "2029\n",
        "2030\n",
        "2031"
       ]
      },
      {
       "output_type": "stream",
       "stream": "stdout",
       "text": [
        "\n",
        "2032\n",
        "2033\n",
        "2034\n",
        "2035"
       ]
      },
      {
       "output_type": "stream",
       "stream": "stdout",
       "text": [
        "\n",
        "2036\n",
        "2037\n",
        "2038\n",
        "2039\n",
        "2040"
       ]
      },
      {
       "output_type": "stream",
       "stream": "stdout",
       "text": [
        "\n",
        "2041\n",
        "2042\n",
        "2043"
       ]
      },
      {
       "output_type": "stream",
       "stream": "stdout",
       "text": [
        "\n",
        "2044\n",
        "2045\n",
        "2046\n",
        "2047"
       ]
      },
      {
       "output_type": "stream",
       "stream": "stdout",
       "text": [
        "\n",
        "2048\n",
        "2049\n",
        "2050\n",
        "2051\n",
        "2052"
       ]
      },
      {
       "output_type": "stream",
       "stream": "stdout",
       "text": [
        "\n",
        "2053\n",
        "2054\n",
        "2055"
       ]
      },
      {
       "output_type": "stream",
       "stream": "stdout",
       "text": [
        "\n",
        "2056\n",
        "2057\n",
        "2058"
       ]
      },
      {
       "output_type": "stream",
       "stream": "stdout",
       "text": [
        "\n",
        "2059\n",
        "2060\n",
        "2061\n",
        "2062\n",
        "2063"
       ]
      },
      {
       "output_type": "stream",
       "stream": "stdout",
       "text": [
        "\n",
        "2064\n",
        "2065\n",
        "2066\n",
        "2067\n",
        "2068"
       ]
      },
      {
       "output_type": "stream",
       "stream": "stdout",
       "text": [
        "\n",
        "2069\n",
        "2070\n",
        "2071"
       ]
      },
      {
       "output_type": "stream",
       "stream": "stdout",
       "text": [
        "\n",
        "2072\n",
        "2073\n",
        "2074"
       ]
      },
      {
       "output_type": "stream",
       "stream": "stdout",
       "text": [
        "\n",
        "2075\n",
        "2076\n",
        "2077\n",
        "2078\n",
        "2079"
       ]
      },
      {
       "output_type": "stream",
       "stream": "stdout",
       "text": [
        "\n",
        "2080\n",
        "2081"
       ]
      },
      {
       "output_type": "stream",
       "stream": "stdout",
       "text": [
        "\n",
        "2082\n",
        "2083\n",
        "2084\n",
        "2085\n",
        "2086\n",
        "2087\n",
        "2088"
       ]
      },
      {
       "output_type": "stream",
       "stream": "stdout",
       "text": [
        "\n",
        "2089\n",
        "2090\n",
        "2091\n",
        "2092\n",
        "2093"
       ]
      },
      {
       "output_type": "stream",
       "stream": "stdout",
       "text": [
        "\n",
        "2094\n",
        "2095\n",
        "2096"
       ]
      },
      {
       "output_type": "stream",
       "stream": "stdout",
       "text": [
        "\n",
        "2097\n",
        "2098\n",
        "2099\n",
        "2100\n",
        "2101"
       ]
      },
      {
       "output_type": "stream",
       "stream": "stdout",
       "text": [
        "\n",
        "2102"
       ]
      },
      {
       "output_type": "stream",
       "stream": "stdout",
       "text": [
        "\n",
        "2103\n",
        "2104\n",
        "2105\n",
        "2106"
       ]
      },
      {
       "output_type": "stream",
       "stream": "stdout",
       "text": [
        "\n",
        "2107\n",
        "2108\n",
        "2109\n",
        "2110"
       ]
      },
      {
       "output_type": "stream",
       "stream": "stdout",
       "text": [
        "\n",
        "2111\n",
        "2112\n",
        "2113\n",
        "2114\n",
        "2115"
       ]
      },
      {
       "output_type": "stream",
       "stream": "stdout",
       "text": [
        "\n",
        "2116\n",
        "2117\n",
        "2118\n",
        "2119\n",
        "2120"
       ]
      },
      {
       "output_type": "stream",
       "stream": "stdout",
       "text": [
        "\n",
        "2121\n",
        "2122\n",
        "2123\n",
        "2124\n",
        "2125"
       ]
      },
      {
       "output_type": "stream",
       "stream": "stdout",
       "text": [
        "\n",
        "2126\n",
        "2127\n",
        "2128\n",
        "2129\n",
        "2130"
       ]
      },
      {
       "output_type": "stream",
       "stream": "stdout",
       "text": [
        "\n",
        "2131\n",
        "2132\n",
        "2133"
       ]
      },
      {
       "output_type": "stream",
       "stream": "stdout",
       "text": [
        "\n",
        "2134\n",
        "2135\n",
        "2136\n",
        "2137\n",
        "2138\n",
        "2139"
       ]
      },
      {
       "output_type": "stream",
       "stream": "stdout",
       "text": [
        "\n",
        "2140\n",
        "2141\n",
        "2142\n",
        "2143"
       ]
      },
      {
       "output_type": "stream",
       "stream": "stdout",
       "text": [
        "\n",
        "2144\n",
        "2145\n",
        "2146\n",
        "2147"
       ]
      },
      {
       "output_type": "stream",
       "stream": "stdout",
       "text": [
        "\n",
        "2148\n",
        "2149\n",
        "2150\n",
        "2151"
       ]
      },
      {
       "output_type": "stream",
       "stream": "stdout",
       "text": [
        "\n",
        "2152\n",
        "2153\n",
        "2154\n",
        "2155"
       ]
      },
      {
       "output_type": "stream",
       "stream": "stdout",
       "text": [
        "\n",
        "2156\n",
        "2157\n",
        "2158\n",
        "2159\n",
        "2160\n",
        "2161\n",
        "2162\n",
        "2163"
       ]
      },
      {
       "output_type": "stream",
       "stream": "stdout",
       "text": [
        "\n",
        "2164\n",
        "2165"
       ]
      },
      {
       "output_type": "stream",
       "stream": "stdout",
       "text": [
        "\n",
        "2166\n",
        "2167\n",
        "2168"
       ]
      },
      {
       "output_type": "stream",
       "stream": "stdout",
       "text": [
        "\n",
        "2169\n",
        "2170\n",
        "2171\n",
        "2172"
       ]
      },
      {
       "output_type": "stream",
       "stream": "stdout",
       "text": [
        "\n",
        "2173\n",
        "2174\n",
        "2175\n",
        "2176\n",
        "2177"
       ]
      },
      {
       "output_type": "stream",
       "stream": "stdout",
       "text": [
        "\n",
        "2178\n",
        "2179\n",
        "2180\n",
        "2181"
       ]
      },
      {
       "output_type": "stream",
       "stream": "stdout",
       "text": [
        "\n",
        "2182\n",
        "2183\n",
        "2184\n",
        "2185"
       ]
      },
      {
       "output_type": "stream",
       "stream": "stdout",
       "text": [
        "\n",
        "2186\n",
        "2187\n",
        "2188"
       ]
      },
      {
       "output_type": "stream",
       "stream": "stdout",
       "text": [
        "\n",
        "2189\n",
        "2190\n",
        "2191\n",
        "2192\n",
        "2193\n",
        "2194"
       ]
      },
      {
       "output_type": "stream",
       "stream": "stdout",
       "text": [
        "\n",
        "2195\n",
        "2196\n",
        "2197\n",
        "2198\n",
        "2199\n",
        "2200"
       ]
      },
      {
       "output_type": "stream",
       "stream": "stdout",
       "text": [
        "\n",
        "2201\n",
        "2202\n",
        "2203\n",
        "2204\n",
        "2205\n",
        "2206"
       ]
      },
      {
       "output_type": "stream",
       "stream": "stdout",
       "text": [
        "\n",
        "2207\n",
        "2208\n",
        "2209\n",
        "2210\n",
        "2211"
       ]
      },
      {
       "output_type": "stream",
       "stream": "stdout",
       "text": [
        "\n",
        "2212\n",
        "2213\n",
        "2214\n",
        "2215"
       ]
      },
      {
       "output_type": "stream",
       "stream": "stdout",
       "text": [
        "\n",
        "2216\n",
        "2217\n",
        "2218\n",
        "2219\n",
        "2220"
       ]
      },
      {
       "output_type": "stream",
       "stream": "stdout",
       "text": [
        "\n",
        "2221\n",
        "2222\n",
        "2223"
       ]
      },
      {
       "output_type": "stream",
       "stream": "stdout",
       "text": [
        "\n",
        "2224\n",
        "2225\n",
        "2226\n",
        "2227\n",
        "2228"
       ]
      },
      {
       "output_type": "stream",
       "stream": "stdout",
       "text": [
        "\n",
        "2229\n",
        "2230\n",
        "2231\n",
        "2232\n",
        "2233"
       ]
      },
      {
       "output_type": "stream",
       "stream": "stdout",
       "text": [
        "\n",
        "2234\n",
        "2235\n",
        "2236\n",
        "2237\n",
        "2238"
       ]
      },
      {
       "output_type": "stream",
       "stream": "stdout",
       "text": [
        "\n",
        "2239\n",
        "2240\n",
        "2241\n",
        "2242"
       ]
      },
      {
       "output_type": "stream",
       "stream": "stdout",
       "text": [
        "\n",
        "2243\n",
        "2244\n",
        "2245\n",
        "2246\n",
        "2247"
       ]
      },
      {
       "output_type": "stream",
       "stream": "stdout",
       "text": [
        "\n",
        "2248\n",
        "2249\n",
        "2250\n",
        "2251\n",
        "2252\n",
        "2253\n",
        "2254\n",
        "2255"
       ]
      },
      {
       "output_type": "stream",
       "stream": "stdout",
       "text": [
        "\n",
        "2256\n",
        "2257\n",
        "2258"
       ]
      },
      {
       "output_type": "stream",
       "stream": "stdout",
       "text": [
        "\n",
        "2259\n",
        "2260\n",
        "2261\n",
        "2262\n",
        "2263\n",
        "2264"
       ]
      },
      {
       "output_type": "stream",
       "stream": "stdout",
       "text": [
        "\n",
        "2265\n",
        "2266\n",
        "2267\n",
        "2268\n",
        "2269\n",
        "2270\n",
        "2271\n",
        "2272"
       ]
      },
      {
       "output_type": "stream",
       "stream": "stdout",
       "text": [
        "\n",
        "2273\n",
        "2274\n",
        "2275"
       ]
      },
      {
       "output_type": "stream",
       "stream": "stdout",
       "text": [
        "\n",
        "2276\n",
        "2277\n",
        "2278"
       ]
      },
      {
       "output_type": "stream",
       "stream": "stdout",
       "text": [
        "\n",
        "2279\n",
        "2280\n",
        "2281\n",
        "2282\n",
        "2283"
       ]
      },
      {
       "output_type": "stream",
       "stream": "stdout",
       "text": [
        "\n",
        "2284\n",
        "2285\n",
        "2286\n",
        "2287"
       ]
      },
      {
       "output_type": "stream",
       "stream": "stdout",
       "text": [
        "\n",
        "2288\n",
        "2289\n",
        "2290"
       ]
      },
      {
       "output_type": "stream",
       "stream": "stdout",
       "text": [
        "\n",
        "2291\n",
        "2292\n",
        "2293\n",
        "2294"
       ]
      },
      {
       "output_type": "stream",
       "stream": "stdout",
       "text": [
        "\n",
        "2295\n",
        "2296\n",
        "2297\n",
        "2298\n",
        "2299\n",
        "2300\n",
        "2301\n",
        "2302"
       ]
      },
      {
       "output_type": "stream",
       "stream": "stdout",
       "text": [
        "\n",
        "2303\n",
        "2304\n",
        "2305\n",
        "2306\n",
        "2307"
       ]
      },
      {
       "output_type": "stream",
       "stream": "stdout",
       "text": [
        "\n",
        "2308\n",
        "2309"
       ]
      },
      {
       "output_type": "stream",
       "stream": "stdout",
       "text": [
        "\n",
        "2310\n",
        "2311\n",
        "2312\n",
        "2313"
       ]
      },
      {
       "output_type": "stream",
       "stream": "stdout",
       "text": [
        "\n",
        "2314\n",
        "2315"
       ]
      },
      {
       "output_type": "stream",
       "stream": "stdout",
       "text": [
        "\n",
        "2316\n",
        "2317\n",
        "2318"
       ]
      },
      {
       "output_type": "stream",
       "stream": "stdout",
       "text": [
        "\n",
        "2319\n",
        "2320\n",
        "2321\n",
        "2322\n",
        "2323"
       ]
      },
      {
       "output_type": "stream",
       "stream": "stdout",
       "text": [
        "\n",
        "2324\n",
        "2325\n",
        "2326"
       ]
      },
      {
       "output_type": "stream",
       "stream": "stdout",
       "text": [
        "\n",
        "2327\n",
        "2328\n",
        "2329\n",
        "2330"
       ]
      },
      {
       "output_type": "stream",
       "stream": "stdout",
       "text": [
        "\n",
        "2331\n",
        "2332\n",
        "2333\n",
        "2334\n",
        "2335\n",
        "2336\n",
        "2337"
       ]
      },
      {
       "output_type": "stream",
       "stream": "stdout",
       "text": [
        "\n",
        "2338\n",
        "2339\n",
        "2340\n",
        "2341\n",
        "2342\n",
        "2343"
       ]
      },
      {
       "output_type": "stream",
       "stream": "stdout",
       "text": [
        "\n",
        "2344\n",
        "2345\n",
        "2346\n",
        "2347\n",
        "2348\n",
        "2349"
       ]
      },
      {
       "output_type": "stream",
       "stream": "stdout",
       "text": [
        "\n",
        "2350\n",
        "2351\n",
        "2352\n",
        "2353\n",
        "2354\n",
        "2355"
       ]
      },
      {
       "output_type": "stream",
       "stream": "stdout",
       "text": [
        "\n",
        "2356\n",
        "2357\n",
        "2358\n",
        "2359\n",
        "2360\n",
        "2361"
       ]
      },
      {
       "output_type": "stream",
       "stream": "stdout",
       "text": [
        "\n",
        "2362\n",
        "2363\n",
        "2364\n",
        "2365\n",
        "2366\n",
        "2367"
       ]
      },
      {
       "output_type": "stream",
       "stream": "stdout",
       "text": [
        "\n",
        "2368\n",
        "2369\n",
        "2370"
       ]
      },
      {
       "output_type": "stream",
       "stream": "stdout",
       "text": [
        "\n",
        "2371\n",
        "2372\n",
        "2373\n",
        "2374\n",
        "2375"
       ]
      },
      {
       "output_type": "stream",
       "stream": "stdout",
       "text": [
        "\n",
        "2376\n",
        "2377\n",
        "2378\n",
        "2379\n",
        "2380\n",
        "2381"
       ]
      },
      {
       "output_type": "stream",
       "stream": "stdout",
       "text": [
        "\n",
        "2382\n",
        "2383\n",
        "2384\n",
        "2385"
       ]
      },
      {
       "output_type": "stream",
       "stream": "stdout",
       "text": [
        "\n",
        "2386\n",
        "2387"
       ]
      },
      {
       "output_type": "stream",
       "stream": "stdout",
       "text": [
        "\n",
        "2388\n",
        "2389\n",
        "2390\n",
        "2391\n",
        "2392\n",
        "2393\n",
        "2394\n",
        "2395"
       ]
      },
      {
       "output_type": "stream",
       "stream": "stdout",
       "text": [
        "\n",
        "2396\n",
        "2397\n",
        "2398\n",
        "2399\n",
        "2400\n",
        "2401"
       ]
      },
      {
       "output_type": "stream",
       "stream": "stdout",
       "text": [
        "\n",
        "2402\n",
        "2403\n",
        "2404\n",
        "2405"
       ]
      },
      {
       "output_type": "stream",
       "stream": "stdout",
       "text": [
        "\n",
        "2406\n",
        "2407\n",
        "2408\n",
        "2409"
       ]
      },
      {
       "output_type": "stream",
       "stream": "stdout",
       "text": [
        "\n",
        "2410\n",
        "2411\n",
        "2412\n",
        "2413\n",
        "2414\n",
        "2415"
       ]
      },
      {
       "output_type": "stream",
       "stream": "stdout",
       "text": [
        "\n",
        "2416\n",
        "2417\n",
        "2418\n",
        "2419\n",
        "2420\n",
        "2421"
       ]
      },
      {
       "output_type": "stream",
       "stream": "stdout",
       "text": [
        "\n",
        "2422\n",
        "2423\n",
        "2424\n",
        "2425"
       ]
      },
      {
       "output_type": "stream",
       "stream": "stdout",
       "text": [
        "\n",
        "2426\n",
        "2427\n",
        "2428\n",
        "2429\n",
        "2430\n",
        "2431\n",
        "2432"
       ]
      },
      {
       "output_type": "stream",
       "stream": "stdout",
       "text": [
        "\n",
        "2433\n",
        "2434\n",
        "2435\n",
        "2436\n",
        "2437"
       ]
      },
      {
       "output_type": "stream",
       "stream": "stdout",
       "text": [
        "\n",
        "2438\n",
        "2439\n",
        "2440\n",
        "2441\n",
        "2442"
       ]
      },
      {
       "output_type": "stream",
       "stream": "stdout",
       "text": [
        "\n",
        "2443\n",
        "2444\n",
        "2445\n",
        "2446\n",
        "2447\n",
        "2448"
       ]
      },
      {
       "output_type": "stream",
       "stream": "stdout",
       "text": [
        "\n",
        "2449\n",
        "2450\n",
        "2451\n",
        "2452\n",
        "2453\n",
        "2454\n",
        "2455"
       ]
      },
      {
       "output_type": "stream",
       "stream": "stdout",
       "text": [
        "\n",
        "2456\n",
        "2457\n",
        "2458\n",
        "2459\n",
        "2460"
       ]
      },
      {
       "output_type": "stream",
       "stream": "stdout",
       "text": [
        "\n",
        "2461\n",
        "2462\n",
        "2463\n",
        "2464"
       ]
      },
      {
       "output_type": "stream",
       "stream": "stdout",
       "text": [
        "\n",
        "2465\n",
        "2466\n",
        "2467\n",
        "2468\n",
        "2469\n",
        "2470\n",
        "2471"
       ]
      },
      {
       "output_type": "stream",
       "stream": "stdout",
       "text": [
        "\n",
        "2472\n",
        "2473\n",
        "2474\n",
        "2475\n",
        "2476\n",
        "2477"
       ]
      },
      {
       "output_type": "stream",
       "stream": "stdout",
       "text": [
        "\n",
        "2478\n",
        "2479\n",
        "2480\n",
        "2481\n",
        "2482"
       ]
      },
      {
       "output_type": "stream",
       "stream": "stdout",
       "text": [
        "\n",
        "2483\n",
        "2484\n",
        "2485\n",
        "2486\n",
        "2487\n",
        "2488"
       ]
      },
      {
       "output_type": "stream",
       "stream": "stdout",
       "text": [
        "\n",
        "2489\n",
        "2490\n",
        "2491\n",
        "2492"
       ]
      },
      {
       "output_type": "stream",
       "stream": "stdout",
       "text": [
        "\n",
        "2493\n",
        "2494\n",
        "2495\n",
        "2496\n",
        "2497\n",
        "2498\n",
        "2499"
       ]
      },
      {
       "output_type": "stream",
       "stream": "stdout",
       "text": [
        "\n",
        "2500\n",
        "2501\n",
        "2502\n",
        "2503\n",
        "2504\n",
        "2505"
       ]
      },
      {
       "output_type": "stream",
       "stream": "stdout",
       "text": [
        "\n",
        "2506\n",
        "2507\n",
        "2508"
       ]
      },
      {
       "output_type": "stream",
       "stream": "stdout",
       "text": [
        "\n",
        "2509\n",
        "2510\n",
        "2511\n",
        "2512\n",
        "2513\n",
        "2514\n",
        "2515\n",
        "2516"
       ]
      },
      {
       "output_type": "stream",
       "stream": "stdout",
       "text": [
        "\n",
        "2517\n",
        "2518\n",
        "2519\n",
        "2520\n",
        "2521\n",
        "2522"
       ]
      },
      {
       "output_type": "stream",
       "stream": "stdout",
       "text": [
        "\n",
        "2523\n",
        "2524\n",
        "2525\n",
        "2526\n",
        "2527"
       ]
      },
      {
       "output_type": "stream",
       "stream": "stdout",
       "text": [
        "\n",
        "2528\n",
        "2529\n",
        "2530"
       ]
      },
      {
       "output_type": "stream",
       "stream": "stdout",
       "text": [
        "\n",
        "2531\n",
        "2532\n",
        "2533\n",
        "2534"
       ]
      },
      {
       "output_type": "stream",
       "stream": "stdout",
       "text": [
        "\n",
        "2535\n",
        "2536\n",
        "2537\n",
        "2538\n",
        "2539\n",
        "2540"
       ]
      },
      {
       "output_type": "stream",
       "stream": "stdout",
       "text": [
        "\n",
        "2541\n",
        "2542\n",
        "2543\n",
        "2544\n",
        "2545"
       ]
      },
      {
       "output_type": "stream",
       "stream": "stdout",
       "text": [
        "\n",
        "2546\n",
        "2547\n",
        "2548"
       ]
      },
      {
       "output_type": "stream",
       "stream": "stdout",
       "text": [
        "\n",
        "2549\n",
        "2550\n",
        "2551\n",
        "2552\n",
        "2553"
       ]
      },
      {
       "output_type": "stream",
       "stream": "stdout",
       "text": [
        "\n",
        "2554\n",
        "2555\n",
        "2556\n",
        "2557"
       ]
      },
      {
       "output_type": "stream",
       "stream": "stdout",
       "text": [
        "\n",
        "2558\n",
        "2559\n",
        "2560\n",
        "2561"
       ]
      },
      {
       "output_type": "stream",
       "stream": "stdout",
       "text": [
        "\n",
        "2562\n",
        "2563"
       ]
      },
      {
       "output_type": "stream",
       "stream": "stdout",
       "text": [
        "\n",
        "2564\n",
        "2565\n",
        "2566\n",
        "2567\n",
        "2568\n",
        "2569"
       ]
      },
      {
       "output_type": "stream",
       "stream": "stdout",
       "text": [
        "\n",
        "2570\n",
        "2571\n",
        "2572\n",
        "2573"
       ]
      },
      {
       "output_type": "stream",
       "stream": "stdout",
       "text": [
        "\n",
        "2574\n",
        "2575\n",
        "2576\n",
        "2577\n",
        "2578"
       ]
      },
      {
       "output_type": "stream",
       "stream": "stdout",
       "text": [
        "\n",
        "2579\n",
        "2580\n",
        "2581"
       ]
      },
      {
       "output_type": "stream",
       "stream": "stdout",
       "text": [
        "\n",
        "2582\n",
        "2583\n",
        "2584\n",
        "2585"
       ]
      },
      {
       "output_type": "stream",
       "stream": "stdout",
       "text": [
        "\n",
        "2586\n",
        "2587\n",
        "2588\n",
        "2589\n",
        "2590"
       ]
      },
      {
       "output_type": "stream",
       "stream": "stdout",
       "text": [
        "\n",
        "2591\n",
        "2592\n",
        "2593"
       ]
      },
      {
       "output_type": "stream",
       "stream": "stdout",
       "text": [
        "\n",
        "2594\n",
        "2595\n",
        "2596\n",
        "2597\n",
        "2598\n",
        "2599\n",
        "2600"
       ]
      },
      {
       "output_type": "stream",
       "stream": "stdout",
       "text": [
        "\n",
        "2601\n",
        "2602"
       ]
      },
      {
       "output_type": "stream",
       "stream": "stdout",
       "text": [
        "\n",
        "2603\n",
        "2604\n",
        "2605\n",
        "2606\n",
        "2607"
       ]
      },
      {
       "output_type": "stream",
       "stream": "stdout",
       "text": [
        "\n",
        "2608\n",
        "2609\n",
        "2610\n",
        "2611\n",
        "2612"
       ]
      },
      {
       "output_type": "stream",
       "stream": "stdout",
       "text": [
        "\n",
        "2613\n",
        "2614"
       ]
      },
      {
       "output_type": "stream",
       "stream": "stdout",
       "text": [
        "\n",
        "2615\n",
        "2616\n",
        "2617\n",
        "2618\n",
        "2619\n",
        "2620\n",
        "2621"
       ]
      },
      {
       "output_type": "stream",
       "stream": "stdout",
       "text": [
        "\n",
        "2622\n",
        "2623\n",
        "2624\n",
        "2625"
       ]
      },
      {
       "output_type": "stream",
       "stream": "stdout",
       "text": [
        "\n",
        "2626\n",
        "2627\n",
        "2628"
       ]
      },
      {
       "output_type": "stream",
       "stream": "stdout",
       "text": [
        "\n",
        "2629\n",
        "2630\n",
        "2631\n",
        "2632\n",
        "2633"
       ]
      },
      {
       "output_type": "stream",
       "stream": "stdout",
       "text": [
        "\n",
        "2634\n",
        "2635\n",
        "2636\n",
        "2637"
       ]
      },
      {
       "output_type": "stream",
       "stream": "stdout",
       "text": [
        "\n",
        "2638\n",
        "2639\n",
        "2640\n",
        "2641"
       ]
      },
      {
       "output_type": "stream",
       "stream": "stdout",
       "text": [
        "\n",
        "2642\n",
        "2643\n",
        "2644\n",
        "2645\n",
        "2646"
       ]
      },
      {
       "output_type": "stream",
       "stream": "stdout",
       "text": [
        "\n",
        "2647\n",
        "2648\n",
        "2649\n",
        "2650\n",
        "2651\n",
        "2652\n",
        "2653"
       ]
      },
      {
       "output_type": "stream",
       "stream": "stdout",
       "text": [
        "\n",
        "2654\n",
        "2655\n",
        "2656\n",
        "2657\n",
        "2658\n",
        "2659"
       ]
      },
      {
       "output_type": "stream",
       "stream": "stdout",
       "text": [
        "\n",
        "2660\n",
        "2661"
       ]
      },
      {
       "output_type": "stream",
       "stream": "stdout",
       "text": [
        "\n",
        "2662\n",
        "2663\n",
        "2664\n",
        "2665"
       ]
      },
      {
       "output_type": "stream",
       "stream": "stdout",
       "text": [
        "\n",
        "2666\n",
        "2667\n",
        "2668\n",
        "2669"
       ]
      },
      {
       "output_type": "stream",
       "stream": "stdout",
       "text": [
        "\n",
        "2670\n",
        "2671\n",
        "2672\n",
        "2673\n",
        "2674\n",
        "2675\n"
       ]
      },
      {
       "output_type": "stream",
       "stream": "stdout",
       "text": [
        "2676\n",
        "2677\n",
        "2678\n",
        "2679\n",
        "2680\n",
        "2681\n",
        "2682"
       ]
      },
      {
       "output_type": "stream",
       "stream": "stdout",
       "text": [
        "\n",
        "2683\n",
        "2684\n",
        "2685\n",
        "2686"
       ]
      },
      {
       "output_type": "stream",
       "stream": "stdout",
       "text": [
        "\n",
        "2687\n",
        "2688\n",
        "2689\n",
        "2690"
       ]
      },
      {
       "output_type": "stream",
       "stream": "stdout",
       "text": [
        "\n",
        "2691\n",
        "2692\n",
        "2693\n",
        "2694\n",
        "2695\n",
        "2696"
       ]
      },
      {
       "output_type": "stream",
       "stream": "stdout",
       "text": [
        "\n",
        "2697\n",
        "2698\n",
        "2699\n",
        "2700\n",
        "2701\n",
        "2702\n",
        "2703"
       ]
      },
      {
       "output_type": "stream",
       "stream": "stdout",
       "text": [
        "\n",
        "2704\n",
        "2705\n",
        "2706\n",
        "2707\n",
        "2708\n",
        "2709"
       ]
      },
      {
       "output_type": "stream",
       "stream": "stdout",
       "text": [
        "\n",
        "2710\n",
        "2711\n",
        "2712\n",
        "2713\n",
        "2714\n",
        "2715\n",
        "2716\n",
        "2717"
       ]
      },
      {
       "output_type": "stream",
       "stream": "stdout",
       "text": [
        "\n",
        "2718\n",
        "2719\n",
        "2720\n",
        "2721"
       ]
      },
      {
       "output_type": "stream",
       "stream": "stdout",
       "text": [
        "\n",
        "2722"
       ]
      },
      {
       "output_type": "stream",
       "stream": "stdout",
       "text": [
        "\n",
        "2723\n",
        "2724\n",
        "2725\n",
        "2726\n",
        "2727"
       ]
      },
      {
       "output_type": "stream",
       "stream": "stdout",
       "text": [
        "\n",
        "2728\n",
        "2729\n",
        "2730\n",
        "2731\n",
        "2732"
       ]
      },
      {
       "output_type": "stream",
       "stream": "stdout",
       "text": [
        "\n",
        "2733\n",
        "2734\n",
        "2735\n",
        "2736\n",
        "2737\n",
        "2738"
       ]
      },
      {
       "output_type": "stream",
       "stream": "stdout",
       "text": [
        "\n",
        "2739\n",
        "2740"
       ]
      },
      {
       "output_type": "stream",
       "stream": "stdout",
       "text": [
        "\n",
        "2741\n",
        "2742\n",
        "2743\n",
        "2744"
       ]
      },
      {
       "output_type": "stream",
       "stream": "stdout",
       "text": [
        "\n",
        "2745\n",
        "2746\n",
        "2747"
       ]
      },
      {
       "output_type": "stream",
       "stream": "stdout",
       "text": [
        "\n",
        "2748\n",
        "2749\n",
        "2750\n",
        "2751\n",
        "2752"
       ]
      },
      {
       "output_type": "stream",
       "stream": "stdout",
       "text": [
        "\n",
        "2753\n",
        "2754\n",
        "2755\n",
        "2756\n",
        "2757"
       ]
      },
      {
       "output_type": "stream",
       "stream": "stdout",
       "text": [
        "\n",
        "2758\n",
        "2759\n",
        "2760\n",
        "2761\n",
        "2762"
       ]
      },
      {
       "output_type": "stream",
       "stream": "stdout",
       "text": [
        "\n",
        "2763\n",
        "2764\n",
        "2765\n",
        "2766\n",
        "2767"
       ]
      },
      {
       "output_type": "stream",
       "stream": "stdout",
       "text": [
        "\n",
        "2768\n",
        "2769\n",
        "2770\n",
        "2771\n",
        "2772"
       ]
      },
      {
       "output_type": "stream",
       "stream": "stdout",
       "text": [
        "\n",
        "2773\n",
        "2774\n",
        "2775"
       ]
      },
      {
       "output_type": "stream",
       "stream": "stdout",
       "text": [
        "\n",
        "2776\n",
        "2777\n",
        "2778\n",
        "2779\n",
        "2780\n",
        "2781"
       ]
      },
      {
       "output_type": "stream",
       "stream": "stdout",
       "text": [
        "\n",
        "2782\n",
        "2783\n",
        "2784\n",
        "2785\n",
        "2786\n",
        "2787\n",
        "2788"
       ]
      },
      {
       "output_type": "stream",
       "stream": "stdout",
       "text": [
        "\n",
        "2789\n",
        "2790\n",
        "2791\n",
        "2792\n",
        "2793\n",
        "2794"
       ]
      },
      {
       "output_type": "stream",
       "stream": "stdout",
       "text": [
        "\n",
        "2795\n",
        "2796\n",
        "2797\n",
        "2798\n",
        "2799"
       ]
      },
      {
       "output_type": "stream",
       "stream": "stdout",
       "text": [
        "\n",
        "2800\n",
        "2801\n",
        "2802\n",
        "2803\n",
        "2804\n",
        "2805"
       ]
      },
      {
       "output_type": "stream",
       "stream": "stdout",
       "text": [
        "\n",
        "2806\n",
        "2807\n",
        "2808"
       ]
      },
      {
       "output_type": "stream",
       "stream": "stdout",
       "text": [
        "\n",
        "2809\n",
        "2810\n",
        "2811\n",
        "2812\n",
        "2813"
       ]
      },
      {
       "output_type": "stream",
       "stream": "stdout",
       "text": [
        "\n",
        "2814\n",
        "2815\n",
        "2816\n",
        "2817\n",
        "2818\n",
        "2819"
       ]
      },
      {
       "output_type": "stream",
       "stream": "stdout",
       "text": [
        "\n",
        "2820\n",
        "2821"
       ]
      },
      {
       "output_type": "stream",
       "stream": "stdout",
       "text": [
        "\n",
        "2822\n",
        "2823\n",
        "2824\n",
        "2825\n",
        "2826\n",
        "2827\n",
        "2828"
       ]
      },
      {
       "output_type": "stream",
       "stream": "stdout",
       "text": [
        "\n",
        "2829\n",
        "2830\n",
        "2831\n",
        "2832\n",
        "2833\n",
        "2834\n",
        "2835\n",
        "2836"
       ]
      },
      {
       "output_type": "stream",
       "stream": "stdout",
       "text": [
        "\n",
        "2837\n",
        "2838\n",
        "2839\n",
        "2840\n",
        "2841\n",
        "2842\n",
        "2843"
       ]
      },
      {
       "output_type": "stream",
       "stream": "stdout",
       "text": [
        "\n",
        "2844\n",
        "2845\n",
        "2846\n",
        "2847\n",
        "2848\n",
        "2849\n",
        "2850\n",
        "2851\n",
        "2852"
       ]
      },
      {
       "output_type": "stream",
       "stream": "stdout",
       "text": [
        "\n",
        "2853\n",
        "2854\n",
        "2855\n",
        "2856\n",
        "2857\n",
        "2858\n",
        "2859"
       ]
      },
      {
       "output_type": "stream",
       "stream": "stdout",
       "text": [
        "\n",
        "2860\n",
        "2861\n",
        "2862\n",
        "2863"
       ]
      },
      {
       "output_type": "stream",
       "stream": "stdout",
       "text": [
        "\n",
        "2864\n",
        "2865\n",
        "2866\n",
        "2867\n",
        "2868\n",
        "2869\n",
        "2870\n",
        "2871\n",
        "2872"
       ]
      },
      {
       "output_type": "stream",
       "stream": "stdout",
       "text": [
        "\n",
        "2873\n",
        "2874\n",
        "2875\n",
        "2876\n",
        "2877"
       ]
      },
      {
       "output_type": "stream",
       "stream": "stdout",
       "text": [
        "\n",
        "2878\n",
        "2879\n",
        "2880\n",
        "2881\n",
        "2882\n",
        "2883\n",
        "2884\n",
        "2885"
       ]
      },
      {
       "output_type": "stream",
       "stream": "stdout",
       "text": [
        "\n",
        "2886\n",
        "2887\n",
        "2888\n",
        "2889\n",
        "2890\n",
        "2891"
       ]
      },
      {
       "output_type": "stream",
       "stream": "stdout",
       "text": [
        "\n",
        "2892\n",
        "2893\n",
        "2894\n",
        "2895\n",
        "2896\n",
        "2897"
       ]
      },
      {
       "output_type": "stream",
       "stream": "stdout",
       "text": [
        "\n",
        "2898\n",
        "2899\n",
        "2900\n",
        "2901\n",
        "2902\n",
        "2903"
       ]
      },
      {
       "output_type": "stream",
       "stream": "stdout",
       "text": [
        "\n",
        "2904\n",
        "2905\n",
        "2906"
       ]
      },
      {
       "output_type": "stream",
       "stream": "stdout",
       "text": [
        "\n",
        "2907\n",
        "2908\n",
        "2909\n",
        "2910\n",
        "2911\n",
        "2912\n",
        "2913\n",
        "2914"
       ]
      },
      {
       "output_type": "stream",
       "stream": "stdout",
       "text": [
        "\n",
        "2915\n",
        "2916\n",
        "2917\n",
        "2918\n",
        "2919\n",
        "2920"
       ]
      },
      {
       "output_type": "stream",
       "stream": "stdout",
       "text": [
        "\n",
        "2921\n",
        "2922\n",
        "2923\n",
        "2924\n",
        "2925\n",
        "2926\n",
        "2927"
       ]
      },
      {
       "output_type": "stream",
       "stream": "stdout",
       "text": [
        "\n",
        "2928\n",
        "2929\n",
        "2930\n",
        "2931\n",
        "2932\n",
        "2933\n",
        "2934"
       ]
      },
      {
       "output_type": "stream",
       "stream": "stdout",
       "text": [
        "\n",
        "2935\n",
        "2936\n",
        "2937"
       ]
      },
      {
       "output_type": "stream",
       "stream": "stdout",
       "text": [
        "\n",
        "2938\n",
        "2939\n",
        "2940\n",
        "2941"
       ]
      },
      {
       "output_type": "stream",
       "stream": "stdout",
       "text": [
        "\n",
        "2942\n",
        "2943\n",
        "2944\n",
        "2945\n",
        "2946\n",
        "2947\n",
        "2948\n",
        "2949"
       ]
      },
      {
       "output_type": "stream",
       "stream": "stdout",
       "text": [
        "\n",
        "2950\n",
        "2951\n",
        "2952\n",
        "2953\n",
        "2954\n",
        "2955"
       ]
      },
      {
       "output_type": "stream",
       "stream": "stdout",
       "text": [
        "\n",
        "2956\n",
        "2957\n",
        "2958\n",
        "2959\n",
        "2960"
       ]
      },
      {
       "output_type": "stream",
       "stream": "stdout",
       "text": [
        "\n",
        "2961\n",
        "2962\n",
        "2963\n",
        "2964\n",
        "2965"
       ]
      },
      {
       "output_type": "stream",
       "stream": "stdout",
       "text": [
        "\n",
        "2966\n",
        "2967\n",
        "2968\n",
        "2969\n",
        "2970\n",
        "2971"
       ]
      },
      {
       "output_type": "stream",
       "stream": "stdout",
       "text": [
        "\n",
        "2972\n",
        "2973\n",
        "2974\n",
        "2975\n",
        "2976\n",
        "2977\n",
        "2978\n",
        "2979\n",
        "2980"
       ]
      },
      {
       "output_type": "stream",
       "stream": "stdout",
       "text": [
        "\n",
        "2981\n",
        "2982\n",
        "2983\n",
        "2984\n",
        "2985\n",
        "2986\n",
        "2987"
       ]
      },
      {
       "output_type": "stream",
       "stream": "stdout",
       "text": [
        "\n",
        "2988\n",
        "2989\n",
        "2990\n",
        "2991\n",
        "2992\n",
        "2993"
       ]
      },
      {
       "output_type": "stream",
       "stream": "stdout",
       "text": [
        "\n",
        "2994\n",
        "2995\n",
        "2996\n",
        "2997"
       ]
      },
      {
       "output_type": "stream",
       "stream": "stdout",
       "text": [
        "\n",
        "2998\n",
        "2999\n",
        "3000\n",
        "3001\n",
        "3002\n",
        "3003\n",
        "3004\n",
        "3005"
       ]
      },
      {
       "output_type": "stream",
       "stream": "stdout",
       "text": [
        "\n",
        "3006\n",
        "3007\n",
        "3008\n",
        "3009\n",
        "3010"
       ]
      },
      {
       "output_type": "stream",
       "stream": "stdout",
       "text": [
        "\n",
        "3011\n",
        "3012"
       ]
      },
      {
       "output_type": "stream",
       "stream": "stdout",
       "text": [
        "\n",
        "3013\n",
        "3014\n",
        "3015"
       ]
      },
      {
       "output_type": "stream",
       "stream": "stdout",
       "text": [
        "\n",
        "3016\n",
        "3017\n",
        "3018\n",
        "3019\n",
        "3020\n",
        "3021"
       ]
      },
      {
       "output_type": "stream",
       "stream": "stdout",
       "text": [
        "\n",
        "3022\n",
        "3023\n",
        "3024"
       ]
      },
      {
       "output_type": "stream",
       "stream": "stdout",
       "text": [
        "\n",
        "3025\n",
        "3026\n",
        "3027\n",
        "3028"
       ]
      },
      {
       "output_type": "stream",
       "stream": "stdout",
       "text": [
        "\n",
        "3029\n",
        "3030\n",
        "3031\n",
        "3032\n",
        "3033"
       ]
      },
      {
       "output_type": "stream",
       "stream": "stdout",
       "text": [
        "\n",
        "3034\n",
        "3035\n",
        "3036\n",
        "3037\n",
        "3038"
       ]
      },
      {
       "output_type": "stream",
       "stream": "stdout",
       "text": [
        "\n",
        "3039\n",
        "3040\n",
        "3041"
       ]
      },
      {
       "output_type": "stream",
       "stream": "stdout",
       "text": [
        "\n",
        "3042\n",
        "3043\n",
        "3044\n",
        "3045\n",
        "3046"
       ]
      },
      {
       "output_type": "stream",
       "stream": "stdout",
       "text": [
        "\n",
        "3047\n",
        "3048\n",
        "3049\n",
        "3050\n",
        "3051\n",
        "3052"
       ]
      },
      {
       "output_type": "stream",
       "stream": "stdout",
       "text": [
        "\n",
        "3053\n",
        "3054\n",
        "3055\n",
        "3056\n",
        "3057\n",
        "3058\n",
        "3059\n",
        "3060"
       ]
      },
      {
       "output_type": "stream",
       "stream": "stdout",
       "text": [
        "\n",
        "3061\n",
        "3062\n",
        "3063\n",
        "3064\n",
        "3065\n",
        "3066"
       ]
      },
      {
       "output_type": "stream",
       "stream": "stdout",
       "text": [
        "\n",
        "3067\n",
        "3068\n",
        "3069\n",
        "3070\n",
        "3071"
       ]
      },
      {
       "output_type": "stream",
       "stream": "stdout",
       "text": [
        "\n",
        "3072\n",
        "3073\n",
        "3074\n",
        "3075\n",
        "3076"
       ]
      },
      {
       "output_type": "stream",
       "stream": "stdout",
       "text": [
        "\n",
        "3077\n",
        "3078\n",
        "3079\n",
        "3080"
       ]
      },
      {
       "output_type": "stream",
       "stream": "stdout",
       "text": [
        "\n",
        "3081\n",
        "3082\n",
        "3083"
       ]
      },
      {
       "output_type": "stream",
       "stream": "stdout",
       "text": [
        "\n",
        "3084\n",
        "3085\n",
        "3086\n",
        "3087\n",
        "3088\n",
        "3089\n",
        "3090\n",
        "3091"
       ]
      },
      {
       "output_type": "stream",
       "stream": "stdout",
       "text": [
        "\n",
        "3092\n",
        "3093\n",
        "3094\n",
        "3095\n",
        "3096\n",
        "3097"
       ]
      },
      {
       "output_type": "stream",
       "stream": "stdout",
       "text": [
        "\n",
        "3098\n",
        "3099\n",
        "3100\n",
        "3101\n",
        "3102\n",
        "3103\n",
        "3104\n",
        "3105\n",
        "3106\n",
        "3107"
       ]
      },
      {
       "output_type": "stream",
       "stream": "stdout",
       "text": [
        "\n",
        "3108\n",
        "3109\n",
        "3110\n",
        "3111\n",
        "3112\n",
        "3113\n",
        "3114"
       ]
      },
      {
       "output_type": "stream",
       "stream": "stdout",
       "text": [
        "\n",
        "3115\n",
        "3116\n",
        "3117\n",
        "3118\n",
        "3119"
       ]
      },
      {
       "output_type": "stream",
       "stream": "stdout",
       "text": [
        "\n",
        "3120\n",
        "3121\n",
        "3122\n",
        "3123\n",
        "3124\n",
        "3125\n",
        "3126\n",
        "3127\n",
        "3128"
       ]
      },
      {
       "output_type": "stream",
       "stream": "stdout",
       "text": [
        "\n",
        "3129\n",
        "3130\n",
        "3131\n",
        "3132\n",
        "3133\n",
        "3134\n",
        "3135"
       ]
      },
      {
       "output_type": "stream",
       "stream": "stdout",
       "text": [
        "\n",
        "3136\n",
        "3137\n",
        "3138\n",
        "3139\n",
        "3140"
       ]
      },
      {
       "output_type": "stream",
       "stream": "stdout",
       "text": [
        "\n",
        "3141\n",
        "3142\n",
        "3143\n",
        "3144\n",
        "3145\n",
        "3146"
       ]
      },
      {
       "output_type": "stream",
       "stream": "stdout",
       "text": [
        "\n",
        "3147\n",
        "3148\n",
        "3149\n",
        "3150\n",
        "3151\n",
        "3152\n",
        "3153\n",
        "3154"
       ]
      },
      {
       "output_type": "stream",
       "stream": "stdout",
       "text": [
        "\n",
        "3155\n",
        "3156\n",
        "3157\n",
        "3158\n",
        "3159\n",
        "3160"
       ]
      },
      {
       "output_type": "stream",
       "stream": "stdout",
       "text": [
        "\n",
        "3161\n",
        "3162\n",
        "3163\n",
        "3164"
       ]
      },
      {
       "output_type": "stream",
       "stream": "stdout",
       "text": [
        "\n",
        "3165\n",
        "3166\n",
        "3167\n",
        "3168\n",
        "3169"
       ]
      },
      {
       "output_type": "stream",
       "stream": "stdout",
       "text": [
        "\n",
        "3170\n",
        "3171\n",
        "3172\n",
        "3173\n",
        "3174\n",
        "3175\n",
        "3176\n",
        "3177\n",
        "3178\n",
        "3179"
       ]
      },
      {
       "output_type": "stream",
       "stream": "stdout",
       "text": [
        "\n",
        "3180\n",
        "3181"
       ]
      },
      {
       "output_type": "stream",
       "stream": "stdout",
       "text": [
        "\n",
        "3182\n",
        "3183\n",
        "3184\n",
        "3185\n",
        "3186"
       ]
      },
      {
       "output_type": "stream",
       "stream": "stdout",
       "text": [
        "\n",
        "3187\n",
        "3188\n",
        "3189\n",
        "3190\n",
        "3191\n",
        "3192\n",
        "3193"
       ]
      },
      {
       "output_type": "stream",
       "stream": "stdout",
       "text": [
        "\n",
        "3194\n",
        "3195\n",
        "3196\n",
        "3197\n",
        "3198\n",
        "3199\n",
        "3200"
       ]
      },
      {
       "output_type": "stream",
       "stream": "stdout",
       "text": [
        "\n",
        "3201\n",
        "3202\n",
        "3203\n",
        "3204\n",
        "3205"
       ]
      },
      {
       "output_type": "stream",
       "stream": "stdout",
       "text": [
        "\n",
        "3206\n",
        "3207\n",
        "3208\n",
        "3209\n",
        "3210\n",
        "3211\n",
        "3212\n",
        "3213\n",
        "3214"
       ]
      },
      {
       "output_type": "stream",
       "stream": "stdout",
       "text": [
        "\n",
        "3215\n",
        "3216\n",
        "3217\n",
        "3218\n",
        "3219\n",
        "3220\n",
        "3221"
       ]
      },
      {
       "output_type": "stream",
       "stream": "stdout",
       "text": [
        "\n",
        "3222\n",
        "3223\n",
        "3224\n",
        "3225"
       ]
      },
      {
       "output_type": "stream",
       "stream": "stdout",
       "text": [
        "\n",
        "3226\n",
        "3227\n",
        "3228\n",
        "3229\n",
        "3230\n",
        "3231\n",
        "3232\n",
        "3233"
       ]
      },
      {
       "output_type": "stream",
       "stream": "stdout",
       "text": [
        "\n",
        "3234\n",
        "3235\n",
        "3236\n",
        "3237\n",
        "3238\n",
        "3239"
       ]
      },
      {
       "output_type": "stream",
       "stream": "stdout",
       "text": [
        "\n",
        "3240\n",
        "3241\n",
        "3242\n",
        "3243\n",
        "3244\n",
        "3245\n",
        "3246"
       ]
      },
      {
       "output_type": "stream",
       "stream": "stdout",
       "text": [
        "\n",
        "3247\n",
        "3248\n",
        "3249\n",
        "3250\n",
        "3251\n",
        "3252\n",
        "3253\n",
        "3254"
       ]
      },
      {
       "output_type": "stream",
       "stream": "stdout",
       "text": [
        "\n",
        "3255\n",
        "3256\n",
        "3257"
       ]
      },
      {
       "output_type": "stream",
       "stream": "stdout",
       "text": [
        "\n",
        "3258\n",
        "3259\n",
        "3260\n",
        "3261\n",
        "3262\n",
        "3263"
       ]
      },
      {
       "output_type": "stream",
       "stream": "stdout",
       "text": [
        "\n",
        "3264\n",
        "3265\n",
        "3266\n",
        "3267\n",
        "3268\n",
        "3269\n",
        "3270"
       ]
      },
      {
       "output_type": "stream",
       "stream": "stdout",
       "text": [
        "\n",
        "3271\n",
        "3272\n",
        "3273\n",
        "3274\n",
        "3275\n",
        "3276\n",
        "3277"
       ]
      },
      {
       "output_type": "stream",
       "stream": "stdout",
       "text": [
        "\n",
        "3278\n",
        "3279\n",
        "3280\n",
        "3281\n",
        "3282\n",
        "3283"
       ]
      },
      {
       "output_type": "stream",
       "stream": "stdout",
       "text": [
        "\n",
        "3284\n",
        "3285\n",
        "3286\n",
        "3287"
       ]
      },
      {
       "output_type": "stream",
       "stream": "stdout",
       "text": [
        "\n",
        "3288\n",
        "3289\n",
        "3290\n",
        "3291\n",
        "3292"
       ]
      },
      {
       "output_type": "stream",
       "stream": "stdout",
       "text": [
        "\n",
        "3293\n",
        "3294\n",
        "3295\n",
        "3296\n",
        "3297\n",
        "3298"
       ]
      },
      {
       "output_type": "stream",
       "stream": "stdout",
       "text": [
        "\n",
        "3299\n",
        "3300\n",
        "3301\n",
        "3302"
       ]
      },
      {
       "output_type": "stream",
       "stream": "stdout",
       "text": [
        "\n",
        "3303\n",
        "3304\n",
        "3305\n",
        "3306\n",
        "3307\n",
        "3308\n",
        "3309"
       ]
      },
      {
       "output_type": "stream",
       "stream": "stdout",
       "text": [
        "\n",
        "3310\n",
        "3311"
       ]
      },
      {
       "output_type": "stream",
       "stream": "stdout",
       "text": [
        "\n",
        "3312\n",
        "3313\n",
        "3314\n",
        "3315\n",
        "3316"
       ]
      },
      {
       "output_type": "stream",
       "stream": "stdout",
       "text": [
        "\n",
        "3317\n",
        "3318\n",
        "3319\n",
        "3320"
       ]
      },
      {
       "output_type": "stream",
       "stream": "stdout",
       "text": [
        "\n",
        "3321\n",
        "3322\n",
        "3323\n",
        "3324"
       ]
      },
      {
       "output_type": "stream",
       "stream": "stdout",
       "text": [
        "\n",
        "3325\n",
        "3326\n",
        "3327\n",
        "3328\n",
        "3329"
       ]
      },
      {
       "output_type": "stream",
       "stream": "stdout",
       "text": [
        "\n",
        "3330\n",
        "3331\n",
        "3332\n",
        "3333\n",
        "3334\n",
        "3335\n",
        "3336\n",
        "3337"
       ]
      },
      {
       "output_type": "stream",
       "stream": "stdout",
       "text": [
        "\n",
        "3338\n",
        "3339\n",
        "3340\n",
        "3341\n",
        "3342\n",
        "3343\n",
        "3344"
       ]
      },
      {
       "output_type": "stream",
       "stream": "stdout",
       "text": [
        "\n",
        "3345\n",
        "3346\n",
        "3347\n",
        "3348\n",
        "3349\n",
        "3350\n",
        "3351\n",
        "3352"
       ]
      },
      {
       "output_type": "stream",
       "stream": "stdout",
       "text": [
        "\n",
        "3353\n",
        "3354\n",
        "3355\n",
        "3356\n",
        "3357\n",
        "3358\n",
        "3359\n",
        "3360\n",
        "3361"
       ]
      },
      {
       "output_type": "stream",
       "stream": "stdout",
       "text": [
        "\n",
        "3362\n",
        "3363\n",
        "3364\n",
        "3365\n",
        "3366\n",
        "3367\n",
        "3368\n",
        "3369"
       ]
      },
      {
       "output_type": "stream",
       "stream": "stdout",
       "text": [
        "\n",
        "3370\n",
        "3371\n",
        "3372\n",
        "3373\n",
        "3374\n",
        "3375\n",
        "3376\n",
        "3377"
       ]
      },
      {
       "output_type": "stream",
       "stream": "stdout",
       "text": [
        "\n",
        "3378\n",
        "3379\n",
        "3380\n",
        "3381\n",
        "3382\n",
        "3383\n",
        "3384\n",
        "3385"
       ]
      },
      {
       "output_type": "stream",
       "stream": "stdout",
       "text": [
        "\n",
        "3386\n",
        "3387\n",
        "3388\n",
        "3389\n",
        "3390\n",
        "3391"
       ]
      },
      {
       "output_type": "stream",
       "stream": "stdout",
       "text": [
        "\n",
        "3392\n",
        "3393\n",
        "3394\n",
        "3395"
       ]
      },
      {
       "output_type": "stream",
       "stream": "stdout",
       "text": [
        "\n",
        "3396\n",
        "3397\n",
        "3398\n",
        "3399\n",
        "3400\n",
        "3401\n",
        "3402"
       ]
      },
      {
       "output_type": "stream",
       "stream": "stdout",
       "text": [
        "\n",
        "3403\n",
        "3404\n",
        "3405\n",
        "3406\n",
        "3407\n",
        "3408\n",
        "3409\n",
        "3410"
       ]
      },
      {
       "output_type": "stream",
       "stream": "stdout",
       "text": [
        "\n",
        "3411\n",
        "3412\n",
        "3413\n",
        "3414\n",
        "3415\n",
        "3416"
       ]
      },
      {
       "output_type": "stream",
       "stream": "stdout",
       "text": [
        "\n",
        "3417\n",
        "3418\n",
        "3419\n",
        "3420\n",
        "3421"
       ]
      },
      {
       "output_type": "stream",
       "stream": "stdout",
       "text": [
        "\n",
        "3422\n",
        "3423\n",
        "3424\n",
        "3425"
       ]
      },
      {
       "output_type": "stream",
       "stream": "stdout",
       "text": [
        "\n",
        "3426\n",
        "3427\n",
        "3428\n",
        "3429\n",
        "3430\n",
        "3431"
       ]
      },
      {
       "output_type": "stream",
       "stream": "stdout",
       "text": [
        "\n",
        "3432\n",
        "3433\n",
        "3434\n",
        "3435\n",
        "3436"
       ]
      },
      {
       "output_type": "stream",
       "stream": "stdout",
       "text": [
        "\n",
        "3437\n",
        "3438\n",
        "3439\n",
        "3440\n",
        "3441\n",
        "3442\n",
        "3443"
       ]
      },
      {
       "output_type": "stream",
       "stream": "stdout",
       "text": [
        "\n",
        "3444\n",
        "3445\n",
        "3446\n",
        "3447"
       ]
      },
      {
       "output_type": "stream",
       "stream": "stdout",
       "text": [
        "\n",
        "3448\n",
        "3449\n",
        "3450\n",
        "3451\n",
        "3452\n",
        "3453\n",
        "3454"
       ]
      },
      {
       "output_type": "stream",
       "stream": "stdout",
       "text": [
        "\n",
        "3455\n",
        "3456\n",
        "3457\n",
        "3458"
       ]
      },
      {
       "output_type": "stream",
       "stream": "stdout",
       "text": [
        "\n",
        "3459\n",
        "3460\n",
        "3461\n",
        "3462\n",
        "3463\n",
        "3464\n",
        "3465"
       ]
      },
      {
       "output_type": "stream",
       "stream": "stdout",
       "text": [
        "\n",
        "3466\n",
        "3467\n",
        "3468\n",
        "3469\n",
        "3470\n",
        "3471\n",
        "3472"
       ]
      },
      {
       "output_type": "stream",
       "stream": "stdout",
       "text": [
        "\n",
        "3473\n",
        "3474\n",
        "3475\n",
        "3476\n",
        "3477\n",
        "3478"
       ]
      },
      {
       "output_type": "stream",
       "stream": "stdout",
       "text": [
        "\n",
        "3479\n",
        "3480\n",
        "3481\n",
        "3482\n",
        "3483\n",
        "3484\n",
        "3485\n",
        "3486"
       ]
      },
      {
       "output_type": "stream",
       "stream": "stdout",
       "text": [
        "\n",
        "3487\n",
        "3488\n",
        "3489\n",
        "3490\n",
        "3491\n",
        "3492\n",
        "3493\n",
        "3494\n",
        "3495"
       ]
      },
      {
       "output_type": "stream",
       "stream": "stdout",
       "text": [
        "\n",
        "3496\n",
        "3497\n",
        "3498\n",
        "3499"
       ]
      },
      {
       "output_type": "stream",
       "stream": "stdout",
       "text": [
        "\n",
        "3500\n",
        "3501\n",
        "3502\n",
        "3503\n",
        "3504\n",
        "3505\n",
        "3506\n",
        "3507"
       ]
      },
      {
       "output_type": "stream",
       "stream": "stdout",
       "text": [
        "\n",
        "3508\n",
        "3509\n",
        "3510\n",
        "3511\n",
        "3512\n",
        "3513\n",
        "3514\n",
        "3515\n",
        "3516\n",
        "3517"
       ]
      },
      {
       "output_type": "stream",
       "stream": "stdout",
       "text": [
        "\n",
        "3518\n",
        "3519\n",
        "3520\n",
        "3521\n",
        "3522\n",
        "3523\n",
        "3524\n",
        "3525\n",
        "3526"
       ]
      },
      {
       "output_type": "stream",
       "stream": "stdout",
       "text": [
        "\n",
        "3527\n",
        "3528\n",
        "3529\n",
        "3530\n",
        "3531\n",
        "3532\n",
        "3533"
       ]
      },
      {
       "output_type": "stream",
       "stream": "stdout",
       "text": [
        "\n",
        "3534\n",
        "3535"
       ]
      },
      {
       "output_type": "stream",
       "stream": "stdout",
       "text": [
        "\n",
        "3536\n",
        "3537\n",
        "3538\n",
        "3539\n",
        "3540\n",
        "3541"
       ]
      },
      {
       "output_type": "stream",
       "stream": "stdout",
       "text": [
        "\n",
        "3542\n",
        "3543\n",
        "3544\n",
        "3545\n",
        "3546\n",
        "3547\n",
        "3548\n",
        "3549\n",
        "3550"
       ]
      },
      {
       "output_type": "stream",
       "stream": "stdout",
       "text": [
        "\n",
        "3551\n",
        "3552\n",
        "3553\n",
        "3554\n",
        "3555\n",
        "3556\n",
        "3557\n",
        "3558"
       ]
      },
      {
       "output_type": "stream",
       "stream": "stdout",
       "text": [
        "\n",
        "3559\n",
        "3560\n",
        "3561\n",
        "3562\n",
        "3563\n",
        "3564\n",
        "3565\n",
        "3566"
       ]
      },
      {
       "output_type": "stream",
       "stream": "stdout",
       "text": [
        "\n",
        "3567\n",
        "3568\n",
        "3569\n",
        "3570\n",
        "3571\n",
        "3572\n",
        "3573\n",
        "3574\n",
        "3575"
       ]
      },
      {
       "output_type": "stream",
       "stream": "stdout",
       "text": [
        "\n",
        "3576\n",
        "3577\n",
        "3578\n",
        "3579\n",
        "3580\n",
        "3581\n",
        "3582\n",
        "3583\n",
        "3584"
       ]
      },
      {
       "output_type": "stream",
       "stream": "stdout",
       "text": [
        "\n",
        "3585\n",
        "3586\n",
        "3587\n",
        "3588\n",
        "3589\n",
        "3590\n",
        "3591\n",
        "3592\n",
        "3593"
       ]
      },
      {
       "output_type": "stream",
       "stream": "stdout",
       "text": [
        "\n",
        "3594\n",
        "3595\n",
        "3596\n",
        "3597\n",
        "3598\n",
        "3599\n",
        "3600\n",
        "3601"
       ]
      },
      {
       "output_type": "stream",
       "stream": "stdout",
       "text": [
        "\n",
        "3602\n",
        "3603\n",
        "3604\n",
        "3605\n",
        "3606\n",
        "3607\n",
        "3608\n",
        "3609\n",
        "3610\n",
        "3611\n",
        "3612"
       ]
      },
      {
       "output_type": "stream",
       "stream": "stdout",
       "text": [
        "\n",
        "3613\n",
        "3614\n",
        "3615\n",
        "3616\n",
        "3617\n",
        "3618\n",
        "3619\n",
        "3620\n",
        "3621\n",
        "3622"
       ]
      },
      {
       "output_type": "stream",
       "stream": "stdout",
       "text": [
        "\n",
        "3623\n",
        "3624\n",
        "3625\n",
        "3626\n",
        "3627\n",
        "3628\n",
        "3629"
       ]
      },
      {
       "output_type": "stream",
       "stream": "stdout",
       "text": [
        "\n",
        "3630\n",
        "3631\n",
        "3632\n",
        "3633\n",
        "3634\n",
        "3635\n",
        "3636\n",
        "3637"
       ]
      },
      {
       "output_type": "stream",
       "stream": "stdout",
       "text": [
        "\n",
        "3638\n",
        "3639\n",
        "3640\n",
        "3641\n",
        "3642\n",
        "3643\n",
        "3644\n",
        "3645\n",
        "3646"
       ]
      },
      {
       "output_type": "stream",
       "stream": "stdout",
       "text": [
        "\n",
        "3647\n",
        "3648\n",
        "3649\n",
        "3650\n",
        "3651\n",
        "3652\n",
        "3653\n",
        "3654\n",
        "3655"
       ]
      },
      {
       "output_type": "stream",
       "stream": "stdout",
       "text": [
        "\n",
        "3656\n",
        "3657\n",
        "3658\n",
        "3659\n",
        "3660\n",
        "3661\n",
        "3662\n",
        "3663\n",
        "3664"
       ]
      },
      {
       "output_type": "stream",
       "stream": "stdout",
       "text": [
        "\n",
        "3665\n",
        "3666\n",
        "3667\n",
        "3668\n",
        "3669\n",
        "3670\n",
        "3671\n",
        "3672\n",
        "3673"
       ]
      },
      {
       "output_type": "stream",
       "stream": "stdout",
       "text": [
        "\n",
        "3674\n",
        "3675\n",
        "3676\n",
        "3677\n",
        "3678\n",
        "3679\n",
        "3680\n",
        "3681\n",
        "3682"
       ]
      },
      {
       "output_type": "stream",
       "stream": "stdout",
       "text": [
        "\n",
        "3683\n",
        "3684\n",
        "3685\n",
        "3686\n",
        "3687\n",
        "3688\n",
        "3689"
       ]
      },
      {
       "output_type": "stream",
       "stream": "stdout",
       "text": [
        "\n",
        "3690\n",
        "3691\n",
        "3692\n",
        "3693\n",
        "3694"
       ]
      },
      {
       "output_type": "stream",
       "stream": "stdout",
       "text": [
        "\n",
        "3695\n",
        "3696\n",
        "3697\n",
        "3698\n",
        "3699\n",
        "3700"
       ]
      },
      {
       "output_type": "stream",
       "stream": "stdout",
       "text": [
        "\n",
        "3701\n",
        "3702\n",
        "3703\n",
        "3704\n",
        "3705\n",
        "3706\n",
        "3707\n",
        "3708\n",
        "3709"
       ]
      },
      {
       "output_type": "stream",
       "stream": "stdout",
       "text": [
        "\n",
        "3710\n",
        "3711\n",
        "3712\n",
        "3713\n",
        "3714\n",
        "3715\n",
        "3716\n",
        "3717\n",
        "3718\n",
        "3719"
       ]
      },
      {
       "output_type": "stream",
       "stream": "stdout",
       "text": [
        "\n",
        "3720\n",
        "3721\n",
        "3722\n",
        "3723\n",
        "3724\n",
        "3725\n",
        "3726\n",
        "3727\n",
        "3728\n",
        "3729"
       ]
      },
      {
       "output_type": "stream",
       "stream": "stdout",
       "text": [
        "\n",
        "3730\n",
        "3731\n",
        "3732\n",
        "3733\n",
        "3734\n",
        "3735\n",
        "3736"
       ]
      },
      {
       "output_type": "stream",
       "stream": "stdout",
       "text": [
        "\n",
        "3737"
       ]
      },
      {
       "output_type": "stream",
       "stream": "stdout",
       "text": [
        "\n",
        "3738\n",
        "3739\n",
        "3740\n",
        "3741\n",
        "3742\n",
        "3743\n",
        "3744"
       ]
      },
      {
       "output_type": "stream",
       "stream": "stdout",
       "text": [
        "\n",
        "3745\n",
        "3746\n",
        "3747\n",
        "3748\n",
        "3749\n",
        "3750\n",
        "3751"
       ]
      },
      {
       "output_type": "stream",
       "stream": "stdout",
       "text": [
        "\n",
        "3752\n",
        "3753\n",
        "3754\n",
        "3755\n",
        "3756\n",
        "3757\n",
        "3758\n",
        "3759\n",
        "3760"
       ]
      },
      {
       "output_type": "stream",
       "stream": "stdout",
       "text": [
        "\n",
        "3761\n",
        "3762\n",
        "3763\n",
        "3764\n",
        "3765\n",
        "3766\n",
        "3767\n",
        "3768"
       ]
      },
      {
       "output_type": "stream",
       "stream": "stdout",
       "text": [
        "\n",
        "3769\n",
        "3770\n",
        "3771\n",
        "3772\n",
        "3773"
       ]
      },
      {
       "output_type": "stream",
       "stream": "stdout",
       "text": [
        "\n",
        "3774\n",
        "3775\n",
        "3776\n",
        "3777\n",
        "3778\n",
        "3779\n",
        "3780\n",
        "3781"
       ]
      },
      {
       "output_type": "stream",
       "stream": "stdout",
       "text": [
        "\n",
        "3782\n",
        "3783\n",
        "3784\n",
        "3785\n",
        "3786\n",
        "3787\n",
        "3788"
       ]
      },
      {
       "output_type": "stream",
       "stream": "stdout",
       "text": [
        "\n",
        "3789\n",
        "3790\n",
        "3791\n",
        "3792\n",
        "3793\n",
        "3794\n",
        "3795\n",
        "3796\n",
        "3797\n",
        "3798\n",
        "3799"
       ]
      },
      {
       "output_type": "stream",
       "stream": "stdout",
       "text": [
        "\n",
        "3800\n",
        "3801\n",
        "3802\n",
        "3803\n",
        "3804\n",
        "3805"
       ]
      },
      {
       "output_type": "stream",
       "stream": "stdout",
       "text": [
        "\n",
        "3806\n",
        "3807\n",
        "3808\n",
        "3809\n",
        "3810\n",
        "3811\n",
        "3812"
       ]
      },
      {
       "output_type": "stream",
       "stream": "stdout",
       "text": [
        "\n",
        "3813\n",
        "3814\n",
        "3815\n",
        "3816\n",
        "3817\n",
        "3818\n",
        "3819\n",
        "3820"
       ]
      },
      {
       "output_type": "stream",
       "stream": "stdout",
       "text": [
        "\n",
        "3821\n",
        "3822\n",
        "3823\n",
        "3824\n",
        "3825\n",
        "3826\n",
        "3827\n",
        "3828\n",
        "3829\n",
        "3830\n",
        "3831"
       ]
      },
      {
       "output_type": "stream",
       "stream": "stdout",
       "text": [
        "\n",
        "3832\n",
        "3833\n",
        "3834\n",
        "3835\n",
        "3836\n",
        "3837\n",
        "3838\n",
        "3839"
       ]
      },
      {
       "output_type": "stream",
       "stream": "stdout",
       "text": [
        "\n",
        "3840\n",
        "3841\n",
        "3842\n",
        "3843\n",
        "3844\n",
        "3845\n",
        "3846"
       ]
      },
      {
       "output_type": "stream",
       "stream": "stdout",
       "text": [
        "\n",
        "3847\n",
        "3848\n",
        "3849\n",
        "3850\n",
        "3851\n",
        "3852\n",
        "3853\n",
        "3854\n",
        "3855\n",
        "3856\n",
        "3857\n",
        "3858"
       ]
      },
      {
       "output_type": "stream",
       "stream": "stdout",
       "text": [
        "\n",
        "3859\n",
        "3860\n",
        "3861\n",
        "3862\n",
        "3863\n",
        "3864\n",
        "3865\n",
        "3866\n",
        "3867"
       ]
      },
      {
       "output_type": "stream",
       "stream": "stdout",
       "text": [
        "\n",
        "3868\n",
        "3869\n",
        "3870\n",
        "3871\n",
        "3872\n",
        "3873\n",
        "3874\n",
        "3875\n",
        "3876\n",
        "3877"
       ]
      },
      {
       "output_type": "stream",
       "stream": "stdout",
       "text": [
        "\n",
        "3878\n",
        "3879\n",
        "3880\n",
        "3881\n",
        "3882\n",
        "3883"
       ]
      },
      {
       "output_type": "stream",
       "stream": "stdout",
       "text": [
        "\n",
        "3884\n",
        "3885\n",
        "3886\n",
        "3887\n",
        "3888\n",
        "3889\n",
        "3890\n",
        "3891\n",
        "3892\n",
        "3893"
       ]
      },
      {
       "output_type": "stream",
       "stream": "stdout",
       "text": [
        "\n",
        "3894\n",
        "3895\n",
        "3896\n",
        "3897\n",
        "3898\n",
        "3899\n",
        "3900\n",
        "3901\n",
        "3902\n",
        "3903"
       ]
      },
      {
       "output_type": "stream",
       "stream": "stdout",
       "text": [
        "\n",
        "3904\n",
        "3905\n",
        "3906\n",
        "3907\n",
        "3908\n",
        "3909\n",
        "3910\n",
        "3911\n",
        "3912"
       ]
      },
      {
       "output_type": "stream",
       "stream": "stdout",
       "text": [
        "\n",
        "3913\n",
        "3914\n",
        "3915\n",
        "3916\n",
        "3917\n",
        "3918\n",
        "3919\n",
        "3920\n",
        "3921"
       ]
      },
      {
       "output_type": "stream",
       "stream": "stdout",
       "text": [
        "\n",
        "3922\n",
        "3923\n",
        "3924\n",
        "3925\n",
        "3926\n",
        "3927\n",
        "3928\n",
        "3929\n",
        "3930\n",
        "3931"
       ]
      },
      {
       "output_type": "stream",
       "stream": "stdout",
       "text": [
        "\n",
        "3932\n",
        "3933\n",
        "3934\n",
        "3935\n",
        "3936\n",
        "3937\n",
        "3938\n",
        "3939\n",
        "3940\n",
        "3941"
       ]
      },
      {
       "output_type": "stream",
       "stream": "stdout",
       "text": [
        "\n",
        "3942\n",
        "3943\n",
        "3944\n",
        "3945\n",
        "3946\n",
        "3947\n",
        "3948\n",
        "3949\n",
        "3950\n",
        "3951"
       ]
      },
      {
       "output_type": "stream",
       "stream": "stdout",
       "text": [
        "\n",
        "3952\n",
        "3953\n",
        "3954\n",
        "3955\n",
        "3956\n",
        "3957\n",
        "3958\n",
        "3959"
       ]
      },
      {
       "output_type": "stream",
       "stream": "stdout",
       "text": [
        "\n",
        "3960\n",
        "3961\n",
        "3962\n",
        "3963\n",
        "3964\n",
        "3965\n",
        "3966\n",
        "3967"
       ]
      },
      {
       "output_type": "stream",
       "stream": "stdout",
       "text": [
        "\n",
        "3968\n",
        "3969\n",
        "3970\n",
        "3971\n",
        "3972\n",
        "3973"
       ]
      },
      {
       "output_type": "stream",
       "stream": "stdout",
       "text": [
        "\n",
        "3974\n",
        "3975\n",
        "3976\n",
        "3977\n",
        "3978\n",
        "3979\n",
        "3980"
       ]
      },
      {
       "output_type": "stream",
       "stream": "stdout",
       "text": [
        "\n",
        "3981\n",
        "3982\n",
        "3983\n",
        "3984\n",
        "3985\n",
        "3986\n",
        "3987\n",
        "3988\n",
        "3989"
       ]
      },
      {
       "output_type": "stream",
       "stream": "stdout",
       "text": [
        "\n",
        "3990\n",
        "3991\n",
        "3992\n",
        "3993\n",
        "3994\n",
        "3995\n",
        "3996\n",
        "3997\n",
        "3998\n",
        "3999\n",
        "4000\n",
        "4001\n",
        "4002"
       ]
      },
      {
       "output_type": "stream",
       "stream": "stdout",
       "text": [
        "\n",
        "4003\n",
        "4004\n",
        "4005\n",
        "4006"
       ]
      },
      {
       "output_type": "stream",
       "stream": "stdout",
       "text": [
        "\n",
        "4007\n",
        "4008\n",
        "4009\n",
        "4010\n",
        "4011\n",
        "4012\n",
        "4013\n",
        "4014\n",
        "4015\n",
        "4016\n",
        "4017"
       ]
      },
      {
       "output_type": "stream",
       "stream": "stdout",
       "text": [
        "\n",
        "4018\n",
        "4019\n",
        "4020\n",
        "4021\n",
        "4022\n",
        "4023\n",
        "4024"
       ]
      },
      {
       "output_type": "stream",
       "stream": "stdout",
       "text": [
        "\n",
        "4025\n",
        "4026\n",
        "4027\n",
        "4028\n",
        "4029\n",
        "4030\n",
        "4031\n",
        "4032\n",
        "4033"
       ]
      },
      {
       "output_type": "stream",
       "stream": "stdout",
       "text": [
        "\n",
        "4034\n",
        "4035\n",
        "4036\n",
        "4037\n",
        "4038\n",
        "4039\n",
        "4040\n",
        "4041\n",
        "4042"
       ]
      },
      {
       "output_type": "stream",
       "stream": "stdout",
       "text": [
        "\n",
        "4043\n",
        "4044\n",
        "4045\n",
        "4046\n",
        "4047\n",
        "4048\n",
        "4049"
       ]
      },
      {
       "output_type": "stream",
       "stream": "stdout",
       "text": [
        "\n",
        "4050\n",
        "4051\n",
        "4052\n",
        "4053\n",
        "4054\n",
        "4055\n",
        "4056\n",
        "4057\n",
        "4058\n",
        "4059"
       ]
      },
      {
       "output_type": "stream",
       "stream": "stdout",
       "text": [
        "\n",
        "4060\n",
        "4061\n",
        "4062\n",
        "4063\n",
        "4064\n",
        "4065\n",
        "4066"
       ]
      },
      {
       "output_type": "stream",
       "stream": "stdout",
       "text": [
        "\n",
        "4067\n",
        "4068\n",
        "4069\n",
        "4070\n",
        "4071\n",
        "4072\n",
        "4073\n",
        "4074\n",
        "4075\n",
        "4076"
       ]
      },
      {
       "output_type": "stream",
       "stream": "stdout",
       "text": [
        "\n",
        "4077\n",
        "4078\n",
        "4079\n",
        "4080\n",
        "4081\n",
        "4082\n",
        "4083\n",
        "4084\n",
        "4085"
       ]
      },
      {
       "output_type": "stream",
       "stream": "stdout",
       "text": [
        "\n",
        "4086\n",
        "4087\n",
        "4088\n",
        "4089\n",
        "4090\n",
        "4091\n",
        "4092\n",
        "4093"
       ]
      },
      {
       "output_type": "stream",
       "stream": "stdout",
       "text": [
        "\n",
        "4094\n",
        "4095\n",
        "4096\n",
        "4097\n",
        "4098\n",
        "4099\n",
        "4100\n",
        "4101"
       ]
      },
      {
       "output_type": "stream",
       "stream": "stdout",
       "text": [
        "\n",
        "4102\n",
        "4103\n",
        "4104\n",
        "4105\n",
        "4106\n",
        "4107\n",
        "4108"
       ]
      },
      {
       "output_type": "stream",
       "stream": "stdout",
       "text": [
        "\n",
        "4109\n",
        "4110\n",
        "4111\n",
        "4112\n",
        "4113\n",
        "4114\n",
        "4115\n",
        "4116"
       ]
      },
      {
       "output_type": "stream",
       "stream": "stdout",
       "text": [
        "\n",
        "4117\n",
        "4118\n",
        "4119\n",
        "4120\n",
        "4121\n",
        "4122\n",
        "4123\n",
        "4124\n",
        "4125"
       ]
      },
      {
       "output_type": "stream",
       "stream": "stdout",
       "text": [
        "\n",
        "4126\n",
        "4127\n",
        "4128\n",
        "4129\n",
        "4130\n",
        "4131\n",
        "4132\n",
        "4133\n",
        "4134"
       ]
      },
      {
       "output_type": "stream",
       "stream": "stdout",
       "text": [
        "\n",
        "4135\n",
        "4136\n",
        "4137\n",
        "4138\n",
        "4139\n",
        "4140"
       ]
      },
      {
       "output_type": "stream",
       "stream": "stdout",
       "text": [
        "\n",
        "4141\n",
        "4142\n",
        "4143\n",
        "4144\n",
        "4145\n",
        "4146"
       ]
      },
      {
       "output_type": "stream",
       "stream": "stdout",
       "text": [
        "\n",
        "4147\n",
        "4148\n",
        "4149\n",
        "4150\n",
        "4151\n",
        "4152\n",
        "4153"
       ]
      },
      {
       "output_type": "stream",
       "stream": "stdout",
       "text": [
        "\n",
        "4154\n",
        "4155\n",
        "4156\n",
        "4157\n",
        "4158\n",
        "4159\n",
        "4160\n",
        "4161\n",
        "4162\n",
        "4163"
       ]
      },
      {
       "output_type": "stream",
       "stream": "stdout",
       "text": [
        "\n",
        "4164\n",
        "4165\n",
        "4166\n",
        "4167\n",
        "4168\n",
        "4169\n",
        "4170\n",
        "4171\n",
        "4172\n",
        "4173"
       ]
      },
      {
       "output_type": "stream",
       "stream": "stdout",
       "text": [
        "\n",
        "4174\n",
        "4175\n",
        "4176\n",
        "4177\n",
        "4178\n",
        "4179"
       ]
      },
      {
       "output_type": "stream",
       "stream": "stdout",
       "text": [
        "\n",
        "4180\n",
        "4181\n",
        "4182\n",
        "4183\n",
        "4184\n",
        "4185\n",
        "4186\n",
        "4187\n",
        "4188\n",
        "4189"
       ]
      },
      {
       "output_type": "stream",
       "stream": "stdout",
       "text": [
        "\n",
        "4190\n",
        "4191\n",
        "4192\n",
        "4193\n",
        "4194\n",
        "4195\n",
        "4196"
       ]
      },
      {
       "output_type": "stream",
       "stream": "stdout",
       "text": [
        "\n",
        "4197\n",
        "4198\n",
        "4199\n",
        "4200\n",
        "4201\n",
        "4202\n",
        "4203\n",
        "4204\n",
        "4205\n",
        "4206\n",
        "4207\n",
        "4208"
       ]
      },
      {
       "output_type": "stream",
       "stream": "stdout",
       "text": [
        "\n",
        "4209\n",
        "4210\n",
        "4211\n",
        "4212\n",
        "4213\n",
        "4214\n",
        "4215\n",
        "4216\n",
        "4217"
       ]
      },
      {
       "output_type": "stream",
       "stream": "stdout",
       "text": [
        "\n",
        "4218\n",
        "4219\n",
        "4220\n",
        "4221\n",
        "4222\n",
        "4223\n",
        "4224\n",
        "4225\n",
        "4226\n",
        "4227\n",
        "4228"
       ]
      },
      {
       "output_type": "stream",
       "stream": "stdout",
       "text": [
        "\n",
        "4229\n",
        "4230\n",
        "4231\n",
        "4232\n",
        "4233\n",
        "4234\n",
        "4235\n",
        "4236\n",
        "4237\n",
        "4238"
       ]
      },
      {
       "output_type": "stream",
       "stream": "stdout",
       "text": [
        "\n",
        "4239\n",
        "4240\n",
        "4241\n",
        "4242\n",
        "4243\n",
        "4244\n",
        "4245\n",
        "4246\n",
        "4247"
       ]
      },
      {
       "output_type": "stream",
       "stream": "stdout",
       "text": [
        "\n",
        "4248\n",
        "4249\n",
        "4250\n",
        "4251\n",
        "4252\n",
        "4253\n",
        "4254\n",
        "4255\n",
        "4256"
       ]
      },
      {
       "output_type": "stream",
       "stream": "stdout",
       "text": [
        "\n",
        "4257\n",
        "4258\n",
        "4259\n",
        "4260\n",
        "4261\n",
        "4262\n",
        "4263\n",
        "4264\n",
        "4265\n",
        "4266\n",
        "4267\n",
        "4268\n",
        "4269"
       ]
      },
      {
       "output_type": "stream",
       "stream": "stdout",
       "text": [
        "\n",
        "4270\n",
        "4271\n",
        "4272\n",
        "4273\n",
        "4274\n",
        "4275\n",
        "4276\n",
        "4277\n",
        "4278\n",
        "4279\n",
        "4280\n",
        "4281"
       ]
      },
      {
       "output_type": "stream",
       "stream": "stdout",
       "text": [
        "\n",
        "4282\n",
        "4283\n",
        "4284\n",
        "4285\n",
        "4286\n",
        "4287\n",
        "4288\n",
        "4289\n",
        "4290\n",
        "4291\n",
        "4292\n",
        "4293\n",
        "4294"
       ]
      },
      {
       "output_type": "stream",
       "stream": "stdout",
       "text": [
        "\n",
        "4295\n",
        "4296\n",
        "4297\n",
        "4298\n",
        "4299\n",
        "4300\n",
        "4301\n",
        "4302\n",
        "4303\n",
        "4304\n",
        "4305\n",
        "4306"
       ]
      },
      {
       "output_type": "stream",
       "stream": "stdout",
       "text": [
        "\n",
        "4307\n",
        "4308\n",
        "4309\n",
        "4310"
       ]
      },
      {
       "output_type": "stream",
       "stream": "stdout",
       "text": [
        "\n",
        "4311\n",
        "4312\n",
        "4313\n",
        "4314\n",
        "4315\n",
        "4316\n",
        "4317\n",
        "4318\n",
        "4319\n",
        "4320"
       ]
      },
      {
       "output_type": "stream",
       "stream": "stdout",
       "text": [
        "\n",
        "4321\n",
        "4322\n",
        "4323\n",
        "4324\n",
        "4325\n",
        "4326\n",
        "4327\n",
        "4328"
       ]
      },
      {
       "output_type": "stream",
       "stream": "stdout",
       "text": [
        "\n",
        "4329\n",
        "4330\n",
        "4331\n",
        "4332\n",
        "4333\n",
        "4334\n",
        "4335\n",
        "4336\n",
        "4337\n",
        "4338\n",
        "4339\n",
        "4340\n",
        "4341"
       ]
      },
      {
       "output_type": "stream",
       "stream": "stdout",
       "text": [
        "\n",
        "4342\n",
        "4343\n",
        "4344\n",
        "4345\n",
        "4346\n",
        "4347\n",
        "4348\n",
        "4349\n",
        "4350\n",
        "4351\n",
        "4352\n",
        "4353\n",
        "4354"
       ]
      },
      {
       "output_type": "stream",
       "stream": "stdout",
       "text": [
        "\n",
        "4355\n",
        "4356\n",
        "4357\n",
        "4358\n",
        "4359\n",
        "4360\n",
        "4361\n",
        "4362\n",
        "4363\n",
        "4364\n",
        "4365\n",
        "4366\n",
        "4367\n",
        "4368\n",
        "4369"
       ]
      },
      {
       "output_type": "stream",
       "stream": "stdout",
       "text": [
        "\n",
        "4370\n",
        "4371\n",
        "4372\n",
        "4373\n",
        "4374\n",
        "4375\n",
        "4376\n",
        "4377\n",
        "4378\n",
        "4379\n",
        "4380\n",
        "4381\n",
        "4382"
       ]
      },
      {
       "output_type": "stream",
       "stream": "stdout",
       "text": [
        "\n",
        "4383\n",
        "4384\n",
        "4385\n",
        "4386\n",
        "4387\n",
        "4388\n",
        "4389\n",
        "4390\n",
        "4391\n",
        "4392\n",
        "4393"
       ]
      },
      {
       "output_type": "stream",
       "stream": "stdout",
       "text": [
        "\n",
        "4394\n",
        "4395\n",
        "4396\n",
        "4397\n",
        "4398\n",
        "4399\n",
        "4400"
       ]
      },
      {
       "output_type": "stream",
       "stream": "stdout",
       "text": [
        "\n",
        "4401\n",
        "4402\n",
        "4403\n",
        "4404\n",
        "4405\n",
        "4406\n",
        "4407\n",
        "4408\n",
        "4409\n",
        "4410"
       ]
      },
      {
       "output_type": "stream",
       "stream": "stdout",
       "text": [
        "\n",
        "4411\n",
        "4412\n",
        "4413\n",
        "4414\n",
        "4415\n",
        "4416\n",
        "4417\n",
        "4418\n",
        "4419\n",
        "4420\n",
        "4421\n",
        "4422\n",
        "4423\n",
        "4424\n",
        "4425\n",
        "4426"
       ]
      },
      {
       "output_type": "stream",
       "stream": "stdout",
       "text": [
        "\n",
        "4427\n",
        "4428\n",
        "4429\n",
        "4430\n",
        "4431\n",
        "4432\n",
        "4433\n",
        "4434\n",
        "4435\n",
        "4436\n",
        "4437\n",
        "4438\n",
        "4439\n",
        "4440\n",
        "4441"
       ]
      },
      {
       "output_type": "stream",
       "stream": "stdout",
       "text": [
        "\n",
        "4442\n",
        "4443\n",
        "4444\n",
        "4445\n",
        "4446\n",
        "4447\n",
        "4448\n",
        "4449\n",
        "4450\n",
        "4451\n",
        "4452\n",
        "4453\n",
        "4454\n",
        "4455\n",
        "4456"
       ]
      },
      {
       "output_type": "stream",
       "stream": "stdout",
       "text": [
        "\n",
        "4457\n",
        "4458\n",
        "4459\n",
        "4460\n",
        "4461\n",
        "4462\n",
        "4463\n",
        "4464\n",
        "4465\n",
        "4466\n",
        "4467\n",
        "4468\n",
        "4469\n",
        "4470"
       ]
      },
      {
       "output_type": "stream",
       "stream": "stdout",
       "text": [
        "\n",
        "4471\n",
        "4472\n",
        "4473\n",
        "4474\n",
        "4475\n",
        "4476\n",
        "4477\n",
        "4478\n",
        "4479\n",
        "4480\n",
        "4481\n",
        "4482\n",
        "4483"
       ]
      },
      {
       "output_type": "stream",
       "stream": "stdout",
       "text": [
        "\n",
        "4484\n",
        "4485\n",
        "4486\n",
        "4487\n",
        "4488\n",
        "4489\n",
        "4490\n",
        "4491\n",
        "4492\n",
        "4493"
       ]
      },
      {
       "output_type": "stream",
       "stream": "stdout",
       "text": [
        "\n",
        "4494\n",
        "4495\n",
        "4496\n",
        "4497\n",
        "4498\n",
        "4499\n",
        "4500\n",
        "4501\n",
        "4502\n",
        "4503\n",
        "4504"
       ]
      },
      {
       "output_type": "stream",
       "stream": "stdout",
       "text": [
        "\n",
        "4505\n",
        "4506\n",
        "4507\n",
        "4508\n",
        "4509\n",
        "4510\n",
        "4511\n",
        "4512\n",
        "4513\n",
        "4514\n",
        "4515\n",
        "4516\n",
        "4517\n",
        "4518"
       ]
      },
      {
       "output_type": "stream",
       "stream": "stdout",
       "text": [
        "\n",
        "4519\n",
        "4520\n",
        "4521\n",
        "4522\n",
        "4523\n",
        "4524\n",
        "4525\n",
        "4526\n",
        "4527\n",
        "4528\n",
        "4529\n",
        "4530"
       ]
      },
      {
       "output_type": "stream",
       "stream": "stdout",
       "text": [
        "\n",
        "4531\n",
        "4532\n",
        "4533\n",
        "4534\n",
        "4535\n",
        "4536\n",
        "4537\n",
        "4538\n",
        "4539\n",
        "4540\n",
        "4541\n",
        "4542"
       ]
      },
      {
       "output_type": "stream",
       "stream": "stdout",
       "text": [
        "\n",
        "4543\n",
        "4544\n",
        "4545\n",
        "4546\n",
        "4547\n",
        "4548\n",
        "4549\n",
        "4550\n",
        "4551\n",
        "4552\n",
        "4553\n",
        "4554\n",
        "4555"
       ]
      },
      {
       "output_type": "stream",
       "stream": "stdout",
       "text": [
        "\n",
        "4556\n",
        "4557\n",
        "4558\n",
        "4559\n",
        "4560\n",
        "4561\n",
        "4562\n",
        "4563\n",
        "4564\n",
        "4565\n",
        "4566\n",
        "4567\n",
        "4568\n",
        "4569"
       ]
      },
      {
       "output_type": "stream",
       "stream": "stdout",
       "text": [
        "\n",
        "4570\n",
        "4571\n",
        "4572\n",
        "4573\n",
        "4574\n",
        "4575\n",
        "4576\n",
        "4577\n",
        "4578\n",
        "4579\n",
        "4580\n",
        "4581\n",
        "4582\n",
        "4583\n",
        "4584\n",
        "4585"
       ]
      },
      {
       "output_type": "stream",
       "stream": "stdout",
       "text": [
        "\n",
        "4586\n",
        "4587\n",
        "4588\n",
        "4589\n",
        "4590\n",
        "4591\n",
        "4592\n",
        "4593\n",
        "4594"
       ]
      },
      {
       "output_type": "stream",
       "stream": "stdout",
       "text": [
        "\n",
        "4595\n",
        "4596\n",
        "4597\n",
        "4598\n",
        "4599\n",
        "4600\n",
        "4601\n",
        "4602\n",
        "4603\n",
        "4604\n",
        "4605\n",
        "4606\n",
        "4607\n",
        "4608\n"
       ]
      },
      {
       "output_type": "stream",
       "stream": "stdout",
       "text": [
        "4609\n",
        "4610\n",
        "4611\n",
        "4612\n",
        "4613\n",
        "4614\n",
        "4615\n",
        "4616\n",
        "4617\n",
        "4618\n",
        "4619\n",
        "4620\n",
        "4621"
       ]
      },
      {
       "output_type": "stream",
       "stream": "stdout",
       "text": [
        "\n",
        "4622\n",
        "4623\n",
        "4624\n",
        "4625\n",
        "4626\n",
        "4627\n",
        "4628\n",
        "4629\n",
        "4630"
       ]
      },
      {
       "output_type": "stream",
       "stream": "stdout",
       "text": [
        "\n",
        "4631\n",
        "4632\n",
        "4633\n",
        "4634\n",
        "4635\n",
        "4636\n",
        "4637\n",
        "4638\n",
        "4639\n",
        "4640\n",
        "4641\n",
        "4642"
       ]
      },
      {
       "output_type": "stream",
       "stream": "stdout",
       "text": [
        "\n",
        "4643\n",
        "4644\n",
        "4645\n",
        "4646\n",
        "4647\n",
        "4648\n",
        "4649\n",
        "4650\n",
        "4651\n",
        "4652\n",
        "4653"
       ]
      },
      {
       "output_type": "stream",
       "stream": "stdout",
       "text": [
        "\n",
        "4654\n",
        "4655\n",
        "4656\n",
        "4657\n",
        "4658\n",
        "4659\n",
        "4660\n",
        "4661\n",
        "4662\n",
        "4663\n",
        "4664\n",
        "4665"
       ]
      },
      {
       "output_type": "stream",
       "stream": "stdout",
       "text": [
        "\n",
        "4666\n",
        "4667\n",
        "4668\n",
        "4669\n",
        "4670\n",
        "4671\n",
        "4672\n",
        "4673\n",
        "4674\n",
        "4675\n",
        "4676\n",
        "4677\n",
        "4678\n",
        "4679\n",
        "4680"
       ]
      },
      {
       "output_type": "stream",
       "stream": "stdout",
       "text": [
        "\n",
        "4681\n",
        "4682\n",
        "4683\n",
        "4684\n",
        "4685\n",
        "4686\n",
        "4687\n",
        "4688\n",
        "4689\n",
        "4690"
       ]
      },
      {
       "output_type": "stream",
       "stream": "stdout",
       "text": [
        "\n",
        "4691\n",
        "4692\n",
        "4693\n",
        "4694\n",
        "4695\n",
        "4696\n",
        "4697\n",
        "4698\n",
        "4699\n",
        "4700\n",
        "4701\n",
        "4702"
       ]
      },
      {
       "output_type": "stream",
       "stream": "stdout",
       "text": [
        "\n",
        "4703\n",
        "4704\n",
        "4705\n",
        "4706\n",
        "4707\n",
        "4708\n",
        "4709\n",
        "4710\n",
        "4711\n",
        "4712\n",
        "4713\n",
        "4714\n",
        "4715"
       ]
      },
      {
       "output_type": "stream",
       "stream": "stdout",
       "text": [
        "\n",
        "4716\n",
        "4717\n",
        "4718\n",
        "4719\n",
        "4720\n",
        "4721\n",
        "4722\n",
        "4723\n",
        "4724\n",
        "4725\n",
        "4726"
       ]
      },
      {
       "output_type": "stream",
       "stream": "stdout",
       "text": [
        "\n",
        "4727\n",
        "4728\n",
        "4729\n",
        "4730\n",
        "4731\n",
        "4732\n",
        "4733\n",
        "4734\n",
        "4735\n",
        "4736\n",
        "4737\n",
        "4738"
       ]
      },
      {
       "output_type": "stream",
       "stream": "stdout",
       "text": [
        "\n",
        "4739\n",
        "4740\n",
        "4741\n",
        "4742\n",
        "4743\n",
        "4744\n",
        "4745\n",
        "4746\n",
        "4747\n",
        "4748\n",
        "4749\n",
        "4750\n",
        "4751"
       ]
      },
      {
       "output_type": "stream",
       "stream": "stdout",
       "text": [
        "\n",
        "4752\n",
        "4753\n",
        "4754\n",
        "4755\n",
        "4756\n",
        "4757\n",
        "4758\n",
        "4759\n",
        "4760\n",
        "4761\n",
        "4762\n",
        "4763\n",
        "4764\n",
        "4765"
       ]
      },
      {
       "output_type": "stream",
       "stream": "stdout",
       "text": [
        "\n",
        "4766\n",
        "4767\n",
        "4768\n",
        "4769\n",
        "4770\n",
        "4771\n",
        "4772\n",
        "4773\n",
        "4774\n",
        "4775\n",
        "4776\n",
        "4777\n",
        "4778\n",
        "4779"
       ]
      },
      {
       "output_type": "stream",
       "stream": "stdout",
       "text": [
        "\n",
        "4780\n",
        "4781\n",
        "4782\n",
        "4783\n",
        "4784\n",
        "4785\n",
        "4786\n",
        "4787\n",
        "4788\n",
        "4789\n",
        "4790\n",
        "4791\n",
        "4792"
       ]
      },
      {
       "output_type": "stream",
       "stream": "stdout",
       "text": [
        "\n",
        "4793\n",
        "4794\n",
        "4795\n",
        "4796\n",
        "4797\n",
        "4798\n",
        "4799\n",
        "4800\n",
        "4801\n",
        "4802\n",
        "4803"
       ]
      },
      {
       "output_type": "stream",
       "stream": "stdout",
       "text": [
        "\n",
        "4804\n",
        "4805\n",
        "4806\n",
        "4807\n",
        "4808\n",
        "4809\n",
        "4810\n",
        "4811\n",
        "4812\n",
        "4813\n",
        "4814\n",
        "4815"
       ]
      },
      {
       "output_type": "stream",
       "stream": "stdout",
       "text": [
        "\n",
        "4816\n",
        "4817\n",
        "4818\n",
        "4819\n",
        "4820\n",
        "4821\n",
        "4822\n",
        "4823\n",
        "4824\n",
        "4825\n",
        "4826\n",
        "4827"
       ]
      },
      {
       "output_type": "stream",
       "stream": "stdout",
       "text": [
        "\n",
        "4828\n",
        "4829\n",
        "4830\n",
        "4831\n",
        "4832\n",
        "4833\n",
        "4834\n",
        "4835\n",
        "4836\n",
        "4837\n",
        "4838\n",
        "4839\n",
        "4840"
       ]
      },
      {
       "output_type": "stream",
       "stream": "stdout",
       "text": [
        "\n",
        "4841\n",
        "4842\n",
        "4843\n",
        "4844\n",
        "4845\n",
        "4846\n",
        "4847\n",
        "4848\n",
        "4849\n",
        "4850\n",
        "4851\n",
        "4852\n",
        "4853\n",
        "4854"
       ]
      },
      {
       "output_type": "stream",
       "stream": "stdout",
       "text": [
        "\n",
        "4855\n",
        "4856\n",
        "4857\n",
        "4858\n",
        "4859\n",
        "4860\n",
        "4861\n",
        "4862\n",
        "4863\n",
        "4864\n",
        "4865\n",
        "4866"
       ]
      },
      {
       "output_type": "stream",
       "stream": "stdout",
       "text": [
        "\n",
        "4867\n",
        "4868\n",
        "4869\n",
        "4870\n",
        "4871"
       ]
      },
      {
       "output_type": "stream",
       "stream": "stdout",
       "text": [
        "\n",
        "4872\n",
        "4873\n",
        "4874\n",
        "4875\n",
        "4876\n",
        "4877\n",
        "4878\n",
        "4879\n",
        "4880\n",
        "4881\n",
        "4882\n",
        "4883\n",
        "4884"
       ]
      },
      {
       "output_type": "stream",
       "stream": "stdout",
       "text": [
        "\n",
        "4885\n",
        "4886\n",
        "4887\n",
        "4888\n",
        "4889\n",
        "4890\n",
        "4891\n",
        "4892\n",
        "4893\n",
        "4894\n",
        "4895\n",
        "4896\n",
        "4897\n",
        "4898"
       ]
      },
      {
       "output_type": "stream",
       "stream": "stdout",
       "text": [
        "\n",
        "4899\n"
       ]
      }
     ],
     "prompt_number": 35
    },
    {
     "cell_type": "code",
     "collapsed": false,
     "input": [
      "def completeness(soup):\n",
      "    paragraphs = soup.find(id='bodyContent').find_all('p')\n",
      "    text = ''\n",
      "    for para in paragraphs:\n",
      "        text = text + ' ' + para.get_text()\n",
      "    article_length = len(text.strip(string.punctuation).split())\n",
      "    links = set(soup.find(id='mw-content-text').find_all('a'))\n",
      "    images = set(soup.find(id='mw-content-text').find_all('a', class_='image'))\n",
      "    external = set(soup.find(id='mw-content-text').find_all('a', class_=['external','extiw']))\n",
      "    links = links.difference(images)\n",
      "    links = links.difference(external)\n",
      "    num_links = len(links)\n",
      "    text = text.lower().strip(string.punctuation).split()\n",
      "    text = [w.strip(string.punctuation) for w in text]\n",
      "    return (text, len(text), num_links, len(external), len(images))"
     ],
     "language": "python",
     "metadata": {},
     "outputs": [],
     "prompt_number": 15
    },
    {
     "cell_type": "code",
     "collapsed": false,
     "input": [
      "def informativeness(soup, text):\n",
      "    #diversity = len(set(editors))/len(edits)\n",
      "    from nltk.corpus import stopwords\n",
      "    stopwords = stopwords.words('english')\n",
      "    unstopped = [w for w in text if w not in stopwords]\n",
      "    from nltk.stem.snowball import SnowballStemmer\n",
      "    stemmer = SnowballStemmer(\"english\", ignore_stopwords=True)\n",
      "    stems = [stemmer.stem(w) for w in unstopped]\n",
      "    stems = set(stems)\n",
      "    info_noise = float(len(stems))/len(text)\n",
      "    return info_noise"
     ],
     "language": "python",
     "metadata": {},
     "outputs": [],
     "prompt_number": 16
    },
    {
     "cell_type": "code",
     "collapsed": false,
     "input": [
      "def page_stuff(soup):\n",
      "    headings = soup.find(id='bodyContent').find_all(['h1', 'h2', 'h3', 'h4', 'h5', 'h6'])\n",
      "    num_headings = len(headings)\n",
      "    reference_list = soup.find_all(class_='references')\n",
      "    if len(reference_list) == 0:\n",
      "        num_refs = 0\n",
      "    else:\n",
      "        num_refs = len(reference_list[0].find_all('li'))\n",
      "    return (num_headings, num_refs)"
     ],
     "language": "python",
     "metadata": {},
     "outputs": [],
     "prompt_number": 17
    },
    {
     "cell_type": "code",
     "collapsed": false,
     "input": [
      "names = []\n",
      "quality = []\n",
      "article_length = []\n",
      "num_wikilinks = []\n",
      "num_external_links = []\n",
      "num_images = []\n",
      "info_noise = []\n",
      "num_refs = []\n",
      "num_headings = []\n",
      "\n",
      "print \"starting\"\n",
      "for fil in files:\n",
      "    print fil\n",
      "    lines = set(open(fil, 'r').readlines())\n",
      "    lines = random.sample(lines, 400)\n",
      "    for line in lines:\n",
      "        line = line.strip()\n",
      "        names.append(line)\n",
      "        if fil[21] == 'f':\n",
      "            quality.append(7.0)\n",
      "        elif fil[21] == 'a':\n",
      "            quality.append(6.0)\n",
      "        elif fil[21] == 'g':\n",
      "            quality.append(5.0)\n",
      "        elif fil[21] == 'b':\n",
      "            quality.append(4.0)\n",
      "        elif fil[21] == 'c':\n",
      "            quality.append(3.0)\n",
      "        elif fil[21:24] == 'sta':\n",
      "            quality.append(2.0)\n",
      "        elif fil[21:24] == 'stu':\n",
      "            quality.append(1.0)\n",
      "        soup = get_soup(base_url+line)\n",
      "        if soup is None:\n",
      "            continue\n",
      "        else:\n",
      "            (words, length, wikilinks, ext_links, images) = completeness(soup)\n",
      "            article_length.append(length)\n",
      "            num_wikilinks.append(wikilinks)\n",
      "            num_external_links.append(ext_links)\n",
      "            num_images.append(images)\n",
      "            #info_noise.append(informativeness(soup, words))\n",
      "            (headings, refs) = page_stuff(soup)\n",
      "            num_headings.append(headings)\n",
      "            num_refs.append(refs)\n",
      "        \n",
      "    \n",
      "            \n",
      "dict_ = {'names': names, 'quality': quality, 'soup': soups, 'article_length': article_length, 'num_wikilinks': num_wikilinks, \n",
      "         'num_external_links': num_external_links, 'num_images': num_images, 'info_noise': info_noise, 'num_refs': num_refs,\n",
      "         'num_headings': num_headings}\n",
      "df2 = pd.DataFrame(dict_)"
     ],
     "language": "python",
     "metadata": {},
     "outputs": [
      {
       "ename": "KeyboardInterrupt",
       "evalue": "",
       "output_type": "pyerr",
       "traceback": [
        "\u001b[0;31m---------------------------------------------------------------------------\u001b[0m\n\u001b[0;31mKeyboardInterrupt\u001b[0m                         Traceback (most recent call last)",
        "\u001b[0;32m<ipython-input-12-143f1889687f>\u001b[0m in \u001b[0;36m<module>\u001b[0;34m()\u001b[0m\n\u001b[1;32m     31\u001b[0m         \u001b[0;32melif\u001b[0m \u001b[0mfil\u001b[0m\u001b[0;34m[\u001b[0m\u001b[0;36m21\u001b[0m\u001b[0;34m:\u001b[0m\u001b[0;36m24\u001b[0m\u001b[0;34m]\u001b[0m \u001b[0;34m==\u001b[0m \u001b[0;34m'stu'\u001b[0m\u001b[0;34m:\u001b[0m\u001b[0;34m\u001b[0m\u001b[0m\n\u001b[1;32m     32\u001b[0m             \u001b[0mquality\u001b[0m\u001b[0;34m.\u001b[0m\u001b[0mappend\u001b[0m\u001b[0;34m(\u001b[0m\u001b[0;36m1.0\u001b[0m\u001b[0;34m)\u001b[0m\u001b[0;34m\u001b[0m\u001b[0m\n\u001b[0;32m---> 33\u001b[0;31m         \u001b[0msoup\u001b[0m \u001b[0;34m=\u001b[0m \u001b[0mget_soup\u001b[0m\u001b[0;34m(\u001b[0m\u001b[0mbase_url\u001b[0m\u001b[0;34m+\u001b[0m\u001b[0mline\u001b[0m\u001b[0;34m)\u001b[0m\u001b[0;34m\u001b[0m\u001b[0m\n\u001b[0m\u001b[1;32m     34\u001b[0m         \u001b[0;32mif\u001b[0m \u001b[0msoup\u001b[0m \u001b[0;32mis\u001b[0m \u001b[0mNone\u001b[0m\u001b[0;34m:\u001b[0m\u001b[0;34m\u001b[0m\u001b[0m\n\u001b[1;32m     35\u001b[0m             \u001b[0;32mcontinue\u001b[0m\u001b[0;34m\u001b[0m\u001b[0m\n",
        "\u001b[0;32m<ipython-input-2-15422841761a>\u001b[0m in \u001b[0;36mget_soup\u001b[0;34m(article)\u001b[0m\n\u001b[1;32m      1\u001b[0m \u001b[0;32mdef\u001b[0m \u001b[0mget_soup\u001b[0m\u001b[0;34m(\u001b[0m\u001b[0marticle\u001b[0m\u001b[0;34m)\u001b[0m\u001b[0;34m:\u001b[0m\u001b[0;34m\u001b[0m\u001b[0m\n\u001b[1;32m      2\u001b[0m     \u001b[0mpage\u001b[0m \u001b[0;34m=\u001b[0m \u001b[0murllib\u001b[0m\u001b[0;34m.\u001b[0m\u001b[0murlopen\u001b[0m\u001b[0;34m(\u001b[0m\u001b[0marticle\u001b[0m\u001b[0;34m)\u001b[0m\u001b[0;34m\u001b[0m\u001b[0m\n\u001b[0;32m----> 3\u001b[0;31m     \u001b[0;32mreturn\u001b[0m \u001b[0mBeautifulSoup\u001b[0m\u001b[0;34m(\u001b[0m\u001b[0mpage\u001b[0m\u001b[0;34m)\u001b[0m\u001b[0;34m\u001b[0m\u001b[0m\n\u001b[0m",
        "\u001b[0;32m/usr/lib/python2.7/dist-packages/bs4/__init__.pyc\u001b[0m in \u001b[0;36m__init__\u001b[0;34m(self, markup, features, builder, parse_only, from_encoding, **kwargs)\u001b[0m\n\u001b[1;32m    164\u001b[0m \u001b[0;34m\u001b[0m\u001b[0m\n\u001b[1;32m    165\u001b[0m         \u001b[0;32mif\u001b[0m \u001b[0mhasattr\u001b[0m\u001b[0;34m(\u001b[0m\u001b[0mmarkup\u001b[0m\u001b[0;34m,\u001b[0m \u001b[0;34m'read'\u001b[0m\u001b[0;34m)\u001b[0m\u001b[0;34m:\u001b[0m        \u001b[0;31m# It's a file-type object.\u001b[0m\u001b[0;34m\u001b[0m\u001b[0m\n\u001b[0;32m--> 166\u001b[0;31m             \u001b[0mmarkup\u001b[0m \u001b[0;34m=\u001b[0m \u001b[0mmarkup\u001b[0m\u001b[0;34m.\u001b[0m\u001b[0mread\u001b[0m\u001b[0;34m(\u001b[0m\u001b[0;34m)\u001b[0m\u001b[0;34m\u001b[0m\u001b[0m\n\u001b[0m\u001b[1;32m    167\u001b[0m         (self.markup, self.original_encoding, self.declared_html_encoding,\n\u001b[1;32m    168\u001b[0m          \u001b[0mself\u001b[0m\u001b[0;34m.\u001b[0m\u001b[0mcontains_replacement_characters\u001b[0m\u001b[0;34m)\u001b[0m \u001b[0;34m=\u001b[0m \u001b[0;34m(\u001b[0m\u001b[0;34m\u001b[0m\u001b[0m\n",
        "\u001b[0;32m/usr/lib/python2.7/socket.pyc\u001b[0m in \u001b[0;36mread\u001b[0;34m(self, size)\u001b[0m\n\u001b[1;32m    349\u001b[0m             \u001b[0;32mwhile\u001b[0m \u001b[0mTrue\u001b[0m\u001b[0;34m:\u001b[0m\u001b[0;34m\u001b[0m\u001b[0m\n\u001b[1;32m    350\u001b[0m                 \u001b[0;32mtry\u001b[0m\u001b[0;34m:\u001b[0m\u001b[0;34m\u001b[0m\u001b[0m\n\u001b[0;32m--> 351\u001b[0;31m                     \u001b[0mdata\u001b[0m \u001b[0;34m=\u001b[0m \u001b[0mself\u001b[0m\u001b[0;34m.\u001b[0m\u001b[0m_sock\u001b[0m\u001b[0;34m.\u001b[0m\u001b[0mrecv\u001b[0m\u001b[0;34m(\u001b[0m\u001b[0mrbufsize\u001b[0m\u001b[0;34m)\u001b[0m\u001b[0;34m\u001b[0m\u001b[0m\n\u001b[0m\u001b[1;32m    352\u001b[0m                 \u001b[0;32mexcept\u001b[0m \u001b[0merror\u001b[0m\u001b[0;34m,\u001b[0m \u001b[0me\u001b[0m\u001b[0;34m:\u001b[0m\u001b[0;34m\u001b[0m\u001b[0m\n\u001b[1;32m    353\u001b[0m                     \u001b[0;32mif\u001b[0m \u001b[0me\u001b[0m\u001b[0;34m.\u001b[0m\u001b[0margs\u001b[0m\u001b[0;34m[\u001b[0m\u001b[0;36m0\u001b[0m\u001b[0;34m]\u001b[0m \u001b[0;34m==\u001b[0m \u001b[0mEINTR\u001b[0m\u001b[0;34m:\u001b[0m\u001b[0;34m\u001b[0m\u001b[0m\n",
        "\u001b[0;32m/usr/lib/python2.7/ssl.pyc\u001b[0m in \u001b[0;36mrecv\u001b[0;34m(self, buflen, flags)\u001b[0m\n\u001b[1;32m    339\u001b[0m                     \u001b[0;34m\"non-zero flags not allowed in calls to recv() on %s\"\u001b[0m \u001b[0;34m%\u001b[0m\u001b[0;34m\u001b[0m\u001b[0m\n\u001b[1;32m    340\u001b[0m                     self.__class__)\n\u001b[0;32m--> 341\u001b[0;31m             \u001b[0;32mreturn\u001b[0m \u001b[0mself\u001b[0m\u001b[0;34m.\u001b[0m\u001b[0mread\u001b[0m\u001b[0;34m(\u001b[0m\u001b[0mbuflen\u001b[0m\u001b[0;34m)\u001b[0m\u001b[0;34m\u001b[0m\u001b[0m\n\u001b[0m\u001b[1;32m    342\u001b[0m         \u001b[0;32melse\u001b[0m\u001b[0;34m:\u001b[0m\u001b[0;34m\u001b[0m\u001b[0m\n\u001b[1;32m    343\u001b[0m             \u001b[0;32mreturn\u001b[0m \u001b[0mself\u001b[0m\u001b[0;34m.\u001b[0m\u001b[0m_sock\u001b[0m\u001b[0;34m.\u001b[0m\u001b[0mrecv\u001b[0m\u001b[0;34m(\u001b[0m\u001b[0mbuflen\u001b[0m\u001b[0;34m,\u001b[0m \u001b[0mflags\u001b[0m\u001b[0;34m)\u001b[0m\u001b[0;34m\u001b[0m\u001b[0m\n",
        "\u001b[0;32m/usr/lib/python2.7/ssl.pyc\u001b[0m in \u001b[0;36mread\u001b[0;34m(self, len)\u001b[0m\n\u001b[1;32m    258\u001b[0m \u001b[0;34m\u001b[0m\u001b[0m\n\u001b[1;32m    259\u001b[0m         \u001b[0;32mtry\u001b[0m\u001b[0;34m:\u001b[0m\u001b[0;34m\u001b[0m\u001b[0m\n\u001b[0;32m--> 260\u001b[0;31m             \u001b[0;32mreturn\u001b[0m \u001b[0mself\u001b[0m\u001b[0;34m.\u001b[0m\u001b[0m_sslobj\u001b[0m\u001b[0;34m.\u001b[0m\u001b[0mread\u001b[0m\u001b[0;34m(\u001b[0m\u001b[0mlen\u001b[0m\u001b[0;34m)\u001b[0m\u001b[0;34m\u001b[0m\u001b[0m\n\u001b[0m\u001b[1;32m    261\u001b[0m         \u001b[0;32mexcept\u001b[0m \u001b[0mSSLError\u001b[0m\u001b[0;34m,\u001b[0m \u001b[0mx\u001b[0m\u001b[0;34m:\u001b[0m\u001b[0;34m\u001b[0m\u001b[0m\n\u001b[1;32m    262\u001b[0m             \u001b[0;32mif\u001b[0m \u001b[0mx\u001b[0m\u001b[0;34m.\u001b[0m\u001b[0margs\u001b[0m\u001b[0;34m[\u001b[0m\u001b[0;36m0\u001b[0m\u001b[0;34m]\u001b[0m \u001b[0;34m==\u001b[0m \u001b[0mSSL_ERROR_EOF\u001b[0m \u001b[0;32mand\u001b[0m \u001b[0mself\u001b[0m\u001b[0;34m.\u001b[0m\u001b[0msuppress_ragged_eofs\u001b[0m\u001b[0;34m:\u001b[0m\u001b[0;34m\u001b[0m\u001b[0m\n",
        "\u001b[0;31mKeyboardInterrupt\u001b[0m: "
       ]
      },
      {
       "output_type": "stream",
       "stream": "stdout",
       "text": [
        "starting\n",
        "graded_files_updated/featured_articles.txt\n"
       ]
      }
     ],
     "prompt_number": 12
    },
    {
     "cell_type": "code",
     "collapsed": false,
     "input": [
      "len(names)"
     ],
     "language": "python",
     "metadata": {},
     "outputs": [
      {
       "metadata": {},
       "output_type": "pyout",
       "prompt_number": 10,
       "text": [
        "722"
       ]
      }
     ],
     "prompt_number": 10
    },
    {
     "cell_type": "code",
     "collapsed": false,
     "input": [
      "len(quality)"
     ],
     "language": "python",
     "metadata": {},
     "outputs": [
      {
       "metadata": {},
       "output_type": "pyout",
       "prompt_number": 24,
       "text": [
        "664085"
       ]
      }
     ],
     "prompt_number": 24
    },
    {
     "cell_type": "code",
     "collapsed": false,
     "input": [
      "names"
     ],
     "language": "python",
     "metadata": {},
     "outputs": [
      {
       "metadata": {},
       "output_type": "pyout",
       "prompt_number": 25,
       "text": [
        "['1984 Rajneeshee bioterror attack',\n",
        " 'Michael Tritter',\n",
        " 'Augustinian theodicy',\n",
        " 'Murder of Julia Martha Thomas',\n",
        " 'Siege of Godesberg',\n",
        " \"Summer of '42\",\n",
        " 'Great North of Scotland Railway',\n",
        " 'Red Barn Murder',\n",
        " 'Emmy Noether',\n",
        " 'Du Fu',\n",
        " 'Minnie Pwerle',\n",
        " 'City of Manchester Stadium',\n",
        " 'Lawrence Sullivan Ross',\n",
        " 'Toronto Raptors',\n",
        " 'Martin Brodeur',\n",
        " 'Rivadavia-class battleship',\n",
        " 'Jonathan Strange & Mr Norrell',\n",
        " 'Radiohead',\n",
        " 'Sale, Greater Manchester',\n",
        " 'William Hayden English',\n",
        " 'Blue whale',\n",
        " 'Bob Windle',\n",
        " 'Adrian Cole (RAAF officer)',\n",
        " 'Frank Pick',\n",
        " 'Order of the Garter',\n",
        " 'Manchester Bolton & Bury Canal',\n",
        " 'Persuasion (1995 film)',\n",
        " 'Lycoperdon perlatum',\n",
        " 'Grand Teton National Park',\n",
        " 'Black currawong',\n",
        " 'William Shakespeare',\n",
        " 'Covent Garden',\n",
        " 'Toa Payoh ritual murders',\n",
        " 'Kolkata',\n",
        " 'Len Hutton',\n",
        " 'Ace Books',\n",
        " 'Economy of the Han dynasty',\n",
        " 'Dresden Triptych',\n",
        " 'Babakotia',\n",
        " 'Alpine chough',\n",
        " 'Japanese aircraft carrier Kaga',\n",
        " 'California State Route 56',\n",
        " 'Doolittle (album)',\n",
        " 'Sholes and Glidden typewriter',\n",
        " 'Maurice Ravel',\n",
        " 'Andr\\xc3\\xa9 Kert\\xc3\\xa9sz',\n",
        " '4chan',\n",
        " 'Analytical Review',\n",
        " 'Phil Hartman',\n",
        " \"Halley's Comet\",\n",
        " 'North Carolina-class battleship',\n",
        " 'Interstate 355',\n",
        " 'Coeliac disease',\n",
        " 'Ian Fleming',\n",
        " 'Piano music of Gabriel Faur\\xc3\\xa9',\n",
        " 'William Bostock',\n",
        " 'Gateshead International Stadium',\n",
        " 'Minneapolis',\n",
        " 'Talyllyn Railway',\n",
        " 'Final Fantasy IX',\n",
        " 'AMX-30',\n",
        " 'Pigeon photography',\n",
        " 'University of California, Riverside',\n",
        " 'Doug Ring with the Australian cricket team in England in 1948',\n",
        " 'Seattle',\n",
        " 'Elias Ashmole',\n",
        " 'Dudley Clarke',\n",
        " 'No. 1 Flying Training School RAAF',\n",
        " 'Holkham National Nature Reserve',\n",
        " 'Audioslave',\n",
        " 'Hurricane Edith (1971)',\n",
        " 'MissingNo.',\n",
        " 'Dhaka',\n",
        " 'Indiana-class battleship',\n",
        " 'Poetry of Maya Angelou',\n",
        " 'Horatio Bottomley',\n",
        " 'Sam Loxton',\n",
        " 'History of Poland (1945\\xe2\\x80\\x9389)',\n",
        " 'Chadderton',\n",
        " 'Geastrum quadrifidum',\n",
        " 'Banksia menziesii',\n",
        " 'Grim Fandango',\n",
        " 'Quainton Road railway station',\n",
        " 'HMS Indefatigable (R10)',\n",
        " '1877 Wimbledon Championship',\n",
        " 'John Sherman Cooper',\n",
        " 'Chagas disease',\n",
        " 'Little Butte Creek',\n",
        " 'Battle of Lissa (1811)',\n",
        " 'Anton Chekhov',\n",
        " 'Cologne War',\n",
        " 'Tom Derrick',\n",
        " 'Virginia',\n",
        " 'Sonic: After the Sequel',\n",
        " 'Walter de Coutances',\n",
        " 'Roberto Luongo',\n",
        " 'Cretan War (205\\xe2\\x80\\x93200 BC)',\n",
        " 'Prince William, Duke of Gloucester',\n",
        " \"Stephen Colbert at the 2006 White House Correspondents' Association Dinner\",\n",
        " 'William Longchamp',\n",
        " 'Paranoid Android',\n",
        " 'John Diefenbaker',\n",
        " 'Good Girl Gone Bad: Reloaded',\n",
        " 'Tjioeng Wanara',\n",
        " 'Werner M\\xc3\\xb6lders',\n",
        " 'Brian Eaton',\n",
        " 'Trump International Hotel and Tower (Chicago)',\n",
        " 'Brabham BT19',\n",
        " 'Macaroni penguin',\n",
        " 'City of Blinding Lights',\n",
        " 'Castlevania: Dawn of Sorrow',\n",
        " 'Overman Committee',\n",
        " 'Flag of Lithuania',\n",
        " 'Renewable energy in Scotland',\n",
        " 'Interstate 196',\n",
        " 'Nutrition Assistance for Puerto Rico',\n",
        " \"Amundsen's South Pole expedition\",\n",
        " 'Richard Cantillon',\n",
        " 'Operation Uranus',\n",
        " '24th Waffen Mountain Division of the SS Karstj\\xc3\\xa4ger',\n",
        " 'The Boat Race 2003',\n",
        " 'Golden Sun',\n",
        " 'European Parliament',\n",
        " 'Shuttle\\xe2\\x80\\x93Mir Program',\n",
        " 'Katsud\\xc5\\x8d Shashin',\n",
        " 'Banksia canei',\n",
        " 'Tornado',\n",
        " 'Flight Unlimited III',\n",
        " 'Retreat of glaciers since 1850',\n",
        " 'Scattered disc',\n",
        " 'Hurricane Lane (2006)',\n",
        " 'Fanny Bullock Workman',\n",
        " 'George Washington (inventor)',\n",
        " 'Entoloma sinuatum',\n",
        " 'Puerto Rican amazon',\n",
        " 'Thierry Henry',\n",
        " 'Suillellus luridus',\n",
        " 'Belton House',\n",
        " 'William Speirs Bruce',\n",
        " 'Ashton-under-Lyne',\n",
        " 'Children of Mana',\n",
        " 'Secret of Mana',\n",
        " 'Manchester',\n",
        " 'The Negro Motorist Green Book',\n",
        " 'Battle of Rennell Island',\n",
        " 'Guadalcanal Campaign',\n",
        " 'Common tern',\n",
        " 'Vidya Balan',\n",
        " 'Final Fantasy VI',\n",
        " 'Peter Evans (swimmer)',\n",
        " 'SS Minnesotan',\n",
        " 'Somerset County Cricket Club in 2009',\n",
        " 'The Covent-Garden Journal',\n",
        " 'Mot\\xc3\\xb6rhead',\n",
        " 'Barack Obama',\n",
        " 'Faith Leech',\n",
        " 'Captain Scarlet and the Mysterons',\n",
        " 'Sasha (DJ)',\n",
        " 'Flywheel, Shyster, and Flywheel',\n",
        " 'Operation Goodwood (naval)',\n",
        " 'William Robinson Brown',\n",
        " 'Microsoft Security Essentials',\n",
        " 'Vampire',\n",
        " 'Dick Turpin',\n",
        " 'Santa Mar\\xc3\\xada de \\xc3\\x93vila',\n",
        " 'Joy Division',\n",
        " 'Lynching of Jesse Washington',\n",
        " 'Charlie Chaplin',\n",
        " 'John Edward Brownlee sex scandal',\n",
        " '2013 Atlantic hurricane season',\n",
        " 'Chetco River',\n",
        " 'Japanese battleship Musashi',\n",
        " 'Oceanic whitetip shark',\n",
        " 'Archie Jackson',\n",
        " 'Kwinana Freeway',\n",
        " 'Priestfield Stadium',\n",
        " 'Here We Go Again (Ray Charles song)',\n",
        " 'Climate of Minnesota',\n",
        " 'Red River Trails',\n",
        " 'Tower of London',\n",
        " 'Cynna Kydd',\n",
        " 'Kuiper belt',\n",
        " 'Thomasomys ucucha',\n",
        " 'Pendle witches',\n",
        " 'Fairy tale',\n",
        " 'Albert Stanley, 1st Baron Ashfield',\n",
        " 'Sid Barnes with the Australian cricket team in England in 1948',\n",
        " 'Ghosts I\\xe2\\x80\\x93IV',\n",
        " 'Interstate 15 in Arizona',\n",
        " \"L'incoronazione di Poppea\",\n",
        " 'God of War: Chains of Olympus',\n",
        " 'Ryan White',\n",
        " 'European Commission',\n",
        " 'Truthiness',\n",
        " 'Laevistrombus canarium',\n",
        " 'Oryzomys antillarum',\n",
        " '1924 Rose Bowl',\n",
        " 'William Cooley',\n",
        " 'The Great American Bash (2005)',\n",
        " 'Ben Gascoigne',\n",
        " 'HMS Tiger (1913)',\n",
        " 'Adore (The Smashing Pumpkins album)',\n",
        " 'John Churchill, 1st Duke of Marlborough',\n",
        " 'Extratropical cyclone',\n",
        " 'Mary Martha Sherwood',\n",
        " 'Laura Secord',\n",
        " 'Everything Tastes Better with Bacon',\n",
        " 'Eurasian nuthatch',\n",
        " 'John de Gray',\n",
        " 'Derek Jeter',\n",
        " 'Southern Cross (wordless novel)',\n",
        " 'Section 116 of the Constitution of Australia',\n",
        " '1968 Thule Air Base B-52 crash',\n",
        " 'William D. Boyce',\n",
        " 'Jacques Plante',\n",
        " 'George Lansbury',\n",
        " 'Luton Town F.C.',\n",
        " 'Fin whale',\n",
        " 'Neil Brooks',\n",
        " 'Slate industry in Wales',\n",
        " 'Hurricane Erika (1997)',\n",
        " 'Leonard Harrison State Park',\n",
        " 'Margaret Fuller',\n",
        " 'Rolls-Royce R',\n",
        " 'William de St-Calais',\n",
        " 'Han dynasty',\n",
        " \"S. A. Andr\\xc3\\xa9e's Arctic Balloon Expedition of 1897\",\n",
        " 'The Real Adventures of Jonny Quest',\n",
        " 'Judah P. Benjamin',\n",
        " 'Manuel Marques de Sousa, Count of Porto Alegre',\n",
        " 'The Battle of Alexander at Issus',\n",
        " 'Battle of Moscow',\n",
        " 'Indian Head eagle',\n",
        " 'Pope Paul III and His Grandsons',\n",
        " \"Catherine de' Medici's building projects\",\n",
        " 'Final Fantasy XII',\n",
        " 'Adam Gilchrist',\n",
        " 'Prince Louis of Battenberg',\n",
        " 'Camille Saint-Sa\\xc3\\xabns',\n",
        " 'Free Association of German Trade Unions',\n",
        " 'Eye (cyclone)',\n",
        " 'Oregon State Capitol',\n",
        " 'Wordless novel',\n",
        " 'Amazing Stories',\n",
        " 'John Tyler',\n",
        " 'Blackwater fire of 1937',\n",
        " 'Eardwulf of Northumbria',\n",
        " 'Art Houtteman',\n",
        " 'Henry Wood',\n",
        " 'Akodon spegazzinii',\n",
        " \"Postman's Park\",\n",
        " 'The City of New York vs. Homer Simpson',\n",
        " 'Guy Fawkes Night',\n",
        " 'Maya (M.I.A. album)',\n",
        " 'Weymouth, Dorset',\n",
        " 'Yellowstone National Park',\n",
        " 'Midtown Madness',\n",
        " 'Mercury (planet)',\n",
        " 'Fus\\xc5\\x8d-class battleship',\n",
        " 'Capon Chapel',\n",
        " \"Uncle Tom's Cabin\",\n",
        " 'Constitution of Belarus',\n",
        " 'Hurricane Lenny',\n",
        " \"The Author's Farce\",\n",
        " 'Brownsea Island Scout camp',\n",
        " 'Cley Marshes',\n",
        " 'Three-dollar piece',\n",
        " 'Ian Dougald McLachlan',\n",
        " 'History of the National Hockey League (1917\\xe2\\x80\\x9342)',\n",
        " 'Hurricane Fabian',\n",
        " 'Bob Feller',\n",
        " 'RAF Uxbridge',\n",
        " 'Canberra',\n",
        " 'The Fox and the Hound (novel)',\n",
        " 'HMS Hermes (95)',\n",
        " 'Crackdown',\n",
        " 'Edgar Allan Poe',\n",
        " 'HMS Warrior (1860)',\n",
        " 'Edgar Speyer',\n",
        " 'Princess Maria Am\\xc3\\xa9lia of Brazil',\n",
        " 'SMS Westfalen',\n",
        " 'Cretaceous\\xe2\\x80\\x93Paleogene extinction event',\n",
        " 'Pipistrellus raceyi',\n",
        " 'Kenneth R. Shadrick',\n",
        " 'Aliso Creek (Orange County)',\n",
        " 'Tropical cyclone',\n",
        " 'Evelyn Waugh',\n",
        " \"William O'Connell Bradley\",\n",
        " 'CSI effect',\n",
        " 'Killer7',\n",
        " 'NeXT',\n",
        " 'Cloud (video game)',\n",
        " 'Sons of Soul',\n",
        " 'Mary of Teck',\n",
        " 'Allosaurus',\n",
        " 'Galaxy Science Fiction',\n",
        " 'Deinonychus',\n",
        " 'Pah Wongso Pendekar Boediman',\n",
        " 'Harold Larwood',\n",
        " 'Thomas Percy (Gunpowder Plot)',\n",
        " 'Under the Bridge',\n",
        " 'Krulak Mendenhall mission',\n",
        " 'SMS Bl\\xc3\\xbccher',\n",
        " '2006 Pacific hurricane season',\n",
        " 'Spanish conquest of Guatemala',\n",
        " 'Quehanna Wild Area',\n",
        " 'How Brown Saw the Baseball Game',\n",
        " 'Edward VI of England',\n",
        " 'The Elder Scrolls IV: Oblivion',\n",
        " 'Capture of Fort Ticonderoga',\n",
        " 'James Nesbitt',\n",
        " 'Age of Empires',\n",
        " 'Mucho Macho Man',\n",
        " 'Alboin',\n",
        " \"The Legend of Zelda: Link's Awakening\",\n",
        " 'Nafaanra',\n",
        " 'Surfer Rosa',\n",
        " 'Hurricane Rick (2009)',\n",
        " \"McDonald's Cycle Center\",\n",
        " 'Armament of the Iowa-class battleship',\n",
        " 'SMS Hindenburg',\n",
        " 'Genetics',\n",
        " 'Cincinnati, Lebanon and Northern Railway',\n",
        " 'Ambrose Rookwood',\n",
        " 'Cherry Springs State Park',\n",
        " 'The Joy of Sect',\n",
        " 'If (magazine)',\n",
        " 'MTR',\n",
        " 'Warlugulong',\n",
        " 'Perseus (constellation)',\n",
        " 'Retiarius',\n",
        " 'Wilco',\n",
        " 'Norton Priory',\n",
        " 'William Hanna',\n",
        " 'German battleship Tirpitz',\n",
        " \"Nansen's Fram expedition\",\n",
        " 'Coprinellus micaceus',\n",
        " 'Thoroughbred',\n",
        " 'John Le Mesurier',\n",
        " 'Eadbald of Kent',\n",
        " 'Third Test, 1948 Ashes series',\n",
        " 'Mulholland Drive (film)',\n",
        " 'Transformers (film)',\n",
        " 'Ross Sea party 1914\\xe2\\x80\\x9316',\n",
        " 'Norman Birkett, 1st Baron Birkett',\n",
        " 'Tichborne case',\n",
        " 'Throffer',\n",
        " 'Batman: Arkham City',\n",
        " '1950 Atlantic hurricane season',\n",
        " 'Leopard 2E',\n",
        " 'Huia',\n",
        " 'Trade dollar (United States coin)',\n",
        " 'Horse Protection Act of 1970',\n",
        " 'Glorious First of June',\n",
        " 'Portman Road',\n",
        " 'United States Sesquicentennial coinage',\n",
        " 'Scene7',\n",
        " 'Sinking of the RMS Titanic',\n",
        " 'Charles Eaton (RAAF officer)',\n",
        " '2005 Qeshm earthquake',\n",
        " 'Dreadnought',\n",
        " 'George Macaulay',\n",
        " 'Conte di Cavour-class battleship',\n",
        " 'William Barley',\n",
        " 'Statue of Liberty',\n",
        " 'Space Invaders',\n",
        " 'Pioneer Zephyr',\n",
        " 'Edward III of England',\n",
        " 'Major depressive disorder',\n",
        " 'Star Trek: First Contact',\n",
        " 'Archimedes',\n",
        " 'Sky Blue Sky',\n",
        " 'Mourning dove',\n",
        " 'Uncle David',\n",
        " 'Cyclone Waka',\n",
        " 'George Formby Snr',\n",
        " 'John Barbirolli',\n",
        " 'History of the Montreal Canadiens',\n",
        " 'Skye',\n",
        " \"Tony Hawk's Underground\",\n",
        " 'Madagascar',\n",
        " 'Auriscalpium vulgare',\n",
        " 'National Anthem of Russia',\n",
        " 'Eus\\xc3\\xa8be Jaojoby',\n",
        " 'Garret Hobart',\n",
        " 'White Deer Hole Creek',\n",
        " 'Rhys ap Gruffydd',\n",
        " 'Falstaff (opera)',\n",
        " 'The Heart of a Woman',\n",
        " 'Battle of Arawe',\n",
        " 'Anne, Queen of Great Britain',\n",
        " 'Flight Unlimited',\n",
        " 'Monroe Doctrine Centennial half dollar',\n",
        " 'Hurricane Kiko (1989)',\n",
        " 'Manchester City F.C.',\n",
        " 'Oort cloud',\n",
        " 'John Martin Scripps',\n",
        " 'Arena (countermeasure)',\n",
        " 'Ronald Reagan',\n",
        " 'Elagabalus',\n",
        " 'Knowle West',\n",
        " 'Dungeons & Dragons (album)',\n",
        " 'Gilwell Park',\n",
        " 'Stonewall riots',\n",
        " 'Washington, D.C.',\n",
        " 'Suillus brevipes',\n",
        " 'Harold Pinter',\n",
        " 'James B. Longacre',\n",
        " 'Norman Cob',\n",
        " 'Hamlet',\n",
        " 'SMS Kaiser (1911)',\n",
        " 'RKO Pictures',\n",
        " 'Treehouse of Horror (series)',\n",
        " 'Cosima Wagner',\n",
        " 'Francis Marrash',\n",
        " 'SR Leader class',\n",
        " 'Halo: Contact Harvest',\n",
        " 'Meteorological history of Hurricane Dean',\n",
        " 'Order of the Thistle',\n",
        " 'Jabba the Hutt',\n",
        " 'Lie Kim Hok',\n",
        " 'Tim Duncan',\n",
        " 'Alexander Cameron Rutherford',\n",
        " 'Macintosh Classic',\n",
        " 'Kreutz Sungrazers',\n",
        " 'Oryzomys gorgasi',\n",
        " 'Common house martin',\n",
        " 'Mutual Broadcasting System',\n",
        " 'Plesiorycteropus',\n",
        " 'George III of the United Kingdom',\n",
        " 'Posting system',\n",
        " 'Franco-Mongol alliance',\n",
        " 'Battle of the Nile',\n",
        " \"Blockhaus d'\\xc3\\x89perlecques\",\n",
        " 'Salanoia durrelli',\n",
        " 'Robert Peake the Elder',\n",
        " 'Science and technology of the Song dynasty',\n",
        " 'William Cragh',\n",
        " 'SMS Erzherzog Franz Ferdinand',\n",
        " 'Candide',\n",
        " 'USS Siboney (ID-2999)',\n",
        " 'Ontario Highway 71',\n",
        " 'Hurricane Carol',\n",
        " 'Chalciporus piperatus',\n",
        " 'Ross Perot presidential campaign, 1992',\n",
        " 'Iravan',\n",
        " 'SMS Kurf\\xc3\\xbcrst Friedrich Wilhelm',\n",
        " '1998 FA Charity Shield',\n",
        " 'Ronald Stuart',\n",
        " 'Trafford Park',\n",
        " 'Tropical Storm Alberto (2006)',\n",
        " 'Wail al-Shehri',\n",
        " 'Premier League',\n",
        " 'King vulture',\n",
        " 'Thomas Baker (aviator)',\n",
        " 'Aldwych tube station',\n",
        " 'Jack Crawford (cricketer)',\n",
        " 'Star Wars: Rogue Squadron',\n",
        " 'Cosmo Gordon Lang',\n",
        " 'Terms of Endearment (The X-Files)',\n",
        " 'Famous Fantastic Mysteries',\n",
        " 'Amazing Grace',\n",
        " 'SummerSlam (2003)',\n",
        " '7 World Trade Center',\n",
        " 'Banksia dentata',\n",
        " 'Sonestown Covered Bridge',\n",
        " 'Home (The X-Files)',\n",
        " 'Georgetown University',\n",
        " 'Forest Park (Portland, Oregon)',\n",
        " 'Cyclone Rewa',\n",
        " 'The Mummy (1999 film)',\n",
        " \"Zimbabwe women's national field hockey team at the 1980 Summer Olympics\",\n",
        " 'P. G. Wodehouse',\n",
        " 'Amanita ocreata',\n",
        " 'U.S. Route 40 Alternate (Keysers Ridge\\xe2\\x80\\x93Cumberland, Maryland)',\n",
        " 'Nancy Reagan',\n",
        " 'William Wilberforce',\n",
        " 'Eric A. Havelock',\n",
        " 'Battle of the Alamo',\n",
        " 'Flower (video game)',\n",
        " 'McDonnell XF-85 Goblin',\n",
        " 'Edward Wright (mathematician)',\n",
        " 'Juwan Howard',\n",
        " 'Smallville (season 1)',\n",
        " 'Ancient Egypt',\n",
        " 'Almirante Latorre-class battleship',\n",
        " 'Roger Norreis',\n",
        " 'Jarrow March',\n",
        " 'Pavle \\xc4\\x90uri\\xc5\\xa1i\\xc4\\x87',\n",
        " 'Is This It',\n",
        " 'Western Chalukya literature in Kannada',\n",
        " '2005 Texas Longhorns football team',\n",
        " 'Nathu La',\n",
        " 'William McGregor (football)',\n",
        " 'Monte Ne',\n",
        " 'Redwood National and State Parks',\n",
        " 'Simon Bolivar Buckner',\n",
        " 'Battle of Ticonderoga (1759)',\n",
        " 'Clathrus ruber',\n",
        " 'Western Chalukya architecture',\n",
        " 'The Whistleblower',\n",
        " 'Sack of Amorium',\n",
        " 'Caelum',\n",
        " 'Reception history of Jane Austen',\n",
        " 'Tumbler Ridge',\n",
        " 'Alleyway',\n",
        " 'Alloxylon flammeum',\n",
        " 'Three Studies for Figures at the Base of a Crucifixion',\n",
        " 'Irish Thoroughbred',\n",
        " 'Odyssey Number Five',\n",
        " 'Batman: Arkham Asylum',\n",
        " 'A. E. J. Collins',\n",
        " 'Californium',\n",
        " 'Sawtooth National Forest',\n",
        " 'Enter the Wu-Tang (36 Chambers)',\n",
        " 'Western jackdaw',\n",
        " 'Francis Walsingham',\n",
        " 'Diffuse panbronchiolitis',\n",
        " 'Nyon Conference',\n",
        " 'Variegated fairywren',\n",
        " 'Superb fairywren',\n",
        " 'HMS Illustrious (87)',\n",
        " 'Humpback whale',\n",
        " 'Chandralekha (1948 film)',\n",
        " 'Ununoctium',\n",
        " 'The Post-Modern Prometheus',\n",
        " 'Lethbridge',\n",
        " 'Admiralty Islands campaign',\n",
        " 'Elwood Haynes',\n",
        " 'Snoring rail',\n",
        " 'Tyrone Wheatley',\n",
        " 'Empress Matilda',\n",
        " 'Maryland Route 36',\n",
        " 'Isaac Brock',\n",
        " 'Oxidative phosphorylation',\n",
        " 'George V',\n",
        " 'Tiny Thompson',\n",
        " 'Waisale Serevi',\n",
        " 'Sacrifice (video game)',\n",
        " '2005 United States Grand Prix',\n",
        " 'National Football League Players Association',\n",
        " '2002 Atlantic hurricane season',\n",
        " 'Astatine',\n",
        " 'Abuwtiyuw',\n",
        " 'Andjar Asmara',\n",
        " 'Jovan Vladimir',\n",
        " 'Planet Stories',\n",
        " 'Bog turtle',\n",
        " 'Exmoor',\n",
        " 'Medieval cuisine',\n",
        " 'Jaguar',\n",
        " \"Pontiac's War\",\n",
        " 'Bob Dylan',\n",
        " 'Battle of The Cedars',\n",
        " 'Keratoconus',\n",
        " 'Pride and Prejudice (1995 TV series)',\n",
        " 'Cross of Gold speech',\n",
        " 'Like a Rolling Stone',\n",
        " 'Ostend Manifesto',\n",
        " 'Camas pocket gopher',\n",
        " 'Press Gang',\n",
        " 'Australian raven',\n",
        " 'Introduction to viruses',\n",
        " 'Bivalvia',\n",
        " 'The Bus Uncle',\n",
        " 'Portrait of Monsieur Bertin',\n",
        " 'Bezhin Meadow',\n",
        " 'Silent Alarm',\n",
        " 'The Royal Opera',\n",
        " '2007 Atlantic hurricane season',\n",
        " 'Afonso, Prince Imperial of Brazil',\n",
        " 'Hey Baby (No Doubt song)',\n",
        " 'Manchester Ship Canal',\n",
        " 'Dorset',\n",
        " 'Sound film',\n",
        " '509th Composite Group',\n",
        " 'The Simpsons Game',\n",
        " 'We Can Do It!',\n",
        " 'Delrina',\n",
        " 'Hurricane Hazel',\n",
        " 'John L. Helm',\n",
        " 'Jay Pritzker Pavilion',\n",
        " 'Last voyage of the Karluk',\n",
        " 'FC Barcelona',\n",
        " 'Sarcoscypha coccinea',\n",
        " '1964 Brinks Hotel bombing',\n",
        " 'Manitoba',\n",
        " 'John Knox',\n",
        " '2005 ACC Championship Game',\n",
        " 'Preity Zinta',\n",
        " 'Nahuatl',\n",
        " 'Thurisind',\n",
        " 'Brad Pitt',\n",
        " 'Poliomyelitis',\n",
        " 'History of Minnesota',\n",
        " 'Holden Commodore (VE)',\n",
        " 'Chat Moss',\n",
        " 'Reginald Heber',\n",
        " \"D\\xc3\\xbcrer's Rhinoceros\",\n",
        " 'Marie Lloyd',\n",
        " 'Miss Meyers',\n",
        " 'Emily Dickinson',\n",
        " 'Mass Rapid Transit (Singapore)',\n",
        " 'Bobcat',\n",
        " 'Dobroslav Jev\\xc4\\x91evi\\xc4\\x87',\n",
        " 'Hoodwinked!',\n",
        " 'Gymnopilus maritimus',\n",
        " 'Al-Kateb v Godwin',\n",
        " 'Comet Hyakutake',\n",
        " 'Miranda Otto',\n",
        " 'Geography of Ireland',\n",
        " 'Aries (constellation)',\n",
        " 'Banksia cuneata',\n",
        " 'William S. Sadler',\n",
        " 'Battle of \\xc3\\x96land',\n",
        " 'Thopha saccata',\n",
        " 'Diorama (Silverchair album)',\n",
        " 'Mesopropithecus',\n",
        " 'Nickel (United States coin)',\n",
        " 'Loveless (album)',\n",
        " 'Battle of Lipantitl\\xc3\\xa1n',\n",
        " 'Geastrum triplex',\n",
        " 'City of Angels (Thirty Seconds to Mars song)',\n",
        " 'Styracosaurus',\n",
        " 'Madman Muntz',\n",
        " 'Ferugliotherium',\n",
        " 'Final Fantasy: The Spirits Within',\n",
        " 'Meteorological history of Hurricane Gordon (1994)',\n",
        " 'Rings of Uranus',\n",
        " 'Underground Electric Railways Company of London',\n",
        " 'Gertie the Dinosaur',\n",
        " 'Utah State Route 128',\n",
        " 'Making Waves (TV series)',\n",
        " 'Frog',\n",
        " 'Nostradamus',\n",
        " 'Emma Goldman',\n",
        " 'Olmec colossal heads',\n",
        " 'Victoria Cross for New Zealand',\n",
        " 'The Rite of Spring',\n",
        " 'James Bowie',\n",
        " 'Saxbe fix',\n",
        " 'No Rest for the Wicked (Supernatural)',\n",
        " 'Music of the United States',\n",
        " 'Emperor penguin',\n",
        " 'Hurricane Eloise',\n",
        " 'Europa (moon)',\n",
        " 'CFM International CFM56',\n",
        " 'Anglo-Zanzibar War',\n",
        " 'Michael Jordan',\n",
        " 'Adam Eckfeldt',\n",
        " 'George Robey',\n",
        " 'Parks and Recreation (season 1)',\n",
        " 'Psilocybe semilanceata',\n",
        " 'USS Constitution',\n",
        " 'The Raft of the Medusa',\n",
        " 'Aaron Sorkin',\n",
        " 'Ahalya',\n",
        " 'John Y. Brown (politician, born 1835)',\n",
        " 'Political history of medieval Karnataka',\n",
        " 'Falaise pocket',\n",
        " 'L\\xc5\\x8d\\xca\\xbbihi Seamount',\n",
        " 'Big Butte Creek',\n",
        " 'Neilston',\n",
        " 'Lynn Hill',\n",
        " 'SM U-66',\n",
        " 'SMS Kaiser Wilhelm II',\n",
        " 'Pather Panchali',\n",
        " 'Toothcomb',\n",
        " 'USS New Ironsides',\n",
        " 'Voting Rights Act of 1965',\n",
        " 'Australian green tree frog',\n",
        " 'Zapata rail',\n",
        " 'African river martin',\n",
        " 'Association football',\n",
        " 'Auriga (constellation)',\n",
        " 'Not One Less',\n",
        " 'William Tecumseh Sherman',\n",
        " 'Ion Heliade R\\xc4\\x83dulescu',\n",
        " 'Drowning Girl',\n",
        " 'John Francis Jackson',\n",
        " 'Pilgrim at Tinker Creek',\n",
        " 'Vithoba',\n",
        " 'Gunpowder Plot',\n",
        " 'Australian Cattle Dog',\n",
        " 'Ernest Emerson',\n",
        " 'Flood (Halo)',\n",
        " 'Yellowstone fires of 1988',\n",
        " 'Indonesia',\n",
        " 'NoitulovE',\n",
        " '2006 Gator Bowl',\n",
        " 'Carl Nielsen',\n",
        " 'Epaminondas',\n",
        " 'Mount Cayley volcanic field',\n",
        " 'Venus',\n",
        " 'Nick Adenhart',\n",
        " 'Homer Simpson',\n",
        " 'William Calcraft',\n",
        " 'Mom & Me & Mom',\n",
        " 'Jack Hobbs',\n",
        " 'Restoration of the Sistine Chapel frescoes',\n",
        " 'Nancy Drew',\n",
        " 'Triton (moon)',\n",
        " 'Problem of religious language',\n",
        " 'Casino Royale (2006 film)',\n",
        " 'Japanese battleship Mutsu',\n",
        " 'Operation Teardrop',\n",
        " 'Xeromphalina setulipes',\n",
        " 'Golding Bird',\n",
        " 'Offa of Mercia',\n",
        " 'Armero tragedy',\n",
        " 'Hurricane Erika (2003)',\n",
        " 'Enrico Fermi',\n",
        " 'First Test, 1948 Ashes series',\n",
        " 'Paul Kagame',\n",
        " 'Hurricane Linda (1997)',\n",
        " 'Defense of the Ancients',\n",
        " 'St Nicholas, Blakeney',\n",
        " 'Stede Bonnet',\n",
        " 'American Arts Commemorative Series medallions',\n",
        " 'Silent Hill 4: The Room',\n",
        " 'Barbara McClintock',\n",
        " 'We Are the World',\n",
        " '2008 Japanese Grand Prix',\n",
        " '2005 Sugar Bowl',\n",
        " 'Sesame Street international co-productions',\n",
        " 'Death of Jimi Hendrix',\n",
        " 'Panic of 1907',\n",
        " 'Nimrod Expedition',\n",
        " 'California State Route 57',\n",
        " 'Demosthenes',\n",
        " 'Richard Nixon',\n",
        " 'Princess Helena of the United Kingdom',\n",
        " 'Blackrock (film)',\n",
        " 'Fuji-class battleship',\n",
        " 'Chrisye',\n",
        " 'New Worlds (magazine)',\n",
        " 'Drakengard',\n",
        " 'Ray Farquharson',\n",
        " 'Anfield',\n",
        " 'Bengali Language Movement',\n",
        " 'Operation Tractable',\n",
        " 'Chad',\n",
        " 'Spyro: Year of the Dragon',\n",
        " 'James Russell Lowell',\n",
        " '23rd Waffen Mountain Division of the SS Kama (2nd Croatian)',\n",
        " 'Joseph W. Tkach',\n",
        " 'Battle of Mount Austen, the Galloping Horse, and the Sea Horse',\n",
        " 'Swedish language',\n",
        " 'Bramall Hall',\n",
        " 'France national rugby union team',\n",
        " 'Pilot (Parks and Recreation)',\n",
        " 'Elliott Smith',\n",
        " 'Fakih Usman',\n",
        " 'Prosperity theology',\n",
        " 'Keith Johnson (cricket administrator)',\n",
        " 'Bob Meusel',\n",
        " 'Periodic table',\n",
        " 'Green children of Woolpit',\n",
        " 'Hannah Primrose, Countess of Rosebery',\n",
        " 'Formation and evolution of the Solar System',\n",
        " '2002 Pacific typhoon season',\n",
        " 'Djaoeh Dimata',\n",
        " 'Uranus',\n",
        " 'Ancient Egyptian literature',\n",
        " 'Walking Liberty half dollar',\n",
        " 'Musca',\n",
        " 'Dookie',\n",
        " 'M-28 (Michigan highway)',\n",
        " 'Mass Effect 2',\n",
        " 'History of Aston Villa F.C. (1961\\xe2\\x80\\x93present)',\n",
        " 'Mendip Hills',\n",
        " 'George Andrew Davis, Jr.',\n",
        " 'Jake Gyllenhaal',\n",
        " 'Nothing to My Name',\n",
        " 'Tropical Depression Ten (2005)',\n",
        " 'William the Conqueror',\n",
        " 'Flow (video game)',\n",
        " 'Meshuggah',\n",
        " 'Sam Loxton with the Australian cricket team in England in 1948',\n",
        " 'Battle of Greece',\n",
        " 'Mark Kerry',\n",
        " 'York Park',\n",
        " 'First Roumanian-American Congregation',\n",
        " 'Gwoyeu Romatzyh',\n",
        " 'Three-cent silver',\n",
        " \"New York's 20th congressional district special election, 2009\",\n",
        " 'Opening of the Liverpool and Manchester Railway',\n",
        " 'Shelton Benjamin',\n",
        " 'Otto Julius Zobel',\n",
        " 'Deusdedit of Canterbury',\n",
        " 'Cuban macaw',\n",
        " 'Emperor Norton',\n",
        " 'United States Military Academy',\n",
        " 'Rani Mukerji',\n",
        " 'Australian magpie',\n",
        " 'Pain fitzJohn',\n",
        " 'Mayan languages',\n",
        " 'SMS Posen',\n",
        " 'Mom and Dad',\n",
        " 'Action of 13 January 1797',\n",
        " 'Roman Catholic Archdiocese of Miami',\n",
        " 'Charing Cross, Euston and Hampstead Railway',\n",
        " 'Rings of Neptune',\n",
        " 'Biddenden Maids',\n",
        " 'Portal (video game)',\n",
        " 'Fr\\xc3\\xa9d\\xc3\\xa9ric Chopin',\n",
        " 'Bayern-class battleship',\n",
        " 'Early life of Samuel Johnson',\n",
        " 'Forrest Highway',\n",
        " 'Kala (album)',\n",
        " 'Maria: or, The Wrongs of Woman',\n",
        " 'Linezolid',\n",
        " 'Long-tailed ground roller',\n",
        " 'New Carissa',\n",
        " 'X-Cops (The X-Files)',\n",
        " 'Second Malaysia Plan',\n",
        " 'Mauna Kea',\n",
        " 'Dromaeosauroides',\n",
        " 'Anachronox',\n",
        " 'Richard Barre',\n",
        " 'Glynn Lunney',\n",
        " 'Cyclone Elita',\n",
        " 'Ukiyo-e',\n",
        " 'Western Ganga dynasty',\n",
        " 'Cold Feet',\n",
        " 'Dinosaur',\n",
        " 'W. B. Yeats',\n",
        " 'Ohio Wesleyan University',\n",
        " 'Cheadle Hulme',\n",
        " 'Masako Katsura',\n",
        " 'Typhoon Chataan',\n",
        " 'Freedom of Worship (painting)',\n",
        " '2005 Azores subtropical storm',\n",
        " 'Amphibian',\n",
        " '1968 Illinois earthquake',\n",
        " 'Jane Cobden',\n",
        " 'Speed of light',\n",
        " 'HMS Ark Royal (91)',\n",
        " 'Palazzo Pitti',\n",
        " 'Liverpool F.C. in European football',\n",
        " 'Irataba',\n",
        " \"All God's Children Need Traveling Shoes\",\n",
        " 'Chicxulub crater',\n",
        " 'Stockton and Darlington Railway',\n",
        " 'Meteorological history of Hurricane Jeanne',\n",
        " 'Ellis Wackett',\n",
        " \"Her Majesty's Theatre\",\n",
        " 'History of Mars observation',\n",
        " 'Jack the Ripper',\n",
        " 'Zodiac (film)',\n",
        " 'Bal des Ardents',\n",
        " '2010 Sylvania 300',\n",
        " 'Mughal-e-Azam',\n",
        " 'John Wilton (general)',\n",
        " 'Hurricane Gustav (2002)',\n",
        " 'Baden-Powell House',\n",
        " 'Imagination (magazine)',\n",
        " 'Backmasking',\n",
        " 'New York State Route 32',\n",
        " 'USS Indiana (BB-1)',\n",
        " 'Sunderland Echo',\n",
        " 'Standing Liberty quarter',\n",
        " 'Elizabeth Needham',\n",
        " 'Once More, with Feeling (Buffy the Vampire Slayer)',\n",
        " 'St Cuthbert Gospel',\n",
        " 'Maple syrup',\n",
        " 'Hudson Valley Rail Trail',\n",
        " 'Octopus card',\n",
        " 'D. B. Cooper',\n",
        " 'Bobby Robson',\n",
        " 'Jason Voorhees',\n",
        " 'Hell Is Other Robots',\n",
        " 'Battle of Morotai',\n",
        " 'Fountain of Time',\n",
        " 'Northern bald ibis',\n",
        " 'Typhoon Paka',\n",
        " 'T206 Honus Wagner',\n",
        " 'Landing at Nadzab',\n",
        " 'Scout Moor Wind Farm',\n",
        " 'Les p\\xc3\\xaacheurs de perles',\n",
        " 'Flowing Hair dollar',\n",
        " 'Albert Kesselring',\n",
        " 'Sideshow Bob',\n",
        " 'Babe Ruth',\n",
        " 'Moon',\n",
        " 'Four Times of the Day',\n",
        " 'Battle of Arras (1917)',\n",
        " 'Bobby Eaton',\n",
        " 'East End of London',\n",
        " 'Music for a Time of War',\n",
        " 'Sadie Harris',\n",
        " 'Slavery in ancient Greece',\n",
        " '...And Justice for All (album)',\n",
        " 'Water fluoridation',\n",
        " 'Year Zero (album)',\n",
        " 'Metroid Prime 2: Echoes',\n",
        " 'Rakoto Frah',\n",
        " 'Beorhtwulf of Mercia',\n",
        " 'Cortana (Halo)',\n",
        " 'Union Films',\n",
        " 'Edward VII',\n",
        " 'Robert Sterling Yard',\n",
        " 'Barth\\xc3\\xa9lemy Boganda',\n",
        " '2003 Pacific hurricane season',\n",
        " 'Hu\\xe1\\xba\\xbf chemical attacks',\n",
        " 'Restoration of the Everglades',\n",
        " 'Umbriel (moon)',\n",
        " 'Youngstown Ohio Works',\n",
        " 'Old Church of St Nidan, Llanidan',\n",
        " 'Battle of Corydon',\n",
        " 'Red-winged fairywren',\n",
        " 'Ceres (dwarf planet)',\n",
        " 'Beth Hamedrash Hagodol',\n",
        " '200 (Stargate SG-1)',\n",
        " 'Ambohimanga',\n",
        " 'Banksia marginata',\n",
        " 'Rainbow trout',\n",
        " 'Hubble Space Telescope',\n",
        " 'Lord of the Universe',\n",
        " 'Terang Boelan',\n",
        " 'Joseph Desha',\n",
        " 'Andrew Johnston (singer)',\n",
        " 'Royal National College for the Blind',\n",
        " 'Bird',\n",
        " 'Of Human Feelings',\n",
        " 'Richmond Bridge, London',\n",
        " 'Spanish conquest of Pet\\xc3\\xa9n',\n",
        " 'White-necked rockfowl',\n",
        " \"Rhodesia's Unilateral Declaration of Independence\",\n",
        " 'Belarus',\n",
        " 'Invasion of Tulagi (May 1942)',\n",
        " 'Body Count (album)',\n",
        " 'Trapped in the Closet (South Park)',\n",
        " 'Horrible Histories (2009 TV series)',\n",
        " '1933 Atlantic hurricane season',\n",
        " 'Duncan Edwards',\n",
        " 'Telopea oreades',\n",
        " 'Pacific swift',\n",
        " 'Giant anteater',\n",
        " 'Myst',\n",
        " 'Tropical Storm Vamei',\n",
        " 'Odwalla',\n",
        " 'Slow loris',\n",
        " 'Kit (association football)',\n",
        " 'Banksia paludosa',\n",
        " \"Harris's List of Covent Garden Ladies\",\n",
        " 'Ed, Edd n Eddy',\n",
        " '1080\\xc2\\xb0 Snowboarding',\n",
        " 'Robert Burnell',\n",
        " 'These Are the Voyages...',\n",
        " 'Bring Us Together',\n",
        " 'Rogers Hornsby',\n",
        " 'Bix Beiderbecke',\n",
        " 'Augusta, Lady Gregory',\n",
        " 'Right whale',\n",
        " 'Battleship',\n",
        " 'Squeeze (The X-Files)',\n",
        " 'Act of Independence of Lithuania',\n",
        " 'History of Burnside',\n",
        " 'Hippocrates',\n",
        " 'Vi\\xe1\\xbb\\x87t Nam Qu\\xe1\\xbb\\x91c D\\xc3\\xa2n \\xc4\\x90\\xe1\\xba\\xa3ng',\n",
        " 'Pearl Jam',\n",
        " 'Holy Thorn Reliquary',\n",
        " 'Shunzhi Emperor',\n",
        " 'Mary Wollstonecraft',\n",
        " 'Bramshill House',\n",
        " 'Cathedral of the Immaculate Conception (Moscow)',\n",
        " 'Radcliffe, Greater Manchester',\n",
        " 'George I of Great Britain',\n",
        " 'William Henry Bury',\n",
        " 'Tropical Storm Nicole (2010)',\n",
        " \"Il ritorno d'Ulisse in patria\",\n",
        " 'Through the Looking Glass (Lost)',\n",
        " 'Banksia violacea',\n",
        " 'Mono\\xe2\\x80\\x93Inyo Craters',\n",
        " 'Palpatine',\n",
        " 'Walden\\xe2\\x80\\x93Wallkill Rail Trail',\n",
        " 'Pride & Prejudice (2005 film)',\n",
        " 'Zong massacre',\n",
        " 'David Lovering',\n",
        " 'Marwari horse',\n",
        " \"1987 Giro d'Italia\",\n",
        " 'Bazy Tankersley',\n",
        " 'Goodbyeee',\n",
        " 'George Went Hensley',\n",
        " 'Frank Bladin',\n",
        " 'Disintegration (The Cure album)',\n",
        " 'Drowned God',\n",
        " 'Small-toothed sportive lemur',\n",
        " 'Norte Chico civilization',\n",
        " 'Winter service vehicle',\n",
        " 'Talk That Talk (Rihanna song)',\n",
        " 'Chew Valley Lake',\n",
        " 'Rock Steady (album)',\n",
        " 'Bath, Somerset',\n",
        " 'Chariot racing',\n",
        " 'Battle of Caishi',\n",
        " 'The Livestock Conservancy',\n",
        " 'Disappearance of Natalee Holloway',\n",
        " 'Javan slow loris',\n",
        " ...]"
       ]
      }
     ],
     "prompt_number": 25
    },
    {
     "cell_type": "code",
     "collapsed": false,
     "input": [
      "quality"
     ],
     "language": "python",
     "metadata": {},
     "outputs": [
      {
       "metadata": {},
       "output_type": "pyout",
       "prompt_number": 26,
       "text": [
        "[7.0,\n",
        " 7.0,\n",
        " 7.0,\n",
        " 7.0,\n",
        " 7.0,\n",
        " 7.0,\n",
        " 7.0,\n",
        " 7.0,\n",
        " 7.0,\n",
        " 7.0,\n",
        " 7.0,\n",
        " 7.0,\n",
        " 7.0,\n",
        " 7.0,\n",
        " 7.0,\n",
        " 7.0,\n",
        " 7.0,\n",
        " 7.0,\n",
        " 7.0,\n",
        " 7.0,\n",
        " 7.0,\n",
        " 7.0,\n",
        " 7.0,\n",
        " 7.0,\n",
        " 7.0,\n",
        " 7.0,\n",
        " 7.0,\n",
        " 7.0,\n",
        " 7.0,\n",
        " 7.0,\n",
        " 7.0,\n",
        " 7.0,\n",
        " 7.0,\n",
        " 7.0,\n",
        " 7.0,\n",
        " 7.0,\n",
        " 7.0,\n",
        " 7.0,\n",
        " 7.0,\n",
        " 7.0,\n",
        " 7.0,\n",
        " 7.0,\n",
        " 7.0,\n",
        " 7.0,\n",
        " 7.0,\n",
        " 7.0,\n",
        " 7.0,\n",
        " 7.0,\n",
        " 7.0,\n",
        " 7.0,\n",
        " 7.0,\n",
        " 7.0,\n",
        " 7.0,\n",
        " 7.0,\n",
        " 7.0,\n",
        " 7.0,\n",
        " 7.0,\n",
        " 7.0,\n",
        " 7.0,\n",
        " 7.0,\n",
        " 7.0,\n",
        " 7.0,\n",
        " 7.0,\n",
        " 7.0,\n",
        " 7.0,\n",
        " 7.0,\n",
        " 7.0,\n",
        " 7.0,\n",
        " 7.0,\n",
        " 7.0,\n",
        " 7.0,\n",
        " 7.0,\n",
        " 7.0,\n",
        " 7.0,\n",
        " 7.0,\n",
        " 7.0,\n",
        " 7.0,\n",
        " 7.0,\n",
        " 7.0,\n",
        " 7.0,\n",
        " 7.0,\n",
        " 7.0,\n",
        " 7.0,\n",
        " 7.0,\n",
        " 7.0,\n",
        " 7.0,\n",
        " 7.0,\n",
        " 7.0,\n",
        " 7.0,\n",
        " 7.0,\n",
        " 7.0,\n",
        " 7.0,\n",
        " 7.0,\n",
        " 7.0,\n",
        " 7.0,\n",
        " 7.0,\n",
        " 7.0,\n",
        " 7.0,\n",
        " 7.0,\n",
        " 7.0,\n",
        " 7.0,\n",
        " 7.0,\n",
        " 7.0,\n",
        " 7.0,\n",
        " 7.0,\n",
        " 7.0,\n",
        " 7.0,\n",
        " 7.0,\n",
        " 7.0,\n",
        " 7.0,\n",
        " 7.0,\n",
        " 7.0,\n",
        " 7.0,\n",
        " 7.0,\n",
        " 7.0,\n",
        " 7.0,\n",
        " 7.0,\n",
        " 7.0,\n",
        " 7.0,\n",
        " 7.0,\n",
        " 7.0,\n",
        " 7.0,\n",
        " 7.0,\n",
        " 7.0,\n",
        " 7.0,\n",
        " 7.0,\n",
        " 7.0,\n",
        " 7.0,\n",
        " 7.0,\n",
        " 7.0,\n",
        " 7.0,\n",
        " 7.0,\n",
        " 7.0,\n",
        " 7.0,\n",
        " 7.0,\n",
        " 7.0,\n",
        " 7.0,\n",
        " 7.0,\n",
        " 7.0,\n",
        " 7.0,\n",
        " 7.0,\n",
        " 7.0,\n",
        " 7.0,\n",
        " 7.0,\n",
        " 7.0,\n",
        " 7.0,\n",
        " 7.0,\n",
        " 7.0,\n",
        " 7.0,\n",
        " 7.0,\n",
        " 7.0,\n",
        " 7.0,\n",
        " 7.0,\n",
        " 7.0,\n",
        " 7.0,\n",
        " 7.0,\n",
        " 7.0,\n",
        " 7.0,\n",
        " 7.0,\n",
        " 7.0,\n",
        " 7.0,\n",
        " 7.0,\n",
        " 7.0,\n",
        " 7.0,\n",
        " 7.0,\n",
        " 7.0,\n",
        " 7.0,\n",
        " 7.0,\n",
        " 7.0,\n",
        " 7.0,\n",
        " 7.0,\n",
        " 7.0,\n",
        " 7.0,\n",
        " 7.0,\n",
        " 7.0,\n",
        " 7.0,\n",
        " 7.0,\n",
        " 7.0,\n",
        " 7.0,\n",
        " 7.0,\n",
        " 7.0,\n",
        " 7.0,\n",
        " 7.0,\n",
        " 7.0,\n",
        " 7.0,\n",
        " 7.0,\n",
        " 7.0,\n",
        " 7.0,\n",
        " 7.0,\n",
        " 7.0,\n",
        " 7.0,\n",
        " 7.0,\n",
        " 7.0,\n",
        " 7.0,\n",
        " 7.0,\n",
        " 7.0,\n",
        " 7.0,\n",
        " 7.0,\n",
        " 7.0,\n",
        " 7.0,\n",
        " 7.0,\n",
        " 7.0,\n",
        " 7.0,\n",
        " 7.0,\n",
        " 7.0,\n",
        " 7.0,\n",
        " 7.0,\n",
        " 7.0,\n",
        " 7.0,\n",
        " 7.0,\n",
        " 7.0,\n",
        " 7.0,\n",
        " 7.0,\n",
        " 7.0,\n",
        " 7.0,\n",
        " 7.0,\n",
        " 7.0,\n",
        " 7.0,\n",
        " 7.0,\n",
        " 7.0,\n",
        " 7.0,\n",
        " 7.0,\n",
        " 7.0,\n",
        " 7.0,\n",
        " 7.0,\n",
        " 7.0,\n",
        " 7.0,\n",
        " 7.0,\n",
        " 7.0,\n",
        " 7.0,\n",
        " 7.0,\n",
        " 7.0,\n",
        " 7.0,\n",
        " 7.0,\n",
        " 7.0,\n",
        " 7.0,\n",
        " 7.0,\n",
        " 7.0,\n",
        " 7.0,\n",
        " 7.0,\n",
        " 7.0,\n",
        " 7.0,\n",
        " 7.0,\n",
        " 7.0,\n",
        " 7.0,\n",
        " 7.0,\n",
        " 7.0,\n",
        " 7.0,\n",
        " 7.0,\n",
        " 7.0,\n",
        " 7.0,\n",
        " 7.0,\n",
        " 7.0,\n",
        " 7.0,\n",
        " 7.0,\n",
        " 7.0,\n",
        " 7.0,\n",
        " 7.0,\n",
        " 7.0,\n",
        " 7.0,\n",
        " 7.0,\n",
        " 7.0,\n",
        " 7.0,\n",
        " 7.0,\n",
        " 7.0,\n",
        " 7.0,\n",
        " 7.0,\n",
        " 7.0,\n",
        " 7.0,\n",
        " 7.0,\n",
        " 7.0,\n",
        " 7.0,\n",
        " 7.0,\n",
        " 7.0,\n",
        " 7.0,\n",
        " 7.0,\n",
        " 7.0,\n",
        " 7.0,\n",
        " 7.0,\n",
        " 7.0,\n",
        " 7.0,\n",
        " 7.0,\n",
        " 7.0,\n",
        " 7.0,\n",
        " 7.0,\n",
        " 7.0,\n",
        " 7.0,\n",
        " 7.0,\n",
        " 7.0,\n",
        " 7.0,\n",
        " 7.0,\n",
        " 7.0,\n",
        " 7.0,\n",
        " 7.0,\n",
        " 7.0,\n",
        " 7.0,\n",
        " 7.0,\n",
        " 7.0,\n",
        " 7.0,\n",
        " 7.0,\n",
        " 7.0,\n",
        " 7.0,\n",
        " 7.0,\n",
        " 7.0,\n",
        " 7.0,\n",
        " 7.0,\n",
        " 7.0,\n",
        " 7.0,\n",
        " 7.0,\n",
        " 7.0,\n",
        " 7.0,\n",
        " 7.0,\n",
        " 7.0,\n",
        " 7.0,\n",
        " 7.0,\n",
        " 7.0,\n",
        " 7.0,\n",
        " 7.0,\n",
        " 7.0,\n",
        " 7.0,\n",
        " 7.0,\n",
        " 7.0,\n",
        " 7.0,\n",
        " 7.0,\n",
        " 7.0,\n",
        " 7.0,\n",
        " 7.0,\n",
        " 7.0,\n",
        " 7.0,\n",
        " 7.0,\n",
        " 7.0,\n",
        " 7.0,\n",
        " 7.0,\n",
        " 7.0,\n",
        " 7.0,\n",
        " 7.0,\n",
        " 7.0,\n",
        " 7.0,\n",
        " 7.0,\n",
        " 7.0,\n",
        " 7.0,\n",
        " 7.0,\n",
        " 7.0,\n",
        " 7.0,\n",
        " 7.0,\n",
        " 7.0,\n",
        " 7.0,\n",
        " 7.0,\n",
        " 7.0,\n",
        " 7.0,\n",
        " 7.0,\n",
        " 7.0,\n",
        " 7.0,\n",
        " 7.0,\n",
        " 7.0,\n",
        " 7.0,\n",
        " 7.0,\n",
        " 7.0,\n",
        " 7.0,\n",
        " 7.0,\n",
        " 7.0,\n",
        " 7.0,\n",
        " 7.0,\n",
        " 7.0,\n",
        " 7.0,\n",
        " 7.0,\n",
        " 7.0,\n",
        " 7.0,\n",
        " 7.0,\n",
        " 7.0,\n",
        " 7.0,\n",
        " 7.0,\n",
        " 7.0,\n",
        " 7.0,\n",
        " 7.0,\n",
        " 7.0,\n",
        " 7.0,\n",
        " 7.0,\n",
        " 7.0,\n",
        " 7.0,\n",
        " 7.0,\n",
        " 7.0,\n",
        " 7.0,\n",
        " 7.0,\n",
        " 7.0,\n",
        " 7.0,\n",
        " 7.0,\n",
        " 7.0,\n",
        " 7.0,\n",
        " 7.0,\n",
        " 7.0,\n",
        " 7.0,\n",
        " 7.0,\n",
        " 7.0,\n",
        " 7.0,\n",
        " 7.0,\n",
        " 7.0,\n",
        " 7.0,\n",
        " 7.0,\n",
        " 7.0,\n",
        " 7.0,\n",
        " 7.0,\n",
        " 7.0,\n",
        " 7.0,\n",
        " 7.0,\n",
        " 7.0,\n",
        " 7.0,\n",
        " 7.0,\n",
        " 7.0,\n",
        " 7.0,\n",
        " 7.0,\n",
        " 7.0,\n",
        " 7.0,\n",
        " 7.0,\n",
        " 7.0,\n",
        " 7.0,\n",
        " 7.0,\n",
        " 7.0,\n",
        " 7.0,\n",
        " 7.0,\n",
        " 7.0,\n",
        " 7.0,\n",
        " 7.0,\n",
        " 7.0,\n",
        " 7.0,\n",
        " 7.0,\n",
        " 7.0,\n",
        " 7.0,\n",
        " 7.0,\n",
        " 7.0,\n",
        " 7.0,\n",
        " 7.0,\n",
        " 7.0,\n",
        " 7.0,\n",
        " 7.0,\n",
        " 7.0,\n",
        " 7.0,\n",
        " 7.0,\n",
        " 7.0,\n",
        " 7.0,\n",
        " 7.0,\n",
        " 7.0,\n",
        " 7.0,\n",
        " 7.0,\n",
        " 7.0,\n",
        " 7.0,\n",
        " 7.0,\n",
        " 7.0,\n",
        " 7.0,\n",
        " 7.0,\n",
        " 7.0,\n",
        " 7.0,\n",
        " 7.0,\n",
        " 7.0,\n",
        " 7.0,\n",
        " 7.0,\n",
        " 7.0,\n",
        " 7.0,\n",
        " 7.0,\n",
        " 7.0,\n",
        " 7.0,\n",
        " 7.0,\n",
        " 7.0,\n",
        " 7.0,\n",
        " 7.0,\n",
        " 7.0,\n",
        " 7.0,\n",
        " 7.0,\n",
        " 7.0,\n",
        " 7.0,\n",
        " 7.0,\n",
        " 7.0,\n",
        " 7.0,\n",
        " 7.0,\n",
        " 7.0,\n",
        " 7.0,\n",
        " 7.0,\n",
        " 7.0,\n",
        " 7.0,\n",
        " 7.0,\n",
        " 7.0,\n",
        " 7.0,\n",
        " 7.0,\n",
        " 7.0,\n",
        " 7.0,\n",
        " 7.0,\n",
        " 7.0,\n",
        " 7.0,\n",
        " 7.0,\n",
        " 7.0,\n",
        " 7.0,\n",
        " 7.0,\n",
        " 7.0,\n",
        " 7.0,\n",
        " 7.0,\n",
        " 7.0,\n",
        " 7.0,\n",
        " 7.0,\n",
        " 7.0,\n",
        " 7.0,\n",
        " 7.0,\n",
        " 7.0,\n",
        " 7.0,\n",
        " 7.0,\n",
        " 7.0,\n",
        " 7.0,\n",
        " 7.0,\n",
        " 7.0,\n",
        " 7.0,\n",
        " 7.0,\n",
        " 7.0,\n",
        " 7.0,\n",
        " 7.0,\n",
        " 7.0,\n",
        " 7.0,\n",
        " 7.0,\n",
        " 7.0,\n",
        " 7.0,\n",
        " 7.0,\n",
        " 7.0,\n",
        " 7.0,\n",
        " 7.0,\n",
        " 7.0,\n",
        " 7.0,\n",
        " 7.0,\n",
        " 7.0,\n",
        " 7.0,\n",
        " 7.0,\n",
        " 7.0,\n",
        " 7.0,\n",
        " 7.0,\n",
        " 7.0,\n",
        " 7.0,\n",
        " 7.0,\n",
        " 7.0,\n",
        " 7.0,\n",
        " 7.0,\n",
        " 7.0,\n",
        " 7.0,\n",
        " 7.0,\n",
        " 7.0,\n",
        " 7.0,\n",
        " 7.0,\n",
        " 7.0,\n",
        " 7.0,\n",
        " 7.0,\n",
        " 7.0,\n",
        " 7.0,\n",
        " 7.0,\n",
        " 7.0,\n",
        " 7.0,\n",
        " 7.0,\n",
        " 7.0,\n",
        " 7.0,\n",
        " 7.0,\n",
        " 7.0,\n",
        " 7.0,\n",
        " 7.0,\n",
        " 7.0,\n",
        " 7.0,\n",
        " 7.0,\n",
        " 7.0,\n",
        " 7.0,\n",
        " 7.0,\n",
        " 7.0,\n",
        " 7.0,\n",
        " 7.0,\n",
        " 7.0,\n",
        " 7.0,\n",
        " 7.0,\n",
        " 7.0,\n",
        " 7.0,\n",
        " 7.0,\n",
        " 7.0,\n",
        " 7.0,\n",
        " 7.0,\n",
        " 7.0,\n",
        " 7.0,\n",
        " 7.0,\n",
        " 7.0,\n",
        " 7.0,\n",
        " 7.0,\n",
        " 7.0,\n",
        " 7.0,\n",
        " 7.0,\n",
        " 7.0,\n",
        " 7.0,\n",
        " 7.0,\n",
        " 7.0,\n",
        " 7.0,\n",
        " 7.0,\n",
        " 7.0,\n",
        " 7.0,\n",
        " 7.0,\n",
        " 7.0,\n",
        " 7.0,\n",
        " 7.0,\n",
        " 7.0,\n",
        " 7.0,\n",
        " 7.0,\n",
        " 7.0,\n",
        " 7.0,\n",
        " 7.0,\n",
        " 7.0,\n",
        " 7.0,\n",
        " 7.0,\n",
        " 7.0,\n",
        " 7.0,\n",
        " 7.0,\n",
        " 7.0,\n",
        " 7.0,\n",
        " 7.0,\n",
        " 7.0,\n",
        " 7.0,\n",
        " 7.0,\n",
        " 7.0,\n",
        " 7.0,\n",
        " 7.0,\n",
        " 7.0,\n",
        " 7.0,\n",
        " 7.0,\n",
        " 7.0,\n",
        " 7.0,\n",
        " 7.0,\n",
        " 7.0,\n",
        " 7.0,\n",
        " 7.0,\n",
        " 7.0,\n",
        " 7.0,\n",
        " 7.0,\n",
        " 7.0,\n",
        " 7.0,\n",
        " 7.0,\n",
        " 7.0,\n",
        " 7.0,\n",
        " 7.0,\n",
        " 7.0,\n",
        " 7.0,\n",
        " 7.0,\n",
        " 7.0,\n",
        " 7.0,\n",
        " 7.0,\n",
        " 7.0,\n",
        " 7.0,\n",
        " 7.0,\n",
        " 7.0,\n",
        " 7.0,\n",
        " 7.0,\n",
        " 7.0,\n",
        " 7.0,\n",
        " 7.0,\n",
        " 7.0,\n",
        " 7.0,\n",
        " 7.0,\n",
        " 7.0,\n",
        " 7.0,\n",
        " 7.0,\n",
        " 7.0,\n",
        " 7.0,\n",
        " 7.0,\n",
        " 7.0,\n",
        " 7.0,\n",
        " 7.0,\n",
        " 7.0,\n",
        " 7.0,\n",
        " 7.0,\n",
        " 7.0,\n",
        " 7.0,\n",
        " 7.0,\n",
        " 7.0,\n",
        " 7.0,\n",
        " 7.0,\n",
        " 7.0,\n",
        " 7.0,\n",
        " 7.0,\n",
        " 7.0,\n",
        " 7.0,\n",
        " 7.0,\n",
        " 7.0,\n",
        " 7.0,\n",
        " 7.0,\n",
        " 7.0,\n",
        " 7.0,\n",
        " 7.0,\n",
        " 7.0,\n",
        " 7.0,\n",
        " 7.0,\n",
        " 7.0,\n",
        " 7.0,\n",
        " 7.0,\n",
        " 7.0,\n",
        " 7.0,\n",
        " 7.0,\n",
        " 7.0,\n",
        " 7.0,\n",
        " 7.0,\n",
        " 7.0,\n",
        " 7.0,\n",
        " 7.0,\n",
        " 7.0,\n",
        " 7.0,\n",
        " 7.0,\n",
        " 7.0,\n",
        " 7.0,\n",
        " 7.0,\n",
        " 7.0,\n",
        " 7.0,\n",
        " 7.0,\n",
        " 7.0,\n",
        " 7.0,\n",
        " 7.0,\n",
        " 7.0,\n",
        " 7.0,\n",
        " 7.0,\n",
        " 7.0,\n",
        " 7.0,\n",
        " 7.0,\n",
        " 7.0,\n",
        " 7.0,\n",
        " 7.0,\n",
        " 7.0,\n",
        " 7.0,\n",
        " 7.0,\n",
        " 7.0,\n",
        " 7.0,\n",
        " 7.0,\n",
        " 7.0,\n",
        " 7.0,\n",
        " 7.0,\n",
        " 7.0,\n",
        " 7.0,\n",
        " 7.0,\n",
        " 7.0,\n",
        " 7.0,\n",
        " 7.0,\n",
        " 7.0,\n",
        " 7.0,\n",
        " 7.0,\n",
        " 7.0,\n",
        " 7.0,\n",
        " 7.0,\n",
        " 7.0,\n",
        " 7.0,\n",
        " 7.0,\n",
        " 7.0,\n",
        " 7.0,\n",
        " 7.0,\n",
        " 7.0,\n",
        " 7.0,\n",
        " 7.0,\n",
        " 7.0,\n",
        " 7.0,\n",
        " 7.0,\n",
        " 7.0,\n",
        " 7.0,\n",
        " 7.0,\n",
        " 7.0,\n",
        " 7.0,\n",
        " 7.0,\n",
        " 7.0,\n",
        " 7.0,\n",
        " 7.0,\n",
        " 7.0,\n",
        " 7.0,\n",
        " 7.0,\n",
        " 7.0,\n",
        " 7.0,\n",
        " 7.0,\n",
        " 7.0,\n",
        " 7.0,\n",
        " 7.0,\n",
        " 7.0,\n",
        " 7.0,\n",
        " 7.0,\n",
        " 7.0,\n",
        " 7.0,\n",
        " 7.0,\n",
        " 7.0,\n",
        " 7.0,\n",
        " 7.0,\n",
        " 7.0,\n",
        " 7.0,\n",
        " 7.0,\n",
        " 7.0,\n",
        " 7.0,\n",
        " 7.0,\n",
        " 7.0,\n",
        " 7.0,\n",
        " 7.0,\n",
        " 7.0,\n",
        " 7.0,\n",
        " 7.0,\n",
        " 7.0,\n",
        " 7.0,\n",
        " 7.0,\n",
        " 7.0,\n",
        " 7.0,\n",
        " 7.0,\n",
        " 7.0,\n",
        " 7.0,\n",
        " 7.0,\n",
        " 7.0,\n",
        " 7.0,\n",
        " 7.0,\n",
        " 7.0,\n",
        " 7.0,\n",
        " 7.0,\n",
        " 7.0,\n",
        " 7.0,\n",
        " 7.0,\n",
        " 7.0,\n",
        " 7.0,\n",
        " 7.0,\n",
        " 7.0,\n",
        " 7.0,\n",
        " 7.0,\n",
        " 7.0,\n",
        " 7.0,\n",
        " 7.0,\n",
        " 7.0,\n",
        " 7.0,\n",
        " 7.0,\n",
        " 7.0,\n",
        " 7.0,\n",
        " 7.0,\n",
        " 7.0,\n",
        " 7.0,\n",
        " 7.0,\n",
        " 7.0,\n",
        " 7.0,\n",
        " 7.0,\n",
        " 7.0,\n",
        " 7.0,\n",
        " 7.0,\n",
        " 7.0,\n",
        " 7.0,\n",
        " 7.0,\n",
        " 7.0,\n",
        " 7.0,\n",
        " 7.0,\n",
        " 7.0,\n",
        " 7.0,\n",
        " 7.0,\n",
        " 7.0,\n",
        " 7.0,\n",
        " 7.0,\n",
        " 7.0,\n",
        " 7.0,\n",
        " 7.0,\n",
        " 7.0,\n",
        " 7.0,\n",
        " 7.0,\n",
        " 7.0,\n",
        " 7.0,\n",
        " 7.0,\n",
        " 7.0,\n",
        " 7.0,\n",
        " 7.0,\n",
        " 7.0,\n",
        " 7.0,\n",
        " 7.0,\n",
        " 7.0,\n",
        " 7.0,\n",
        " 7.0,\n",
        " 7.0,\n",
        " 7.0,\n",
        " 7.0,\n",
        " 7.0,\n",
        " 7.0,\n",
        " 7.0,\n",
        " 7.0,\n",
        " 7.0,\n",
        " 7.0,\n",
        " 7.0,\n",
        " 7.0,\n",
        " 7.0,\n",
        " 7.0,\n",
        " 7.0,\n",
        " 7.0,\n",
        " 7.0,\n",
        " 7.0,\n",
        " 7.0,\n",
        " 7.0,\n",
        " 7.0,\n",
        " 7.0,\n",
        " 7.0,\n",
        " 7.0,\n",
        " 7.0,\n",
        " 7.0,\n",
        " 7.0,\n",
        " 7.0,\n",
        " 7.0,\n",
        " 7.0,\n",
        " 7.0,\n",
        " 7.0,\n",
        " 7.0,\n",
        " 7.0,\n",
        " 7.0,\n",
        " 7.0,\n",
        " 7.0,\n",
        " 7.0,\n",
        " 7.0,\n",
        " 7.0,\n",
        " 7.0,\n",
        " 7.0,\n",
        " 7.0,\n",
        " 7.0,\n",
        " 7.0,\n",
        " 7.0,\n",
        " 7.0,\n",
        " 7.0,\n",
        " 7.0,\n",
        " 7.0,\n",
        " 7.0,\n",
        " 7.0,\n",
        " 7.0,\n",
        " 7.0,\n",
        " 7.0,\n",
        " 7.0,\n",
        " 7.0,\n",
        " 7.0,\n",
        " 7.0,\n",
        " 7.0,\n",
        " 7.0,\n",
        " 7.0,\n",
        " 7.0,\n",
        " 7.0,\n",
        " 7.0,\n",
        " 7.0,\n",
        " 7.0,\n",
        " 7.0,\n",
        " 7.0,\n",
        " 7.0,\n",
        " 7.0,\n",
        " 7.0,\n",
        " 7.0,\n",
        " 7.0,\n",
        " 7.0,\n",
        " 7.0,\n",
        " 7.0,\n",
        " 7.0,\n",
        " 7.0,\n",
        " 7.0,\n",
        " 7.0,\n",
        " 7.0,\n",
        " 7.0,\n",
        " 7.0,\n",
        " 7.0,\n",
        " 7.0,\n",
        " 7.0,\n",
        " 7.0,\n",
        " 7.0,\n",
        " 7.0,\n",
        " 7.0,\n",
        " 7.0,\n",
        " 7.0,\n",
        " 7.0,\n",
        " 7.0,\n",
        " 7.0,\n",
        " 7.0,\n",
        " 7.0,\n",
        " 7.0,\n",
        " 7.0,\n",
        " 7.0,\n",
        " 7.0,\n",
        " 7.0,\n",
        " 7.0,\n",
        " 7.0,\n",
        " 7.0,\n",
        " 7.0,\n",
        " 7.0,\n",
        " 7.0,\n",
        " 7.0,\n",
        " 7.0,\n",
        " 7.0,\n",
        " 7.0,\n",
        " 7.0,\n",
        " 7.0,\n",
        " 7.0,\n",
        " 7.0,\n",
        " 7.0,\n",
        " 7.0,\n",
        " 7.0,\n",
        " 7.0,\n",
        " 7.0,\n",
        " 7.0,\n",
        " 7.0,\n",
        " 7.0,\n",
        " 7.0,\n",
        " 7.0,\n",
        " 7.0,\n",
        " 7.0,\n",
        " 7.0,\n",
        " 7.0,\n",
        " 7.0,\n",
        " 7.0,\n",
        " 7.0,\n",
        " 7.0,\n",
        " 7.0,\n",
        " 7.0,\n",
        " ...]"
       ]
      }
     ],
     "prompt_number": 26
    },
    {
     "cell_type": "code",
     "collapsed": false,
     "input": [
      "names = []\n",
      "soups = []\n",
      "print \"starting\"\n",
      "\n",
      "for fil in files:\n",
      "    print fil\n",
      "    lines = set(open(fil, 'r').readlines())\n",
      "    random.sample(lines, 400)\n",
      "    for line in lines:\n",
      "        line = line.strip()\n",
      "        names.append(line)\n",
      "        soup = get_soup(base_url+line)\n",
      "        if soup is None:\n",
      "            continue\n",
      "        else:\n",
      "            soups.append(soup)\n",
      "      \n",
      "out_names = open('names.txt', 'w')\n",
      "out_soups = open('soups.txt', 'w')\n",
      "\n",
      "for item in names:\n",
      "    out_names.write(\"%s\\n\" % item)\n",
      "for item in soups:\n",
      "    out_soups.write(\"%s\\n\" % item)"
     ],
     "language": "python",
     "metadata": {},
     "outputs": [],
     "prompt_number": "*"
    },
    {
     "cell_type": "code",
     "collapsed": false,
     "input": [
      "print len(names)"
     ],
     "language": "python",
     "metadata": {},
     "outputs": [
      {
       "output_type": "stream",
       "stream": "stdout",
       "text": [
        "32\n"
       ]
      }
     ],
     "prompt_number": 13
    },
    {
     "cell_type": "code",
     "collapsed": false,
     "input": [],
     "language": "python",
     "metadata": {},
     "outputs": []
    }
   ],
   "metadata": {}
  }
 ]
}