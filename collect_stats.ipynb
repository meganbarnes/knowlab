{
 "metadata": {
  "name": "",
  "signature": "sha256:424aefb68b2555c43256d53ca7fd78e42454093f453cdab5fa5cf9d43fc7ce50"
 },
 "nbformat": 3,
 "nbformat_minor": 0,
 "worksheets": [
  {
   "cells": [
    {
     "cell_type": "code",
     "collapsed": false,
     "input": [
      "from bs4 import BeautifulSoup\n",
      "import urllib\n",
      "import numpy as np\n",
      "import pandas as pd\n",
      "import string\n",
      "import nltk\n",
      "from string import maketrans"
     ],
     "language": "python",
     "metadata": {},
     "outputs": [],
     "prompt_number": 20
    },
    {
     "cell_type": "code",
     "collapsed": false,
     "input": [
      "dict_ = {}"
     ],
     "language": "python",
     "metadata": {},
     "outputs": [],
     "prompt_number": 8
    },
    {
     "cell_type": "code",
     "collapsed": false,
     "input": [
      "def get_soup(article):\n",
      "    page = urllib.urlopen(article)\n",
      "    return BeautifulSoup(page)"
     ],
     "language": "python",
     "metadata": {},
     "outputs": [],
     "prompt_number": 7
    },
    {
     "cell_type": "code",
     "collapsed": false,
     "input": [
      "def completeness(soup):\n",
      "    paragraphs = soup.find(id='bodyContent').find_all('p')\n",
      "    text = ''\n",
      "    for para in paragraphs:\n",
      "        text = text + para.get_text()\n",
      "    article_length = len(text.strip(string.punctuation).split())\n",
      "    links = set(soup.find(id='mw-content-text').find_all('a'))\n",
      "    images = set(soup.find(id='mw-content-text').find_all('a', class_='image'))\n",
      "    external = set(soup.find(id='mw-content-text').find_all('a', class_=['external','extiw']))\n",
      "    links = links.difference(images)\n",
      "    links = links.difference(external)\n",
      "    num_links = len(links)\n",
      "    return ((text.strip(string.punctuation).split()), images)\n",
      "    "
     ],
     "language": "python",
     "metadata": {},
     "outputs": [],
     "prompt_number": 58
    },
    {
     "cell_type": "code",
     "collapsed": false,
     "input": [
      "def informativeness(soup, text, images, editors, edits):\n",
      "    diversity = len(set(editors))/len(edits)\n",
      "    from nltk.corpus import stopwords\n",
      "    stopwords = stopwords.words('english')\n",
      "    unstopped = [w for w in text if w not in stopwords]\n",
      "    from nltk.stem.snowball import SnowballStemmer\n",
      "    stemmer = SnowballStemmer(\"english\", ignore_stopwords=True)\n",
      "    stems = [stemmer.stem(w) for w in unstopped]\n",
      "    print stemmer.stem('democrats')\n",
      "    info_noise = float(len(stems))/len(text)\n",
      "    return len(images)"
     ],
     "language": "python",
     "metadata": {},
     "outputs": [],
     "prompt_number": 55
    },
    {
     "cell_type": "code",
     "collapsed": false,
     "input": [
      "def authority_reputation(editors, edits, external):\n",
      "    num_unique_editors = len(set(editors))\n",
      "    num_edits = len(edits)\n",
      "    num_reverts = 0\n",
      "    num_anon_edits = 0\n",
      "    for edit in edits:\n",
      "        if ('rv ' in edit.comment) or ('rvv ' in edit.comment):\n",
      "            num_reverts = num_reverts + 1\n",
      "        if (edit.editor.count('.') == 3) or (edit.editor.count(':') == 7):\n",
      "            num_anon_edits = num_anon_edits + 1\n",
      "    num_external_links = len(external)\n",
      "    num_reg_user_edits = len(edits) - len(num_anon_edits)       "
     ],
     "language": "python",
     "metadata": {},
     "outputs": []
    },
    {
     "cell_type": "code",
     "collapsed": false,
     "input": [
      "sample_soup = get_soup('https://en.wikipedia.org/wiki/Democratic_Party_(United_States)')"
     ],
     "language": "python",
     "metadata": {},
     "outputs": [],
     "prompt_number": 35
    },
    {
     "cell_type": "code",
     "collapsed": false,
     "input": [
      "(text, images) = completeness(sample_soup)\n",
      "informativeness(sample_soup, text, images)"
     ],
     "language": "python",
     "metadata": {},
     "outputs": [
      {
       "output_type": "stream",
       "stream": "stdout",
       "text": [
        "democrat\n"
       ]
      },
      {
       "metadata": {},
       "output_type": "pyout",
       "prompt_number": 60,
       "text": [
        "37"
       ]
      }
     ],
     "prompt_number": 60
    },
    {
     "cell_type": "code",
     "collapsed": false,
     "input": [],
     "language": "python",
     "metadata": {},
     "outputs": []
    }
   ],
   "metadata": {}
  }
 ]
}