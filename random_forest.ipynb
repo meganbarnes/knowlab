{
 "metadata": {
  "name": ""
 },
 "nbformat": 3,
 "nbformat_minor": 0,
 "worksheets": [
  {
   "cells": [
    {
     "cell_type": "code",
     "collapsed": false,
     "input": [
      "from bs4 import BeautifulSoup\n",
      "import urllib\n",
      "import numpy as np\n",
      "import pandas as pd\n",
      "import string\n",
      "#from nltk.corpus import stopwords\n",
      "#from nltk.stem.snowball import SnowballStemmer\n",
      "from string import maketrans\n",
      "import random\n",
      "import csv\n",
      "import sys\n",
      "from sklearn import preprocessing\n",
      "\n",
      "%matplotlib inline\n",
      "\n",
      "csv.field_size_limit(sys.maxsize)"
     ],
     "language": "python",
     "metadata": {},
     "outputs": [
      {
       "metadata": {},
       "output_type": "pyout",
       "prompt_number": 2,
       "text": [
        "131072"
       ]
      }
     ],
     "prompt_number": 2
    },
    {
     "cell_type": "code",
     "collapsed": false,
     "input": [
      "df2 = pd.DataFrame()\n",
      "df2 = df2.from_csv('classifier_stats.txt', sep=',')\n",
      "df2 = df2[df2['article_length'] > 0]"
     ],
     "language": "python",
     "metadata": {},
     "outputs": [],
     "prompt_number": 3
    },
    {
     "cell_type": "code",
     "collapsed": false,
     "input": [
      "X_train = []\n",
      "y_train = []\n",
      "X_test = []\n",
      "y_test = []\n",
      "\n",
      "i = 0\n",
      "while i < len(df2):\n",
      "    if i % 4 == 0:\n",
      "        y_test.append(df2.ix[i].values[0])\n",
      "        X_test.append(df2.ix[i].values[1:8])\n",
      "    else:\n",
      "        y_train.append(df2.ix[i].values[0])\n",
      "        X_train.append(df2.ix[i].values[1:8])\n",
      "    i = i + 1\n",
      "print X_train[0]\n",
      "print X_train[0].mean()\n",
      "print X_train[0].std()"
     ],
     "language": "python",
     "metadata": {},
     "outputs": [
      {
       "output_type": "stream",
       "stream": "stdout",
       "text": [
        "[  8.45000000e+03   1.03700000e+03   1.09000000e+02   2.60000000e+01\n",
        "   2.45088757e-01   1.59000000e+02   2.80000000e+01]\n",
        "1401.32072697\n",
        "2897.55050742\n"
       ]
      }
     ],
     "prompt_number": 31
    },
    {
     "cell_type": "code",
     "collapsed": false,
     "input": [
      "X_train = preprocessing.normalize(X_train, axis=0)\n",
      "X_test = preprocessing.normalize(X_test, axis=0)\n",
      "print X_train[0]"
     ],
     "language": "python",
     "metadata": {},
     "outputs": [
      {
       "output_type": "stream",
       "stream": "stdout",
       "text": [
        "[ 0.04396056  0.03479337  0.02987296  0.03695625  0.01129412  0.05055416\n",
        "  0.03117914]\n"
       ]
      }
     ],
     "prompt_number": 32
    },
    {
     "cell_type": "code",
     "collapsed": false,
     "input": [
      "from sklearn import ensemble\n",
      "rf = ensemble.RandomForestRegressor()\n",
      "rf.fit(X_train, y_train)  "
     ],
     "language": "python",
     "metadata": {},
     "outputs": [
      {
       "metadata": {},
       "output_type": "pyout",
       "prompt_number": 33,
       "text": [
        "RandomForestRegressor(bootstrap=True, compute_importances=None,\n",
        "           criterion='mse', max_depth=None, max_features='auto',\n",
        "           min_density=None, min_samples_leaf=1, min_samples_split=2,\n",
        "           n_estimators=10, n_jobs=1, oob_score=False, random_state=None,\n",
        "           verbose=0)"
       ]
      }
     ],
     "prompt_number": 33
    },
    {
     "cell_type": "code",
     "collapsed": false,
     "input": [
      "predict_results = []\n",
      "s = 0\n",
      "\n",
      "i = 0\n",
      "while i < len(X_test):\n",
      "    pre = rf.predict(X_test[i])\n",
      "    predict_results.append(round(pre))\n",
      "    #print str(pre) + \" \" + str(round(pre)) + \" \" + str(y_test[i])\n",
      "    if round(pre) == y_test[i]:\n",
      "        s = s + 1\n",
      "    i = i + 1\n",
      "    \n",
      "print float(s)/(len(X_test))  \n",
      "    "
     ],
     "language": "python",
     "metadata": {},
     "outputs": [
      {
       "output_type": "stream",
       "stream": "stdout",
       "text": [
        "0.258986928105\n"
       ]
      }
     ],
     "prompt_number": 34
    },
    {
     "cell_type": "code",
     "collapsed": false,
     "input": [
      "y_test[2000]"
     ],
     "language": "python",
     "metadata": {},
     "outputs": [
      {
       "metadata": {},
       "output_type": "pyout",
       "prompt_number": 17,
       "text": [
        "2.0"
       ]
      }
     ],
     "prompt_number": 17
    },
    {
     "cell_type": "code",
     "collapsed": false,
     "input": [
      "import matplotlib.pyplot as plt\n",
      "plt.plot(predict_results, y_test, 'ro')\n",
      "plt.axis([-5, 15, -5, 15])\n",
      "x = numpy.r_[0:15]\n",
      "plt.plot(x,slope*x + intercept)\n",
      "plt.show()"
     ],
     "language": "python",
     "metadata": {},
     "outputs": [
      {
       "metadata": {},
       "output_type": "display_data",
       "png": "[encoded data removed]",
       "text": [
        "<matplotlib.figure.Figure at 0x7fc0b5381450>"
       ]
      }
     ],
     "prompt_number": 41
    },
    {
     "cell_type": "code",
     "collapsed": false,
     "input": [
      "import numpy\n",
      "r = numpy.corrcoef(predict_results, y_test)[0, 1]"
     ],
     "language": "python",
     "metadata": {},
     "outputs": [],
     "prompt_number": 11
    },
    {
     "cell_type": "code",
     "collapsed": false,
     "input": [
      "import scipy\n",
      "slope, intercept, r_value, p_value, std_err = scipy.stats.linregress(predict_results, y_test)"
     ],
     "language": "python",
     "metadata": {},
     "outputs": [],
     "prompt_number": 38
    },
    {
     "cell_type": "code",
     "collapsed": false,
     "input": [
      "r_value"
     ],
     "language": "python",
     "metadata": {},
     "outputs": [
      {
       "metadata": {},
       "output_type": "pyout",
       "prompt_number": 40,
       "text": [
        "0.71495111634450226"
       ]
      }
     ],
     "prompt_number": 40
    },
    {
     "cell_type": "code",
     "collapsed": false,
     "input": [],
     "language": "python",
     "metadata": {},
     "outputs": []
    }
   ],
   "metadata": {}
  }
 ]
}