{
 "metadata": {
  "name": "",
  "signature": "sha256:847db1dc5c8794246226503f188711e0048f559097f767e2afabf7324cb4a445"
 },
 "nbformat": 3,
 "nbformat_minor": 0,
 "worksheets": [
  {
   "cells": [
    {
     "cell_type": "code",
     "collapsed": false,
     "input": [
      "import requests, json\n",
      "import urllib\n",
      "import xlrd\n",
      "import csv\n",
      "import xmldict\n",
      "import xml.etree.ElementTree as ET\n",
      "from   unidecode import *\n",
      "import xlwt\n",
      "from xlutils.copy import copy\n",
      "\n",
      "base_url  = \"http://api.elsevier.com/content/abstract/doi/\"\n",
      "key       = \"e488d171b6f25a8092d9ac0f04f33dcf\""
     ],
     "language": "python",
     "metadata": {},
     "outputs": [],
     "prompt_number": 86
    },
    {
     "cell_type": "code",
     "collapsed": false,
     "input": [
      "def get_doi_list(filename):\n",
      "    wb = xlrd.open_workbook(filename)\n",
      "    sh = wb.sheet_by_name('Sheet1')\n",
      "    dois = []\n",
      "    for row in range(sh.nrows):\n",
      "        val = str(sh.cell(row,16).value)\n",
      "        if val != 'doi':\n",
      "            dois.append(val)\n",
      "        \n",
      "    print ','.join(dois)\n",
      "    return dois"
     ],
     "language": "python",
     "metadata": {},
     "outputs": [],
     "prompt_number": 5
    },
    {
     "cell_type": "code",
     "collapsed": false,
     "input": [
      "doi_list = get_doi_list('pos_neuro_publist.xlsx')"
     ],
     "language": "python",
     "metadata": {},
     "outputs": [
      {
       "output_type": "stream",
       "stream": "stdout",
       "text": [
        "N/A,10.7554/eLife.00759,10.1162/jocn.2010.21500,10.1016/j.neuroimage.2010.12.022,10.3389/fpsyg.2011.00111,10.1111/j.1756-8765.2012.01208.x,10.1111/j.1749-6632.2011.06401.x,10.1016/j.neuroimage.2012.07.030,10.1016/j.neuroimage.2013.02.024,N/A,N/A,10.1093/brain/awr011,10.1523/JNEUROSCI.0397-11.2011,N/A,10.1523/JNEUROSCI.6193-11.2012,10.1073/pnas.1112324108,10.1177/0963721413492764,10.1093/scan/nst005,N/A,10.1080/17470919.2011.588723,10.1037/a0031755, 10.3389/fnhum.2013.00488,N/A,N/A,10.3390/bs4020087 ,N/A,10.1371/journal.pone.0087035,N/A,10.1093/cercor/bhs347,10.1111/j.1751-9004.2012.00450.x,N/A,N/A\n"
       ]
      }
     ],
     "prompt_number": 6
    },
    {
     "cell_type": "code",
     "collapsed": false,
     "input": [
      "def get_abstracts(doi_list):\n",
      "    ret = []\n",
      "    xmls = []\n",
      "    for doi in doi_list:\n",
      "        if doi != 'N/A':\n",
      "            req = requests.get(base_url  + doi + '?apiKey=' + key)\n",
      "            text = unidecode(req.text)\n",
      "            elem = ET.fromstring(text)\n",
      "            if elem.tag != 'service-error':\n",
      "                ret.append(elem)\n",
      "                xmls.append(text)\n",
      "                print \"-\"\n",
      "            else:\n",
      "                ret.append('not in SCOPUS')\n",
      "                xmls.append('not in SCOPUS')\n",
      "        else:\n",
      "            ret.append('N/A')\n",
      "            xmls.append('N/A')\n",
      "    print \"complete\"\n",
      "    return (ret, xmls)\n",
      "    "
     ],
     "language": "python",
     "metadata": {},
     "outputs": [],
     "prompt_number": 7
    },
    {
     "cell_type": "code",
     "collapsed": false,
     "input": [
      "abstract_objects, abstract_xmls = get_abstracts(doi_list)"
     ],
     "language": "python",
     "metadata": {},
     "outputs": [
      {
       "output_type": "stream",
       "stream": "stdout",
       "text": [
        "-\n",
        "-"
       ]
      },
      {
       "output_type": "stream",
       "stream": "stdout",
       "text": [
        "\n",
        "-"
       ]
      },
      {
       "output_type": "stream",
       "stream": "stdout",
       "text": [
        "\n",
        "-"
       ]
      },
      {
       "output_type": "stream",
       "stream": "stdout",
       "text": [
        "\n",
        "-"
       ]
      },
      {
       "output_type": "stream",
       "stream": "stdout",
       "text": [
        "\n",
        "-"
       ]
      },
      {
       "output_type": "stream",
       "stream": "stdout",
       "text": [
        "\n",
        "-"
       ]
      },
      {
       "output_type": "stream",
       "stream": "stdout",
       "text": [
        "\n",
        "-"
       ]
      },
      {
       "output_type": "stream",
       "stream": "stdout",
       "text": [
        "\n",
        "-"
       ]
      },
      {
       "output_type": "stream",
       "stream": "stdout",
       "text": [
        "\n",
        "-"
       ]
      },
      {
       "output_type": "stream",
       "stream": "stdout",
       "text": [
        "\n",
        "-"
       ]
      },
      {
       "output_type": "stream",
       "stream": "stdout",
       "text": [
        "\n",
        "-"
       ]
      },
      {
       "output_type": "stream",
       "stream": "stdout",
       "text": [
        "\n",
        "-"
       ]
      },
      {
       "output_type": "stream",
       "stream": "stdout",
       "text": [
        "\n",
        "-"
       ]
      },
      {
       "output_type": "stream",
       "stream": "stdout",
       "text": [
        "\n",
        "-"
       ]
      },
      {
       "output_type": "stream",
       "stream": "stdout",
       "text": [
        "\n",
        "-"
       ]
      },
      {
       "output_type": "stream",
       "stream": "stdout",
       "text": [
        "\n",
        "-"
       ]
      },
      {
       "output_type": "stream",
       "stream": "stdout",
       "text": [
        "\n",
        "-"
       ]
      },
      {
       "output_type": "stream",
       "stream": "stdout",
       "text": [
        "\n",
        "-"
       ]
      },
      {
       "output_type": "stream",
       "stream": "stdout",
       "text": [
        "\n",
        "complete\n"
       ]
      }
     ],
     "prompt_number": 10
    },
    {
     "cell_type": "code",
     "collapsed": false,
     "input": [
      "abstract_objects"
     ],
     "language": "python",
     "metadata": {},
     "outputs": [
      {
       "metadata": {},
       "output_type": "pyout",
       "prompt_number": 11,
       "text": [
        "['N/A',\n",
        " <Element '{http://www.elsevier.com/xml/svapi/abstract/dtd}abstracts-retrieval-response' at 0x109addfd0>,\n",
        " <Element '{http://www.elsevier.com/xml/svapi/abstract/dtd}abstracts-retrieval-response' at 0x109aebed0>,\n",
        " <Element '{http://www.elsevier.com/xml/svapi/abstract/dtd}abstracts-retrieval-response' at 0x109b09f90>,\n",
        " <Element '{http://www.elsevier.com/xml/svapi/abstract/dtd}abstracts-retrieval-response' at 0x10996aa50>,\n",
        " <Element '{http://www.elsevier.com/xml/svapi/abstract/dtd}abstracts-retrieval-response' at 0x10996ad90>,\n",
        " <Element '{http://www.elsevier.com/xml/svapi/abstract/dtd}abstracts-retrieval-response' at 0x10996aad0>,\n",
        " <Element '{http://www.elsevier.com/xml/svapi/abstract/dtd}abstracts-retrieval-response' at 0x109ba9810>,\n",
        " <Element '{http://www.elsevier.com/xml/svapi/abstract/dtd}abstracts-retrieval-response' at 0x109ba9b90>,\n",
        " 'N/A',\n",
        " 'N/A',\n",
        " <Element '{http://www.elsevier.com/xml/svapi/abstract/dtd}abstracts-retrieval-response' at 0x109bb5c90>,\n",
        " <Element '{http://www.elsevier.com/xml/svapi/abstract/dtd}abstracts-retrieval-response' at 0x109ba9dd0>,\n",
        " 'N/A',\n",
        " <Element '{http://www.elsevier.com/xml/svapi/abstract/dtd}abstracts-retrieval-response' at 0x109bc4cd0>,\n",
        " <Element '{http://www.elsevier.com/xml/svapi/abstract/dtd}abstracts-retrieval-response' at 0x109bd0f10>,\n",
        " <Element '{http://www.elsevier.com/xml/svapi/abstract/dtd}abstracts-retrieval-response' at 0x109b16ad0>,\n",
        " <Element '{http://www.elsevier.com/xml/svapi/abstract/dtd}abstracts-retrieval-response' at 0x109bc4ed0>,\n",
        " 'N/A',\n",
        " <Element '{http://www.elsevier.com/xml/svapi/abstract/dtd}abstracts-retrieval-response' at 0x109b22f50>,\n",
        " <Element '{http://www.elsevier.com/xml/svapi/abstract/dtd}abstracts-retrieval-response' at 0x109b2da10>,\n",
        " 'not in SCOPUS',\n",
        " 'N/A',\n",
        " 'N/A',\n",
        " 'not in SCOPUS',\n",
        " 'N/A',\n",
        " <Element '{http://www.elsevier.com/xml/svapi/abstract/dtd}abstracts-retrieval-response' at 0x109b3fd50>,\n",
        " 'N/A',\n",
        " <Element '{http://www.elsevier.com/xml/svapi/abstract/dtd}abstracts-retrieval-response' at 0x109b3f110>,\n",
        " <Element '{http://www.elsevier.com/xml/svapi/abstract/dtd}abstracts-retrieval-response' at 0x109b4bbd0>,\n",
        " 'N/A',\n",
        " 'N/A']"
       ]
      }
     ],
     "prompt_number": 11
    },
    {
     "cell_type": "code",
     "collapsed": false,
     "input": [
      "def get_citer_xml(abstract_list):\n",
      "    ret = []\n",
      "    for abstract in abstract_list:\n",
      "        if abstract == 'N/A':\n",
      "            ret.append('N/A')\n",
      "        elif abstract == 'not in SCOPUS':\n",
      "            ret.append('not in SCOPUS')\n",
      "        else:\n",
      "            xmls = []\n",
      "            for link in abstract.find('{http://www.elsevier.com/xml/svapi/abstract/dtd}coredata').findall('{http://www.elsevier.com/xml/svapi/abstract/dtd}link'):\n",
      "                if link.attrib['rel'] == 'cited-by':\n",
      "                    search_link = link.attrib['href']\n",
      "            search_req = requests.get(search_link + '&apiKey=' + key)\n",
      "            dic = json.loads(unidecode(search_req.text))\n",
      "            for article in dic['search-results']['entry']:\n",
      "                if 'error' in article.keys():\n",
      "                    xmls = []\n",
      "                else:\n",
      "                    for link in article['link']:\n",
      "                        if link['@ref'] == 'self':\n",
      "                            xmls.append(requests.get(link['@href'] + '?apiKey=' + key).text)\n",
      "            print len(xmls)\n",
      "            ret.append(xmls)\n",
      "    return ret\n",
      "            \n",
      "        \n",
      "        \n",
      "                \n",
      "        "
     ],
     "language": "python",
     "metadata": {},
     "outputs": [],
     "prompt_number": 70
    },
    {
     "cell_type": "code",
     "collapsed": false,
     "input": [
      "xml_list = get_citer_xml(abstract_objects)"
     ],
     "language": "python",
     "metadata": {},
     "outputs": [
      {
       "output_type": "stream",
       "stream": "stdout",
       "text": [
        "4\n",
        "25"
       ]
      },
      {
       "output_type": "stream",
       "stream": "stdout",
       "text": [
        "\n",
        "21"
       ]
      },
      {
       "output_type": "stream",
       "stream": "stdout",
       "text": [
        "\n",
        "16"
       ]
      },
      {
       "output_type": "stream",
       "stream": "stdout",
       "text": [
        "\n",
        "6"
       ]
      },
      {
       "output_type": "stream",
       "stream": "stdout",
       "text": [
        "\n",
        "4"
       ]
      },
      {
       "output_type": "stream",
       "stream": "stdout",
       "text": [
        "\n",
        "11"
       ]
      },
      {
       "output_type": "stream",
       "stream": "stdout",
       "text": [
        "\n",
        "5"
       ]
      },
      {
       "output_type": "stream",
       "stream": "stdout",
       "text": [
        "\n",
        "25"
       ]
      },
      {
       "output_type": "stream",
       "stream": "stdout",
       "text": [
        "\n",
        "25"
       ]
      },
      {
       "output_type": "stream",
       "stream": "stdout",
       "text": [
        "\n",
        "16"
       ]
      },
      {
       "output_type": "stream",
       "stream": "stdout",
       "text": [
        "\n",
        "25"
       ]
      },
      {
       "output_type": "stream",
       "stream": "stdout",
       "text": [
        "\n",
        "13"
       ]
      },
      {
       "output_type": "stream",
       "stream": "stdout",
       "text": [
        "\n",
        "0"
       ]
      },
      {
       "output_type": "stream",
       "stream": "stdout",
       "text": [
        "\n",
        "15"
       ]
      },
      {
       "output_type": "stream",
       "stream": "stdout",
       "text": [
        "\n",
        "18"
       ]
      },
      {
       "output_type": "stream",
       "stream": "stdout",
       "text": [
        "\n",
        "3"
       ]
      },
      {
       "output_type": "stream",
       "stream": "stdout",
       "text": [
        "\n",
        "0"
       ]
      },
      {
       "output_type": "stream",
       "stream": "stdout",
       "text": [
        "\n",
        "9"
       ]
      },
      {
       "output_type": "stream",
       "stream": "stdout",
       "text": [
        "\n"
       ]
      }
     ],
     "prompt_number": 71
    },
    {
     "cell_type": "code",
     "collapsed": false,
     "input": [
      "txt = requests.get(\"http://api.elsevier.com/content/article/doi/10.1016/S0014-5793(01)03313-0?apiKey=e488d171b6f25a8092d9ac0f04f33dcf\")\n",
      "elem = ET.fromstring(unidecode(txt.text))\n",
      "#elem\n",
      "elem.find('{http://www.elsevier.com/xml/svapi/article/dtd}originalText').find('{http://www.elsevier.com/xml/xocs/dtd}doc').find('{http://www.elsevier.com/xml/xocs/dtd}serial-item').find('{http://www.elsevier.com/xml/ja/dtd}converted-article').find('{http://www.elsevier.com/xml/ja/dtd}body').find('{http://www.elsevier.com/xml/common/dtd}sections').findall('{http://www.elsevier.com/xml/common/dtd}section')\n",
      "#elem[6][0][1][0][3][0].tag\n"
     ],
     "language": "python",
     "metadata": {},
     "outputs": [
      {
       "metadata": {},
       "output_type": "pyout",
       "prompt_number": 61,
       "text": [
        "[<Element '{http://www.elsevier.com/xml/common/dtd}section' at 0x10ae49d10>,\n",
        " <Element '{http://www.elsevier.com/xml/common/dtd}section' at 0x10ae53750>,\n",
        " <Element '{http://www.elsevier.com/xml/common/dtd}section' at 0x10bd0f910>,\n",
        " <Element '{http://www.elsevier.com/xml/common/dtd}section' at 0x10bd20610>]"
       ]
      }
     ],
     "prompt_number": 61
    },
    {
     "cell_type": "code",
     "collapsed": false,
     "input": [
      "def print_xmls(abstract_xmls, citer_xmls, filename):\n",
      "    wb = xlrd.open_workbook(filename)\n",
      "    wb_copy = copy(wb) \n",
      "    sh = wb_copy.get_sheet(0)\n",
      "    row = 1\n",
      "    while row < 33:\n",
      "        rown = sh.row(row)\n",
      "        rown.write(34,abstract_xmls[row-1])\n",
      "        if citer_xmls[row-1] == 'N/A' or citer_xmls[row-1] == 'not in SCOPUS':\n",
      "            rown.write(35, citer_xmls[row-1])\n",
      "        else:\n",
      "            entry = 0\n",
      "            while entry < len(citer_xmls[row-1]):\n",
      "                rown.write(35+entry, citer_xmls[row-1][entry])\n",
      "                row = row + 1\n",
      "        print \"-\"\n",
      "    wb_copy.save(\"text.xls\")\n",
      "    \n",
      "    "
     ],
     "language": "python",
     "metadata": {},
     "outputs": [],
     "prompt_number": 107
    },
    {
     "cell_type": "code",
     "collapsed": false,
     "input": [],
     "language": "python",
     "metadata": {},
     "outputs": []
    }
   ],
   "metadata": {}
  }
 ]
}