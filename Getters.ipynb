{
 "metadata": {
  "name": "",
  "signature": "sha256:8a04d205b293f3e929bf0d5bfec777ae3c0d36617e3271b8e96d2f925803c4fa"
 },
 "nbformat": 3,
 "nbformat_minor": 0,
 "worksheets": [
  {
   "cells": [
    {
     "cell_type": "code",
     "collapsed": false,
     "input": [
      "import requests, json\n",
      "import urllib\n",
      "import xlrd\n",
      "import csv\n",
      "import xml.etree.ElementTree as ET\n",
      "from xml.etree.ElementTree import XMLParser\n",
      "from xml.etree.ElementTree import ParseError\n",
      "from   unidecode import *\n",
      "import sys\n",
      "import bs4\n",
      "csv.field_size_limit(sys.maxsize)\n",
      "\n",
      "\n",
      "base_url  = \"http://api.elsevier.com/content/abstract/doi/\"\n",
      "key       = \"e488d171b6f25a8092d9ac0f04f33dcf\"\n",
      "scidir_url = \"http://api.elsevier.com/content/article/doi:\"\n",
      "scidir_key = \"79c97d001fd795964a6084bf702e2c0a\""
     ],
     "language": "python",
     "metadata": {},
     "outputs": [],
     "prompt_number": 1
    },
    {
     "cell_type": "code",
     "collapsed": false,
     "input": [
      "def get_abstracts(doi_list):\n",
      "    ret = []\n",
      "    xmls = []\n",
      "    for doi in doi_list:\n",
      "        req = requests.get(base_url  + doi + '?apiKey=' + key)\n",
      "        text = unidecode(req.text)\n",
      "        elem = ET.fromstring(text)\n",
      "        if elem.tag != 'service-error':\n",
      "            ret.append(elem)\n",
      "            xmls.append(text)\n",
      "            print \"-\"\n",
      "        else:\n",
      "            ret.append('not in SCOPUS')\n",
      "            xmls.append('not in SCOPUS')\n",
      "    return (ret, xmls)"
     ],
     "language": "python",
     "metadata": {},
     "outputs": [],
     "prompt_number": 2
    },
    {
     "cell_type": "code",
     "collapsed": false,
     "input": [
      "def get_full_text_articles(doi_list):\n",
      "    ret = []\n",
      "    for doi in doi_list:\n",
      "        req = requests.get(scidir_url + urllib.quote(doi) + '?apiKey=' + scidir_key)\n",
      "        text = unidecode(req.text)\n",
      "        try:\n",
      "            elem = ET.fromstring(text)\n",
      "        except ET.ParseError:\n",
      "            print 'parseerror'\n",
      "            ret.append('parseerror')\n",
      "            continue\n",
      "        if elem.tag != 'service-error':\n",
      "            ret.append(text)\n",
      "        else: \n",
      "            ret.append('not in SCIDIR')\n",
      "    return ret"
     ],
     "language": "python",
     "metadata": {},
     "outputs": []
    }
   ],
   "metadata": {}
  }
 ]
}